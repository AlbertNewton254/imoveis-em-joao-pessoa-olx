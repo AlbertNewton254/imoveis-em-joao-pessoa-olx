{
 "cells": [
  {
   "cell_type": "markdown",
   "id": "d733fd06-cb36-492f-a1ee-8ce9bc518186",
   "metadata": {},
   "source": [
    "# Preços de imóveis em João Pessoa"
   ]
  },
  {
   "cell_type": "markdown",
   "id": "0109a672-d69f-447c-b162-7da829142264",
   "metadata": {},
   "source": [
    "## Introdução"
   ]
  },
  {
   "cell_type": "markdown",
   "id": "545e1c4e-53a9-4ccb-8e5a-dad44ded9299",
   "metadata": {},
   "source": [
    "Esta análise se baseia na raspagem de dados na OLX para a pesquisa <a href = \"https://www.olx.com.br/brasil?q=im%C3%B3veis%20em%20jo%C3%A3o%20pessoa&o=1\">imóveis em joão pessoa</a>, seguida de análise exploratória desses dados."
   ]
  },
  {
   "cell_type": "markdown",
   "id": "170e595c-b8e4-4efb-b564-d1b010ecb0c4",
   "metadata": {},
   "source": [
    "São empregadas para tanto as seguintes bibliotecas:"
   ]
  },
  {
   "cell_type": "markdown",
   "id": "6ce73f89-c9d8-4065-8da3-e7dae5fb2d39",
   "metadata": {},
   "source": [
    "- Requests para a realização de requisições HTTP;\n",
    "\n",
    "- time para intervalos entre requisições;\n",
    "\n",
    "- random para randomizar intervalos(otimização);\n",
    "\n",
    "- tqdm para controle de tempo;\n",
    "\n",
    "- BeautifulSoup para a extração de dados do html das páginas;\n",
    "\n",
    "- re para a filtragem mais fina desses dados;\n",
    "\n",
    "- Pandas para manipulação de dados em dataframes."
   ]
  },
  {
   "cell_type": "markdown",
   "id": "11c91d0a-f61f-4df4-a2d5-b92ae16f6d4e",
   "metadata": {},
   "source": [
    "## 1. Importar bibliotecas"
   ]
  },
  {
   "cell_type": "code",
   "execution_count": 88,
   "id": "c9b33799-56d5-45de-8835-902ead3dd693",
   "metadata": {},
   "outputs": [],
   "source": [
    "import requests\n",
    "import time\n",
    "from random import uniform\n",
    "from tqdm import tqdm\n",
    "from bs4 import BeautifulSoup\n",
    "import re\n",
    "import pandas as pd\n",
    "import csv"
   ]
  },
  {
   "cell_type": "markdown",
   "id": "8b0a0643-0f4f-4b60-bc79-fc4fe664ff23",
   "metadata": {},
   "source": [
    "## 2. Web scraping"
   ]
  },
  {
   "cell_type": "markdown",
   "id": "23d558ef-e21c-4af6-99a6-db71347b8237",
   "metadata": {},
   "source": [
    "A primeira parte de nossa análise será a extração de dados por scraping do site da OLX. Para tanto procederemos assim:\n",
    "\n",
    "1. Inicialmente varremos as páginas de pesquisa à procura dos links de cada um dos produtos;\n",
    "\n",
    "2. Depois, para cada produto, faremos a raspagem de suas informações em sua própria página."
   ]
  },
  {
   "cell_type": "code",
   "execution_count": 2,
   "id": "2dff5ac3-7564-48b3-8f7a-4d3882940a3b",
   "metadata": {},
   "outputs": [
    {
     "name": "stderr",
     "output_type": "stream",
     "text": [
      "Processando: 99/100 [Tempo restante: 00:03]"
     ]
    },
    {
     "name": "stdout",
     "output_type": "stream",
     "text": [
      "Processamento concluído! Total de produtos encontrados: 5000\n"
     ]
    },
    {
     "name": "stderr",
     "output_type": "stream",
     "text": [
      "\n"
     ]
    }
   ],
   "source": [
    "base_url = 'https://www.olx.com.br/brasil?q=im%C3%B3veis%20em%20jo%C3%A3o%20pessoa'\n",
    "\n",
    "headers = {\n",
    "    'User-Agent': 'Mozilla/5.0 (Windows NT 10.0; Win64; x64) AppleWebKit/537.36 (KHTML, like Gecko) Chrome/91.0.4472.124 Safari/537.36'\n",
    "}\n",
    "\n",
    "products_links = []\n",
    "max_consecutive_empty_pages = 3\n",
    "consecutive_empty_pages = 0\n",
    "page = 0\n",
    "\n",
    "# Criando o tqdm apenas para mostrar o tempo estimado\n",
    "pbar = tqdm(total=100, desc=\"Processando\", unit=\"página\", bar_format='{desc}: {n_fmt}/{total_fmt} [Tempo restante: {remaining}]')\n",
    "\n",
    "while True:\n",
    "    page += 1\n",
    "    \n",
    "    url = f\"{base_url}&o={page}\"\n",
    "\n",
    "    try:\n",
    "        search_response = requests.get(url, headers=headers)\n",
    "\n",
    "        if search_response.status_code == 200:\n",
    "            search_soup = BeautifulSoup(search_response.text, 'html.parser')\n",
    "\n",
    "            no_results_element = search_soup.find('div', class_='empty-list')\n",
    "            if no_results_element or 'Nenhum resultado encontrado' in search_response.text:\n",
    "                pbar.set_postfix_str(\"Não há mais resultados disponíveis\")\n",
    "                break\n",
    "\n",
    "            all_links = search_soup.find_all('a', class_='olx-adcard__link')\n",
    "            \n",
    "            if all_links:\n",
    "                consecutive_empty_pages = 0\n",
    "                for link in all_links:\n",
    "                    href = link.get('href')\n",
    "                    if href and href.startswith('http'):\n",
    "                        products_links.append(href)\n",
    "            else:\n",
    "                consecutive_empty_pages += 1\n",
    "                pbar.set_postfix_str(f\"Pág {page} vazia ({consecutive_empty_pages} consecutivas)\")\n",
    "                \n",
    "                if consecutive_empty_pages >= max_consecutive_empty_pages:\n",
    "                    pbar.set_postfix_str(f\"Parando após {max_consecutive_empty_pages} páginas vazias\")\n",
    "                    break\n",
    "\n",
    "        elif search_response.status_code == 404:\n",
    "            pbar.set_postfix_str(\"Página não encontrada (404)\")\n",
    "            break\n",
    "        else:\n",
    "            pbar.set_postfix_str(f\"Erro: {search_response.status_code}\")\n",
    "            \n",
    "    except Exception as e:\n",
    "        pbar.set_postfix_str(f\"Erro: {e}\")\n",
    "        \n",
    "    if page >= 100:\n",
    "        pbar.set_postfix_str(\"Limite de 100 páginas atingido\")\n",
    "        break\n",
    "\n",
    "    # Atualizar o progresso para calcular o tempo restante\n",
    "    pbar.update(1)\n",
    "    pbar.set_postfix_str(f\"Produtos: {len(products_links)}\")\n",
    "    \n",
    "    time.sleep(uniform(1, 3))\n",
    "\n",
    "pbar.close()\n",
    "print(f\"Processamento concluído! Total de produtos encontrados: {len(products_links)}\")"
   ]
  },
  {
   "cell_type": "markdown",
   "id": "e63179be-0840-4320-8d3d-ab28327618ef",
   "metadata": {},
   "source": [
    "Vejamos os dez primeiros links que coletamos:"
   ]
  },
  {
   "cell_type": "code",
   "execution_count": 3,
   "id": "2bc88587-3fe9-4082-9078-4b20074dcfa1",
   "metadata": {},
   "outputs": [
    {
     "data": {
      "text/plain": [
       "['https://pb.olx.com.br/paraiba/imoveis/imoveis-na-planta-em-joao-pessoa-1427390473',\n",
       " 'https://pb.olx.com.br/paraiba/imoveis/vendo-imoveis-de-alto-padrao-a-beira-mar-de-intermares-1399963055',\n",
       " 'https://pb.olx.com.br/paraiba/imoveis/imoveis-na-planta-1424880641',\n",
       " 'https://pb.olx.com.br/paraiba/imoveis/imoveis-exclusivos-1422666330',\n",
       " 'https://pb.olx.com.br/paraiba/servicos/imoveis-vende-ou-aluga-casa-apartamento-terreno-1348330489',\n",
       " 'https://pb.olx.com.br/paraiba/imoveis/alugo-imoveis-1418639984',\n",
       " 'https://pb.olx.com.br/paraiba/imoveis/apartamentos-para-venda-varios-imoveis-1425816782',\n",
       " 'https://pb.olx.com.br/paraiba/servicos/reforma-de-imoveis-em-joao-pessoa-pisos-pintura-e-outros-acabamentos-1424786399',\n",
       " 'https://pb.olx.com.br/paraiba/servicos/corretor-de-imoveis-em-joao-pessoa-1357257740',\n",
       " 'https://pb.olx.com.br/paraiba/servicos/seu-corretor-de-imoveis-perito-avaliador-em-joao-pessoa-1385905983']"
      ]
     },
     "execution_count": 3,
     "metadata": {},
     "output_type": "execute_result"
    }
   ],
   "source": [
    "products_links[0:10]"
   ]
  },
  {
   "cell_type": "markdown",
   "id": "49a0443c-aec7-496e-bda6-37fe67e7511e",
   "metadata": {},
   "source": [
    "São exatamente os dez links que aparecem na primeira página de busca! Vamos agora investigá-los individualmente:"
   ]
  },
  {
   "cell_type": "code",
   "execution_count": 4,
   "id": "068c664b-f432-4237-aa14-d48861a4558d",
   "metadata": {},
   "outputs": [
    {
     "name": "stderr",
     "output_type": "stream",
     "text": [
      "Processando produtos: 1015/5000 [Tempo restante: 7824:42:54]\n",
      "KeyboardInterrupt\n",
      "\n"
     ]
    }
   ],
   "source": [
    "all_products = []\n",
    "\n",
    "# Criando a barra de progresso tqdm\n",
    "pbar = tqdm(total=len(products_links), desc=\"Processando produtos\", unit=\"produto\", bar_format='{desc}: {n_fmt}/{total_fmt} [Tempo restante: {remaining}]')\n",
    "\n",
    "for i, link in enumerate(products_links, 1):\n",
    "    try:\n",
    "        product_response = requests.get(link, headers=headers, timeout=10)\n",
    "\n",
    "        if product_response.status_code == 200:\n",
    "            product_soup = BeautifulSoup(product_response.text, 'html.parser')\n",
    "\n",
    "            title_elem = product_soup.find('span', class_='olx-text olx-text--title-medium olx-text--block ad__sc-1l883pa-2 bdcWAn')\n",
    "            title = title_elem.text.strip() if title_elem else 'Não especificado'\n",
    "\n",
    "            location_div = product_soup.find('div', id='location')\n",
    "            if location_div:\n",
    "                location_elem = location_div.find('span', class_='olx-text olx-text--body-small olx-text--block olx-text--semibold olx-color-neutral-110')\n",
    "                location = location_elem.text.strip() if location_elem else 'Não especificado'\n",
    "            else:\n",
    "                location = 'Não especificado'\n",
    "            \n",
    "            price_div = product_soup.find('div', id='price-box-container')\n",
    "            if price_div:\n",
    "                price_elem = price_div.find('span', {'data-ds-component': 'DS-Text'})\n",
    "                price = price_elem.text.strip() if price_elem else 'Não especificado'\n",
    "                \n",
    "                product_type_elem = price_div.find('span', class_='olx-badge olx-badge--neutral olx-badge--small olx-badge--rectangle')\n",
    "                product_type = product_type_elem.text.strip() if product_type_elem else \"Não especificado\"\n",
    "            else:\n",
    "                price = 'Não especificado'\n",
    "                product_type = \"Não especificado\"\n",
    "\n",
    "            product_data = {\n",
    "                'title': title,\n",
    "                'location': location,\n",
    "                'price': price,\n",
    "                'product_type': product_type,\n",
    "                'link': link  \n",
    "            }\n",
    "\n",
    "            all_products.append(product_data)\n",
    "            \n",
    "            # Atualizar informações na barra de progresso\n",
    "            pbar.set_postfix_str(f\"Último: {title[:20]}...\")\n",
    "\n",
    "        else:\n",
    "            pbar.set_postfix_str(f\"Erro: Status {product_response.status_code}\")\n",
    "\n",
    "    except Exception as e:\n",
    "        pbar.set_postfix_str(f\"Erro: {str(e)[:20]}...\")\n",
    "    \n",
    "    # Atualizar o progresso\n",
    "    pbar.update(1)\n",
    "    time.sleep(uniform(2, 4))\n",
    "\n",
    "pbar.close()\n",
    "print(f\"Extração concluída! Total de produtos: {len(all_products)}\")"
   ]
  },
  {
   "cell_type": "code",
   "execution_count": null,
   "id": "f3a680ee-0f21-41b0-aa9b-f2d344494acb",
   "metadata": {
    "scrolled": true
   },
   "outputs": [],
   "source": [
    "all_products[0:10]"
   ]
  },
  {
   "cell_type": "markdown",
   "id": "a5b8480c-a555-4022-a8cb-655468a6d3f5",
   "metadata": {},
   "source": [
    "Estamos perto de um conjunto de dados minimamente bem tratado antes de começar a manipulação mais refinada deles. O que observamos é que temos elementos com dados faltantes na coluna de preços, e que esses, porém, são justamente o que **não** queremos incluir na nossa análise (corretores de imóveis se autopromovendo etc.). Isso, porém, pode e será corrigido na etapa de limpeza e tratamento de dados."
   ]
  },
  {
   "cell_type": "markdown",
   "id": "bab5f87b-705b-4cd5-8c00-948ef8789b86",
   "metadata": {},
   "source": [
    "Assim, passemos ao território do Pandas."
   ]
  },
  {
   "cell_type": "markdown",
   "id": "569fc723-6ed1-4999-b809-e23e360417e3",
   "metadata": {},
   "source": [
    "## 3. Tratamento e limpeza de dados"
   ]
  },
  {
   "cell_type": "code",
   "execution_count": 76,
   "id": "a68461ca-e688-497e-a16d-33733c7444fd",
   "metadata": {},
   "outputs": [],
   "source": [
    "df = pd.DataFrame(all_products)"
   ]
  },
  {
   "cell_type": "code",
   "execution_count": 77,
   "id": "d4dabb5a-c554-4ffd-a136-fc91e01952ce",
   "metadata": {},
   "outputs": [
    {
     "data": {
      "text/html": [
       "<div>\n",
       "<style scoped>\n",
       "    .dataframe tbody tr th:only-of-type {\n",
       "        vertical-align: middle;\n",
       "    }\n",
       "\n",
       "    .dataframe tbody tr th {\n",
       "        vertical-align: top;\n",
       "    }\n",
       "\n",
       "    .dataframe thead th {\n",
       "        text-align: right;\n",
       "    }\n",
       "</style>\n",
       "<table border=\"1\" class=\"dataframe\">\n",
       "  <thead>\n",
       "    <tr style=\"text-align: right;\">\n",
       "      <th></th>\n",
       "      <th>title</th>\n",
       "      <th>location</th>\n",
       "      <th>price</th>\n",
       "      <th>product_type</th>\n",
       "      <th>link</th>\n",
       "    </tr>\n",
       "  </thead>\n",
       "  <tbody>\n",
       "    <tr>\n",
       "      <th>0</th>\n",
       "      <td>Imóveis na planta em João Pessoa</td>\n",
       "      <td>Cabo Branco, João Pessoa, PB, 58045010</td>\n",
       "      <td>R$ 274.900</td>\n",
       "      <td>Venda</td>\n",
       "      <td>https://pb.olx.com.br/paraiba/imoveis/imoveis-...</td>\n",
       "    </tr>\n",
       "    <tr>\n",
       "      <th>1</th>\n",
       "      <td>Vendo Imóveis de Alto padrão a Beira Mar de In...</td>\n",
       "      <td>Ipês, João Pessoa, PB, 58028530</td>\n",
       "      <td>R$ 480.000</td>\n",
       "      <td>Venda</td>\n",
       "      <td>https://pb.olx.com.br/paraiba/imoveis/vendo-im...</td>\n",
       "    </tr>\n",
       "    <tr>\n",
       "      <th>2</th>\n",
       "      <td>Imóveis na Planta</td>\n",
       "      <td>Jardim Oceania, João Pessoa, PB, 58037030</td>\n",
       "      <td>R$ 416.234</td>\n",
       "      <td>Venda</td>\n",
       "      <td>https://pb.olx.com.br/paraiba/imoveis/imoveis-...</td>\n",
       "    </tr>\n",
       "    <tr>\n",
       "      <th>3</th>\n",
       "      <td>Imoveis exclusivos</td>\n",
       "      <td>Manaíra, João Pessoa, PB, 58038142</td>\n",
       "      <td>R$ 650.000</td>\n",
       "      <td>Venda</td>\n",
       "      <td>https://pb.olx.com.br/paraiba/imoveis/imoveis-...</td>\n",
       "    </tr>\n",
       "    <tr>\n",
       "      <th>4</th>\n",
       "      <td>IMOVEIS VENDE OU ALUGA CASA APARTAMENTO TERRENO</td>\n",
       "      <td>João Pessoa, PB, 58052030</td>\n",
       "      <td>Não especificado</td>\n",
       "      <td>Não especificado</td>\n",
       "      <td>https://pb.olx.com.br/paraiba/servicos/imoveis...</td>\n",
       "    </tr>\n",
       "  </tbody>\n",
       "</table>\n",
       "</div>"
      ],
      "text/plain": [
       "                                               title  \\\n",
       "0                   Imóveis na planta em João Pessoa   \n",
       "1  Vendo Imóveis de Alto padrão a Beira Mar de In...   \n",
       "2                                  Imóveis na Planta   \n",
       "3                                 Imoveis exclusivos   \n",
       "4    IMOVEIS VENDE OU ALUGA CASA APARTAMENTO TERRENO   \n",
       "\n",
       "                                    location             price  \\\n",
       "0     Cabo Branco, João Pessoa, PB, 58045010        R$ 274.900   \n",
       "1            Ipês, João Pessoa, PB, 58028530        R$ 480.000   \n",
       "2  Jardim Oceania, João Pessoa, PB, 58037030        R$ 416.234   \n",
       "3         Manaíra, João Pessoa, PB, 58038142        R$ 650.000   \n",
       "4                  João Pessoa, PB, 58052030  Não especificado   \n",
       "\n",
       "       product_type                                               link  \n",
       "0             Venda  https://pb.olx.com.br/paraiba/imoveis/imoveis-...  \n",
       "1             Venda  https://pb.olx.com.br/paraiba/imoveis/vendo-im...  \n",
       "2             Venda  https://pb.olx.com.br/paraiba/imoveis/imoveis-...  \n",
       "3             Venda  https://pb.olx.com.br/paraiba/imoveis/imoveis-...  \n",
       "4  Não especificado  https://pb.olx.com.br/paraiba/servicos/imoveis...  "
      ]
     },
     "execution_count": 77,
     "metadata": {},
     "output_type": "execute_result"
    }
   ],
   "source": [
    "df.head()"
   ]
  },
  {
   "cell_type": "code",
   "execution_count": 78,
   "id": "2b5ef513-0eff-4ec2-b9f7-88102020bcb8",
   "metadata": {},
   "outputs": [
    {
     "data": {
      "text/html": [
       "<div>\n",
       "<style scoped>\n",
       "    .dataframe tbody tr th:only-of-type {\n",
       "        vertical-align: middle;\n",
       "    }\n",
       "\n",
       "    .dataframe tbody tr th {\n",
       "        vertical-align: top;\n",
       "    }\n",
       "\n",
       "    .dataframe thead th {\n",
       "        text-align: right;\n",
       "    }\n",
       "</style>\n",
       "<table border=\"1\" class=\"dataframe\">\n",
       "  <thead>\n",
       "    <tr style=\"text-align: right;\">\n",
       "      <th></th>\n",
       "      <th>title</th>\n",
       "      <th>location</th>\n",
       "      <th>price</th>\n",
       "      <th>product_type</th>\n",
       "      <th>link</th>\n",
       "    </tr>\n",
       "  </thead>\n",
       "  <tbody>\n",
       "    <tr>\n",
       "      <th>950</th>\n",
       "      <td>Oportunidade Única em JOAO PESSOA - PB | Tipo:...</td>\n",
       "      <td>João Pessoa, PB, 58069260</td>\n",
       "      <td>R$ 79.360</td>\n",
       "      <td>Venda</td>\n",
       "      <td>https://pb.olx.com.br/paraiba/imoveis/oportuni...</td>\n",
       "    </tr>\n",
       "    <tr>\n",
       "      <th>951</th>\n",
       "      <td>Oportunidade Única em JOAO PESSOA - PB | Tipo:...</td>\n",
       "      <td>João Pessoa, PB, 58066100</td>\n",
       "      <td>R$ 79.939</td>\n",
       "      <td>Venda</td>\n",
       "      <td>https://pb.olx.com.br/paraiba/imoveis/oportuni...</td>\n",
       "    </tr>\n",
       "    <tr>\n",
       "      <th>952</th>\n",
       "      <td>Oportunidade Única em JOAO PESSOA - PB | Tipo:...</td>\n",
       "      <td>João Pessoa, PB, 58062349</td>\n",
       "      <td>R$ 69.889</td>\n",
       "      <td>Venda</td>\n",
       "      <td>https://pb.olx.com.br/paraiba/imoveis/oportuni...</td>\n",
       "    </tr>\n",
       "    <tr>\n",
       "      <th>953</th>\n",
       "      <td>Oportunidade Única em JOAO PESSOA - PB | Tipo:...</td>\n",
       "      <td>João Pessoa, PB, 58052130</td>\n",
       "      <td>R$ 121.021</td>\n",
       "      <td>Venda</td>\n",
       "      <td>https://pb.olx.com.br/paraiba/imoveis/oportuni...</td>\n",
       "    </tr>\n",
       "    <tr>\n",
       "      <th>954</th>\n",
       "      <td>Oportunidade Única em JOAO PESSOA - PB | Tipo:...</td>\n",
       "      <td>João Pessoa, PB, 58080020</td>\n",
       "      <td>R$ 71.080</td>\n",
       "      <td>Venda</td>\n",
       "      <td>https://pb.olx.com.br/paraiba/imoveis/oportuni...</td>\n",
       "    </tr>\n",
       "  </tbody>\n",
       "</table>\n",
       "</div>"
      ],
      "text/plain": [
       "                                                 title  \\\n",
       "950  Oportunidade Única em JOAO PESSOA - PB | Tipo:...   \n",
       "951  Oportunidade Única em JOAO PESSOA - PB | Tipo:...   \n",
       "952  Oportunidade Única em JOAO PESSOA - PB | Tipo:...   \n",
       "953  Oportunidade Única em JOAO PESSOA - PB | Tipo:...   \n",
       "954  Oportunidade Única em JOAO PESSOA - PB | Tipo:...   \n",
       "\n",
       "                      location       price product_type  \\\n",
       "950  João Pessoa, PB, 58069260   R$ 79.360        Venda   \n",
       "951  João Pessoa, PB, 58066100   R$ 79.939        Venda   \n",
       "952  João Pessoa, PB, 58062349   R$ 69.889        Venda   \n",
       "953  João Pessoa, PB, 58052130  R$ 121.021        Venda   \n",
       "954  João Pessoa, PB, 58080020   R$ 71.080        Venda   \n",
       "\n",
       "                                                  link  \n",
       "950  https://pb.olx.com.br/paraiba/imoveis/oportuni...  \n",
       "951  https://pb.olx.com.br/paraiba/imoveis/oportuni...  \n",
       "952  https://pb.olx.com.br/paraiba/imoveis/oportuni...  \n",
       "953  https://pb.olx.com.br/paraiba/imoveis/oportuni...  \n",
       "954  https://pb.olx.com.br/paraiba/imoveis/oportuni...  "
      ]
     },
     "execution_count": 78,
     "metadata": {},
     "output_type": "execute_result"
    }
   ],
   "source": [
    "df.tail()"
   ]
  },
  {
   "cell_type": "markdown",
   "id": "66f96ef7-c922-4cd9-8c92-3fb90eed6319",
   "metadata": {},
   "source": [
    "Vamos analisar os tipos de dados:"
   ]
  },
  {
   "cell_type": "code",
   "execution_count": 79,
   "id": "fa4e7cf8-0e1e-4329-ae48-680716ca7763",
   "metadata": {},
   "outputs": [
    {
     "name": "stdout",
     "output_type": "stream",
     "text": [
      "<class 'pandas.core.frame.DataFrame'>\n",
      "RangeIndex: 955 entries, 0 to 954\n",
      "Data columns (total 5 columns):\n",
      " #   Column        Non-Null Count  Dtype \n",
      "---  ------        --------------  ----- \n",
      " 0   title         955 non-null    object\n",
      " 1   location      955 non-null    object\n",
      " 2   price         955 non-null    object\n",
      " 3   product_type  955 non-null    object\n",
      " 4   link          955 non-null    object\n",
      "dtypes: object(5)\n",
      "memory usage: 37.4+ KB\n"
     ]
    }
   ],
   "source": [
    "df.info()"
   ]
  },
  {
   "cell_type": "markdown",
   "id": "a6b7808e-afdc-4263-92c7-040478f60fc6",
   "metadata": {},
   "source": [
    "Vamos logo resolver a questão da limpeza de dados quanto aos preços:"
   ]
  },
  {
   "cell_type": "code",
   "execution_count": 80,
   "id": "66bc943c-0e58-407e-8dfb-9761f7c65286",
   "metadata": {},
   "outputs": [],
   "source": [
    "price_regex = r'R\\$\\s*\\d{1,3}(?:\\.d{3})*(?:\\,d{2})?'\n",
    "\n",
    "invalid_mask = ~df['price'].apply(lambda x: bool(re.search(price_regex, str(x), re.IGNORECASE)))\n",
    "df.drop(df[invalid_mask].index, inplace=True)\n",
    "\n",
    "df['price'] = df['price'].str.replace('R$ ', '')\n",
    "df['price'] = df['price'].str.replace('.', '')\n",
    "df['price'] = df['price'].str.replace(',', '.')\n",
    "df['price'] = df['price'].astype('float64')"
   ]
  },
  {
   "cell_type": "code",
   "execution_count": 81,
   "id": "e25110ff-18ee-49d3-b2fe-f9a3ee4ebebb",
   "metadata": {},
   "outputs": [
    {
     "data": {
      "text/html": [
       "<div>\n",
       "<style scoped>\n",
       "    .dataframe tbody tr th:only-of-type {\n",
       "        vertical-align: middle;\n",
       "    }\n",
       "\n",
       "    .dataframe tbody tr th {\n",
       "        vertical-align: top;\n",
       "    }\n",
       "\n",
       "    .dataframe thead th {\n",
       "        text-align: right;\n",
       "    }\n",
       "</style>\n",
       "<table border=\"1\" class=\"dataframe\">\n",
       "  <thead>\n",
       "    <tr style=\"text-align: right;\">\n",
       "      <th></th>\n",
       "      <th>title</th>\n",
       "      <th>location</th>\n",
       "      <th>price</th>\n",
       "      <th>product_type</th>\n",
       "      <th>link</th>\n",
       "    </tr>\n",
       "  </thead>\n",
       "  <tbody>\n",
       "    <tr>\n",
       "      <th>0</th>\n",
       "      <td>Imóveis na planta em João Pessoa</td>\n",
       "      <td>Cabo Branco, João Pessoa, PB, 58045010</td>\n",
       "      <td>274900.0</td>\n",
       "      <td>Venda</td>\n",
       "      <td>https://pb.olx.com.br/paraiba/imoveis/imoveis-...</td>\n",
       "    </tr>\n",
       "    <tr>\n",
       "      <th>1</th>\n",
       "      <td>Vendo Imóveis de Alto padrão a Beira Mar de In...</td>\n",
       "      <td>Ipês, João Pessoa, PB, 58028530</td>\n",
       "      <td>480000.0</td>\n",
       "      <td>Venda</td>\n",
       "      <td>https://pb.olx.com.br/paraiba/imoveis/vendo-im...</td>\n",
       "    </tr>\n",
       "    <tr>\n",
       "      <th>2</th>\n",
       "      <td>Imóveis na Planta</td>\n",
       "      <td>Jardim Oceania, João Pessoa, PB, 58037030</td>\n",
       "      <td>416234.0</td>\n",
       "      <td>Venda</td>\n",
       "      <td>https://pb.olx.com.br/paraiba/imoveis/imoveis-...</td>\n",
       "    </tr>\n",
       "    <tr>\n",
       "      <th>3</th>\n",
       "      <td>Imoveis exclusivos</td>\n",
       "      <td>Manaíra, João Pessoa, PB, 58038142</td>\n",
       "      <td>650000.0</td>\n",
       "      <td>Venda</td>\n",
       "      <td>https://pb.olx.com.br/paraiba/imoveis/imoveis-...</td>\n",
       "    </tr>\n",
       "    <tr>\n",
       "      <th>5</th>\n",
       "      <td>ALUGO IMÓVEIS</td>\n",
       "      <td>Treze de Maio, João Pessoa, PB, 58025430</td>\n",
       "      <td>800.0</td>\n",
       "      <td>Aluguel</td>\n",
       "      <td>https://pb.olx.com.br/paraiba/imoveis/alugo-im...</td>\n",
       "    </tr>\n",
       "    <tr>\n",
       "      <th>...</th>\n",
       "      <td>...</td>\n",
       "      <td>...</td>\n",
       "      <td>...</td>\n",
       "      <td>...</td>\n",
       "      <td>...</td>\n",
       "    </tr>\n",
       "    <tr>\n",
       "      <th>950</th>\n",
       "      <td>Oportunidade Única em JOAO PESSOA - PB | Tipo:...</td>\n",
       "      <td>João Pessoa, PB, 58069260</td>\n",
       "      <td>79360.0</td>\n",
       "      <td>Venda</td>\n",
       "      <td>https://pb.olx.com.br/paraiba/imoveis/oportuni...</td>\n",
       "    </tr>\n",
       "    <tr>\n",
       "      <th>951</th>\n",
       "      <td>Oportunidade Única em JOAO PESSOA - PB | Tipo:...</td>\n",
       "      <td>João Pessoa, PB, 58066100</td>\n",
       "      <td>79939.0</td>\n",
       "      <td>Venda</td>\n",
       "      <td>https://pb.olx.com.br/paraiba/imoveis/oportuni...</td>\n",
       "    </tr>\n",
       "    <tr>\n",
       "      <th>952</th>\n",
       "      <td>Oportunidade Única em JOAO PESSOA - PB | Tipo:...</td>\n",
       "      <td>João Pessoa, PB, 58062349</td>\n",
       "      <td>69889.0</td>\n",
       "      <td>Venda</td>\n",
       "      <td>https://pb.olx.com.br/paraiba/imoveis/oportuni...</td>\n",
       "    </tr>\n",
       "    <tr>\n",
       "      <th>953</th>\n",
       "      <td>Oportunidade Única em JOAO PESSOA - PB | Tipo:...</td>\n",
       "      <td>João Pessoa, PB, 58052130</td>\n",
       "      <td>121021.0</td>\n",
       "      <td>Venda</td>\n",
       "      <td>https://pb.olx.com.br/paraiba/imoveis/oportuni...</td>\n",
       "    </tr>\n",
       "    <tr>\n",
       "      <th>954</th>\n",
       "      <td>Oportunidade Única em JOAO PESSOA - PB | Tipo:...</td>\n",
       "      <td>João Pessoa, PB, 58080020</td>\n",
       "      <td>71080.0</td>\n",
       "      <td>Venda</td>\n",
       "      <td>https://pb.olx.com.br/paraiba/imoveis/oportuni...</td>\n",
       "    </tr>\n",
       "  </tbody>\n",
       "</table>\n",
       "<p>939 rows × 5 columns</p>\n",
       "</div>"
      ],
      "text/plain": [
       "                                                 title  \\\n",
       "0                     Imóveis na planta em João Pessoa   \n",
       "1    Vendo Imóveis de Alto padrão a Beira Mar de In...   \n",
       "2                                    Imóveis na Planta   \n",
       "3                                   Imoveis exclusivos   \n",
       "5                                        ALUGO IMÓVEIS   \n",
       "..                                                 ...   \n",
       "950  Oportunidade Única em JOAO PESSOA - PB | Tipo:...   \n",
       "951  Oportunidade Única em JOAO PESSOA - PB | Tipo:...   \n",
       "952  Oportunidade Única em JOAO PESSOA - PB | Tipo:...   \n",
       "953  Oportunidade Única em JOAO PESSOA - PB | Tipo:...   \n",
       "954  Oportunidade Única em JOAO PESSOA - PB | Tipo:...   \n",
       "\n",
       "                                      location     price product_type  \\\n",
       "0       Cabo Branco, João Pessoa, PB, 58045010  274900.0        Venda   \n",
       "1              Ipês, João Pessoa, PB, 58028530  480000.0        Venda   \n",
       "2    Jardim Oceania, João Pessoa, PB, 58037030  416234.0        Venda   \n",
       "3           Manaíra, João Pessoa, PB, 58038142  650000.0        Venda   \n",
       "5     Treze de Maio, João Pessoa, PB, 58025430     800.0      Aluguel   \n",
       "..                                         ...       ...          ...   \n",
       "950                  João Pessoa, PB, 58069260   79360.0        Venda   \n",
       "951                  João Pessoa, PB, 58066100   79939.0        Venda   \n",
       "952                  João Pessoa, PB, 58062349   69889.0        Venda   \n",
       "953                  João Pessoa, PB, 58052130  121021.0        Venda   \n",
       "954                  João Pessoa, PB, 58080020   71080.0        Venda   \n",
       "\n",
       "                                                  link  \n",
       "0    https://pb.olx.com.br/paraiba/imoveis/imoveis-...  \n",
       "1    https://pb.olx.com.br/paraiba/imoveis/vendo-im...  \n",
       "2    https://pb.olx.com.br/paraiba/imoveis/imoveis-...  \n",
       "3    https://pb.olx.com.br/paraiba/imoveis/imoveis-...  \n",
       "5    https://pb.olx.com.br/paraiba/imoveis/alugo-im...  \n",
       "..                                                 ...  \n",
       "950  https://pb.olx.com.br/paraiba/imoveis/oportuni...  \n",
       "951  https://pb.olx.com.br/paraiba/imoveis/oportuni...  \n",
       "952  https://pb.olx.com.br/paraiba/imoveis/oportuni...  \n",
       "953  https://pb.olx.com.br/paraiba/imoveis/oportuni...  \n",
       "954  https://pb.olx.com.br/paraiba/imoveis/oportuni...  \n",
       "\n",
       "[939 rows x 5 columns]"
      ]
     },
     "execution_count": 81,
     "metadata": {},
     "output_type": "execute_result"
    }
   ],
   "source": [
    "df"
   ]
  },
  {
   "cell_type": "code",
   "execution_count": 94,
   "id": "99f58dd7-4453-4682-8099-5ceea19a94d9",
   "metadata": {},
   "outputs": [],
   "source": [
    "df['title'] = df['title'].apply(lambda x: x.lower())"
   ]
  },
  {
   "cell_type": "code",
   "execution_count": 83,
   "id": "8b6c2375-6ac0-4293-9d17-fedcbec070bb",
   "metadata": {},
   "outputs": [],
   "source": [
    "df['location'] = df['location'].str.extract(r'(\\d{8})')"
   ]
  },
  {
   "cell_type": "code",
   "execution_count": 84,
   "id": "e31142e9-25ad-4c53-93da-bdc120521871",
   "metadata": {},
   "outputs": [],
   "source": [
    "df = df.rename(columns = {'location': 'cep'})"
   ]
  },
  {
   "cell_type": "code",
   "execution_count": 85,
   "id": "c08c35f6-f87c-4e07-99f8-9e3f43448585",
   "metadata": {},
   "outputs": [
    {
     "data": {
      "text/html": [
       "<div>\n",
       "<style scoped>\n",
       "    .dataframe tbody tr th:only-of-type {\n",
       "        vertical-align: middle;\n",
       "    }\n",
       "\n",
       "    .dataframe tbody tr th {\n",
       "        vertical-align: top;\n",
       "    }\n",
       "\n",
       "    .dataframe thead th {\n",
       "        text-align: right;\n",
       "    }\n",
       "</style>\n",
       "<table border=\"1\" class=\"dataframe\">\n",
       "  <thead>\n",
       "    <tr style=\"text-align: right;\">\n",
       "      <th></th>\n",
       "      <th>title</th>\n",
       "      <th>cep</th>\n",
       "      <th>price</th>\n",
       "      <th>product_type</th>\n",
       "      <th>link</th>\n",
       "    </tr>\n",
       "  </thead>\n",
       "  <tbody>\n",
       "    <tr>\n",
       "      <th>0</th>\n",
       "      <td>imóveis na planta em joão pessoa</td>\n",
       "      <td>58045010</td>\n",
       "      <td>274900.0</td>\n",
       "      <td>Venda</td>\n",
       "      <td>https://pb.olx.com.br/paraiba/imoveis/imoveis-...</td>\n",
       "    </tr>\n",
       "    <tr>\n",
       "      <th>1</th>\n",
       "      <td>vendo imóveis de alto padrão a beira mar de in...</td>\n",
       "      <td>58028530</td>\n",
       "      <td>480000.0</td>\n",
       "      <td>Venda</td>\n",
       "      <td>https://pb.olx.com.br/paraiba/imoveis/vendo-im...</td>\n",
       "    </tr>\n",
       "    <tr>\n",
       "      <th>2</th>\n",
       "      <td>imóveis na planta</td>\n",
       "      <td>58037030</td>\n",
       "      <td>416234.0</td>\n",
       "      <td>Venda</td>\n",
       "      <td>https://pb.olx.com.br/paraiba/imoveis/imoveis-...</td>\n",
       "    </tr>\n",
       "    <tr>\n",
       "      <th>3</th>\n",
       "      <td>imoveis exclusivos</td>\n",
       "      <td>58038142</td>\n",
       "      <td>650000.0</td>\n",
       "      <td>Venda</td>\n",
       "      <td>https://pb.olx.com.br/paraiba/imoveis/imoveis-...</td>\n",
       "    </tr>\n",
       "    <tr>\n",
       "      <th>5</th>\n",
       "      <td>alugo imóveis</td>\n",
       "      <td>58025430</td>\n",
       "      <td>800.0</td>\n",
       "      <td>Aluguel</td>\n",
       "      <td>https://pb.olx.com.br/paraiba/imoveis/alugo-im...</td>\n",
       "    </tr>\n",
       "    <tr>\n",
       "      <th>...</th>\n",
       "      <td>...</td>\n",
       "      <td>...</td>\n",
       "      <td>...</td>\n",
       "      <td>...</td>\n",
       "      <td>...</td>\n",
       "    </tr>\n",
       "    <tr>\n",
       "      <th>950</th>\n",
       "      <td>oportunidade única em joao pessoa - pb | tipo:...</td>\n",
       "      <td>58069260</td>\n",
       "      <td>79360.0</td>\n",
       "      <td>Venda</td>\n",
       "      <td>https://pb.olx.com.br/paraiba/imoveis/oportuni...</td>\n",
       "    </tr>\n",
       "    <tr>\n",
       "      <th>951</th>\n",
       "      <td>oportunidade única em joao pessoa - pb | tipo:...</td>\n",
       "      <td>58066100</td>\n",
       "      <td>79939.0</td>\n",
       "      <td>Venda</td>\n",
       "      <td>https://pb.olx.com.br/paraiba/imoveis/oportuni...</td>\n",
       "    </tr>\n",
       "    <tr>\n",
       "      <th>952</th>\n",
       "      <td>oportunidade única em joao pessoa - pb | tipo:...</td>\n",
       "      <td>58062349</td>\n",
       "      <td>69889.0</td>\n",
       "      <td>Venda</td>\n",
       "      <td>https://pb.olx.com.br/paraiba/imoveis/oportuni...</td>\n",
       "    </tr>\n",
       "    <tr>\n",
       "      <th>953</th>\n",
       "      <td>oportunidade única em joao pessoa - pb | tipo:...</td>\n",
       "      <td>58052130</td>\n",
       "      <td>121021.0</td>\n",
       "      <td>Venda</td>\n",
       "      <td>https://pb.olx.com.br/paraiba/imoveis/oportuni...</td>\n",
       "    </tr>\n",
       "    <tr>\n",
       "      <th>954</th>\n",
       "      <td>oportunidade única em joao pessoa - pb | tipo:...</td>\n",
       "      <td>58080020</td>\n",
       "      <td>71080.0</td>\n",
       "      <td>Venda</td>\n",
       "      <td>https://pb.olx.com.br/paraiba/imoveis/oportuni...</td>\n",
       "    </tr>\n",
       "  </tbody>\n",
       "</table>\n",
       "<p>939 rows × 5 columns</p>\n",
       "</div>"
      ],
      "text/plain": [
       "                                                 title       cep     price  \\\n",
       "0                     imóveis na planta em joão pessoa  58045010  274900.0   \n",
       "1    vendo imóveis de alto padrão a beira mar de in...  58028530  480000.0   \n",
       "2                                    imóveis na planta  58037030  416234.0   \n",
       "3                                   imoveis exclusivos  58038142  650000.0   \n",
       "5                                        alugo imóveis  58025430     800.0   \n",
       "..                                                 ...       ...       ...   \n",
       "950  oportunidade única em joao pessoa - pb | tipo:...  58069260   79360.0   \n",
       "951  oportunidade única em joao pessoa - pb | tipo:...  58066100   79939.0   \n",
       "952  oportunidade única em joao pessoa - pb | tipo:...  58062349   69889.0   \n",
       "953  oportunidade única em joao pessoa - pb | tipo:...  58052130  121021.0   \n",
       "954  oportunidade única em joao pessoa - pb | tipo:...  58080020   71080.0   \n",
       "\n",
       "    product_type                                               link  \n",
       "0          Venda  https://pb.olx.com.br/paraiba/imoveis/imoveis-...  \n",
       "1          Venda  https://pb.olx.com.br/paraiba/imoveis/vendo-im...  \n",
       "2          Venda  https://pb.olx.com.br/paraiba/imoveis/imoveis-...  \n",
       "3          Venda  https://pb.olx.com.br/paraiba/imoveis/imoveis-...  \n",
       "5        Aluguel  https://pb.olx.com.br/paraiba/imoveis/alugo-im...  \n",
       "..           ...                                                ...  \n",
       "950        Venda  https://pb.olx.com.br/paraiba/imoveis/oportuni...  \n",
       "951        Venda  https://pb.olx.com.br/paraiba/imoveis/oportuni...  \n",
       "952        Venda  https://pb.olx.com.br/paraiba/imoveis/oportuni...  \n",
       "953        Venda  https://pb.olx.com.br/paraiba/imoveis/oportuni...  \n",
       "954        Venda  https://pb.olx.com.br/paraiba/imoveis/oportuni...  \n",
       "\n",
       "[939 rows x 5 columns]"
      ]
     },
     "execution_count": 85,
     "metadata": {},
     "output_type": "execute_result"
    }
   ],
   "source": [
    "df"
   ]
  },
  {
   "cell_type": "code",
   "execution_count": 93,
   "id": "1a75485c-c8c9-49ac-81c8-7c682bca80ab",
   "metadata": {},
   "outputs": [],
   "source": [
    "df = df.replace(',', '')"
   ]
  },
  {
   "cell_type": "code",
   "execution_count": 100,
   "id": "bc352ed9-6f3a-4911-bf58-a7dec08db1a6",
   "metadata": {},
   "outputs": [],
   "source": [
    "df.to_csv('data.csv', sep = ',', escapechar = '\\\\')"
   ]
  }
 ],
 "metadata": {
  "kernelspec": {
   "display_name": "Python 3 (ipykernel)",
   "language": "python",
   "name": "python3"
  },
  "language_info": {
   "codemirror_mode": {
    "name": "ipython",
    "version": 3
   },
   "file_extension": ".py",
   "mimetype": "text/x-python",
   "name": "python",
   "nbconvert_exporter": "python",
   "pygments_lexer": "ipython3",
   "version": "3.10.18"
  }
 },
 "nbformat": 4,
 "nbformat_minor": 5
}
