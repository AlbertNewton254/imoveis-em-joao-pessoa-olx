{
 "cells": [
  {
   "cell_type": "markdown",
   "id": "d733fd06-cb36-492f-a1ee-8ce9bc518186",
   "metadata": {},
   "source": [
    "# Preços de imóveis em João Pessoa"
   ]
  },
  {
   "cell_type": "markdown",
   "id": "0109a672-d69f-447c-b162-7da829142264",
   "metadata": {},
   "source": [
    "## Introdução"
   ]
  },
  {
   "cell_type": "markdown",
   "id": "545e1c4e-53a9-4ccb-8e5a-dad44ded9299",
   "metadata": {},
   "source": [
    "Esta análise se baseia na raspagem de dados na OLX para a pesquisa <a href = \"https://www.olx.com.br/brasil?q=im%C3%B3veis%20em%20jo%C3%A3o%20pessoa&o=1\">imóveis em joão pessoa</a>, seguida de análise exploratória desses dados."
   ]
  },
  {
   "cell_type": "markdown",
   "id": "170e595c-b8e4-4efb-b564-d1b010ecb0c4",
   "metadata": {},
   "source": [
    "São empregadas para tanto as seguintes bibliotecas:"
   ]
  },
  {
   "cell_type": "markdown",
   "id": "6ce73f89-c9d8-4065-8da3-e7dae5fb2d39",
   "metadata": {},
   "source": [
    "- Requests para a realização de requisições HTTP;\n",
    "\n",
    "- time para intervalos entre requisições;\n",
    "\n",
    "- random para randomizar intervalos(otimização);\n",
    "\n",
    "- tqdm para controle de tempo;\n",
    "\n",
    "- BeautifulSoup para a extração de dados do html das páginas;\n",
    "\n",
    "- csv para salvar informações da última sessão de scraping;\n",
    "\n",
    "- re para a filtragem mais fina desses dados;\n",
    "\n",
    "- Pandas para manipulação de dados em dataframes."
   ]
  },
  {
   "cell_type": "markdown",
   "id": "11c91d0a-f61f-4df4-a2d5-b92ae16f6d4e",
   "metadata": {},
   "source": [
    "## 1. Importar bibliotecas"
   ]
  },
  {
   "cell_type": "code",
   "execution_count": 1,
   "id": "c9b33799-56d5-45de-8835-902ead3dd693",
   "metadata": {},
   "outputs": [],
   "source": [
    "import requests\n",
    "import time\n",
    "from random import uniform\n",
    "from tqdm.notebook import tqdm\n",
    "from bs4 import BeautifulSoup\n",
    "import csv\n",
    "import re\n",
    "import pandas as pd\n",
    "import plotly.express as px"
   ]
  },
  {
   "cell_type": "markdown",
   "id": "8b0a0643-0f4f-4b60-bc79-fc4fe664ff23",
   "metadata": {},
   "source": [
    "## 2. Web scraping"
   ]
  },
  {
   "cell_type": "markdown",
   "id": "23d558ef-e21c-4af6-99a6-db71347b8237",
   "metadata": {},
   "source": [
    "A primeira parte de nossa análise será a extração de dados por scraping do site da OLX. Para tanto procederemos assim:\n",
    "\n",
    "1. Inicialmente varremos as páginas de pesquisa à procura dos links de cada um dos produtos;\n",
    "\n",
    "2. Depois, para cada produto, faremos a raspagem de suas informações em sua própria página."
   ]
  },
  {
   "cell_type": "code",
   "execution_count": 2,
   "id": "2dff5ac3-7564-48b3-8f7a-4d3882940a3b",
   "metadata": {},
   "outputs": [
    {
     "name": "stdout",
     "output_type": "stream",
     "text": [
      "Ultima pagina processada: 0\n",
      "Produtos existentes: 0\n"
     ]
    },
    {
     "data": {
      "application/vnd.jupyter.widget-view+json": {
       "model_id": "7f459e5894ed4280a4418a2515f88184",
       "version_major": 2,
       "version_minor": 0
      },
      "text/plain": [
       "Processando paginas: 0/10 [Tempo restante: ?]"
      ]
     },
     "metadata": {},
     "output_type": "display_data"
    },
    {
     "name": "stdout",
     "output_type": "stream",
     "text": [
      "Processamento concluido!\n",
      "Paginas verificadas: 10\n",
      "Novos produtos: 500\n",
      "Paginas com novos produtos: 10\n"
     ]
    }
   ],
   "source": [
    "base_url = 'https://www.olx.com.br/brasil?q=imoveis%20em%20joao%20pessoa'\n",
    "headers = {'User-Agent': 'Mozilla/5.0 (Windows NT 10.0; Win64; x64) AppleWebKit/537.36'}\n",
    "\n",
    "csv_filename = 'paginas_processadas.csv'\n",
    "detailed_csv_filename = 'detalhes_paginas_processadas.csv'\n",
    "products_filename = 'produtos_coletados.csv'\n",
    "\n",
    "# Função para ler produtos já coletados\n",
    "def get_existing_products():\n",
    "    existing_products = set()\n",
    "    try:\n",
    "        with open(products_filename, 'r', encoding='utf-8') as f:\n",
    "            reader = csv.DictReader(f)\n",
    "            for row in reader:\n",
    "                existing_products.add(row['url'])\n",
    "    except FileNotFoundError:\n",
    "        pass\n",
    "    return existing_products\n",
    "\n",
    "# Função para ler páginas processadas\n",
    "def get_processed_pages():\n",
    "    processed_pages = set()\n",
    "    try:\n",
    "        with open(detailed_csv_filename, 'r', encoding='utf-8') as f:\n",
    "            reader = csv.DictReader(f)\n",
    "            for row in reader:\n",
    "                processed_pages.add(int(row['numero_pagina']))\n",
    "        return processed_pages, max(processed_pages) if processed_pages else 0\n",
    "    except FileNotFoundError:\n",
    "        return set(), 0\n",
    "\n",
    "# Obter dados existentes\n",
    "existing_products = get_existing_products()\n",
    "processed_pages, last_processed_page = get_processed_pages()\n",
    "\n",
    "print(f\"Ultima pagina processada: {last_processed_page}\")\n",
    "print(f\"Produtos existentes: {len(existing_products)}\")\n",
    "\n",
    "# Definir intervalo de verificação\n",
    "start_check = 1\n",
    "end_check = last_processed_page + 10 if last_processed_page > 0 else 10\n",
    "pages_to_check = list(range(start_check, end_check + 1))\n",
    "\n",
    "products_links = []\n",
    "processed_pages_info = []\n",
    "successful_pages = 0\n",
    "\n",
    "# Processamento único com verificação inteligente\n",
    "pbar = tqdm(pages_to_check, desc=\"Processando paginas\", unit=\"pagina\",\n",
    "            bar_format='{desc}: {n_fmt}/{total_fmt} [Tempo restante: {remaining}]')\n",
    "\n",
    "for page in pbar:\n",
    "    url = f\"{base_url}&o={page}\"\n",
    "    pbar.set_postfix_str(f\"Pag {page} | Novos: {len(products_links)}\")\n",
    "\n",
    "    try:\n",
    "        response = requests.get(url, headers=headers, timeout=15)\n",
    "        \n",
    "        if response.status_code == 200:\n",
    "            soup = BeautifulSoup(response.text, 'html.parser')\n",
    "            \n",
    "            # Verificar se página tem resultados\n",
    "            if soup.find('div', class_='empty-list') or 'Nenhum resultado encontrado' in response.text:\n",
    "                pbar.set_postfix_str(f\"Pag {page} sem resultados\")\n",
    "                page_links = []\n",
    "            else:\n",
    "                # Coletar links da página\n",
    "                page_links = []\n",
    "                for link in soup.find_all('a', class_='olx-adcard__link'):\n",
    "                    href = link.get('href')\n",
    "                    if href and href.startswith('http') and href not in existing_products:\n",
    "                        page_links.append(href)\n",
    "                        products_links.append({\n",
    "                            'url': href,\n",
    "                            'pagina': page,\n",
    "                            'data_coleta': time.strftime('%Y-%m-%d %H:%M:%S')\n",
    "                        })\n",
    "                \n",
    "                if page_links:\n",
    "                    successful_pages += 1\n",
    "                    pbar.set_postfix_str(f\"Pag {page} | +{len(page_links)} novos\")\n",
    "                else:\n",
    "                    pbar.set_postfix_str(f\"Pag {page} | Sem novos produtos\")\n",
    "\n",
    "            # Registrar informação da página (mesmo sem novos produtos)\n",
    "            processed_pages_info.append({\n",
    "                'numero_pagina': page,  # Corrigido para match com fieldnames\n",
    "                'status': \"Sucesso\" if response.status_code == 200 and page_links else \"Sem novos\",\n",
    "                'produtos_encontrados': len(page_links),  # Corrigido para match com fieldnames\n",
    "                'data_processamento': time.strftime('%Y-%m-%d %H:%M:%S')\n",
    "            })\n",
    "\n",
    "        else:\n",
    "            pbar.set_postfix_str(f\"Pag {page} erro: {response.status_code}\")\n",
    "            processed_pages_info.append({\n",
    "                'numero_pagina': page,\n",
    "                'status': f\"Erro {response.status_code}\",\n",
    "                'produtos_encontrados': 0,\n",
    "                'data_processamento': time.strftime('%Y-%m-%d %H:%M:%S')\n",
    "            })\n",
    "            \n",
    "    except Exception as e:\n",
    "        pbar.set_postfix_str(f\"Pag {page} erro: {str(e)[:20]}...\")\n",
    "        processed_pages_info.append({\n",
    "            'numero_pagina': page,\n",
    "            'status': f\"Erro: {str(e)[:20]}...\",\n",
    "            'produtos_encontrados': 0,\n",
    "            'data_processamento': time.strftime('%Y-%m-%d %H:%M:%S')\n",
    "        })\n",
    "    \n",
    "    time.sleep(uniform(1, 3))\n",
    "\n",
    "pbar.close()\n",
    "\n",
    "# Salvar resultados se houver novos produtos\n",
    "if products_links or processed_pages_info:\n",
    "    # Função para append em CSV\n",
    "    def append_to_csv(filename, data_list, fieldnames):\n",
    "        try:\n",
    "            with open(filename, 'r', encoding='utf-8') as f:\n",
    "                has_header = bool(csv.Sniffer().has_header(f.read(1024)))\n",
    "        except:\n",
    "            has_header = False\n",
    "        \n",
    "        with open(filename, 'a', newline='', encoding='utf-8') as f:\n",
    "            writer = csv.DictWriter(f, fieldnames=fieldnames)\n",
    "            if not has_header:\n",
    "                writer.writeheader()\n",
    "            for data in data_list:\n",
    "                writer.writerow(data)\n",
    "\n",
    "    # Salvar produtos\n",
    "    if products_links:\n",
    "        append_to_csv(products_filename, products_links, ['url', 'pagina', 'data_coleta'])\n",
    "    \n",
    "    # Salvar detalhes das páginas - CORRIGIDO fieldnames\n",
    "    append_to_csv(detailed_csv_filename, processed_pages_info, \n",
    "                 ['numero_pagina', 'status', 'produtos_encontrados', 'data_processamento'])\n",
    "    \n",
    "    # Salvar resumo\n",
    "    first_page = min(p['numero_pagina'] for p in processed_pages_info)\n",
    "    last_page = max(p['numero_pagina'] for p in processed_pages_info)\n",
    "    \n",
    "    summary_data = [{\n",
    "        'primeira_pagina': first_page,\n",
    "        'ultima_pagina': last_page,\n",
    "        'paginas_processadas_sucesso': successful_pages,\n",
    "        'total_produtos_coletados': len(products_links),\n",
    "        'total_paginas_processadas': len(processed_pages_info),\n",
    "        'data_execucao': time.strftime('%Y-%m-%d %H:%M:%S')\n",
    "    }]\n",
    "    \n",
    "    append_to_csv(csv_filename, summary_data, \n",
    "                 ['primeira_pagina', 'ultima_pagina', 'paginas_processadas_sucesso', \n",
    "                  'total_produtos_coletados', 'total_paginas_processadas', 'data_execucao'])\n",
    "\n",
    "print(f\"Processamento concluido!\")\n",
    "print(f\"Paginas verificadas: {len(pages_to_check)}\")\n",
    "print(f\"Novos produtos: {len(products_links)}\")\n",
    "print(f\"Paginas com novos produtos: {successful_pages}\")"
   ]
  },
  {
   "cell_type": "markdown",
   "id": "49a0443c-aec7-496e-bda6-37fe67e7511e",
   "metadata": {},
   "source": [
    "Agora que coletamos links de imóveis, vamos investigá-los individualmente:"
   ]
  },
  {
   "cell_type": "code",
   "execution_count": 3,
   "id": "068c664b-f432-4237-aa14-d48861a4558d",
   "metadata": {},
   "outputs": [
    {
     "name": "stdout",
     "output_type": "stream",
     "text": [
      "Arquivo CSV não encontrado. Iniciando extração completa.\n",
      "Encontrados 500 novos links para extrair.\n"
     ]
    },
    {
     "data": {
      "application/vnd.jupyter.widget-view+json": {
       "model_id": "23524040d30f4962b77ee3b948f70360",
       "version_major": 2,
       "version_minor": 0
      },
      "text/plain": [
       "Processando NOVOS produtos: 0/500 [Tempo restante: ?]"
      ]
     },
     "metadata": {},
     "output_type": "display_data"
    },
    {
     "name": "stdout",
     "output_type": "stream",
     "text": [
      "Extração concluída! Total de produtos no dataset: 490\n",
      "Novos produtos adicionados: 500\n"
     ]
    }
   ],
   "source": [
    "# Configurações\n",
    "CSV_FILE = 'data.csv'\n",
    "existing_links = set()\n",
    "all_products = []\n",
    "\n",
    "try:\n",
    "    # Tentar carregar dados existentes\n",
    "    existing_df = pd.read_csv(CSV_FILE)\n",
    "    existing_links = set(existing_df['link'].tolist())\n",
    "    all_products = existing_df.to_dict('records')\n",
    "    print(f\"Encontrados {len(existing_links)} produtos no arquivo existente.\")\n",
    "except FileNotFoundError:\n",
    "    print(\"Arquivo CSV não encontrado. Iniciando extração completa.\")\n",
    "    existing_df = pd.DataFrame()\n",
    "except Exception as e:\n",
    "    print(f\"Erro ao ler arquivo existente: {e}\")\n",
    "    print(\"Iniciando extração do zero.\")\n",
    "    existing_df = pd.DataFrame()\n",
    "\n",
    "# Identificar apenas os links novos\n",
    "new_links = [link for link in products_links if link.get('url') not in existing_links]\n",
    "print(f\"Encontrados {len(new_links)} novos links para extrair.\")\n",
    "\n",
    "# Processar apenas os links novos se houver\n",
    "if new_links:\n",
    "    pbar = tqdm(total=len(new_links), desc=\"Processando NOVOS produtos\", unit=\"produto\", \n",
    "                bar_format='{desc}: {n_fmt}/{total_fmt} [Tempo restante: {remaining}]')\n",
    "\n",
    "    for i, link in enumerate(new_links, 1):\n",
    "        try:\n",
    "            product_response = requests.get(link.get('url'), headers=headers, timeout=10)\n",
    "\n",
    "            if product_response.status_code == 200:\n",
    "                product_soup = BeautifulSoup(product_response.text, 'html.parser')\n",
    "\n",
    "                # Extração dos dados (mantive sua lógica original)\n",
    "                title_elem = product_soup.find('span', class_='olx-text olx-text--title-medium olx-text--block ad__sc-1l883pa-2 bdcWAn')\n",
    "                title = title_elem.text.strip() if title_elem else 'Não especificado'\n",
    "\n",
    "                location_div = product_soup.find('div', id='location')\n",
    "                if location_div:\n",
    "                    location_elem = location_div.find('span', class_='olx-text olx-text--body-small olx-text--block olx-text--semibold olx-color-neutral-110')\n",
    "                    location = location_elem.text.strip() if location_elem else 'Não especificado'\n",
    "                else:\n",
    "                    location = 'Não especificado'\n",
    "                \n",
    "                price_div = product_soup.find('div', id='price-box-container')\n",
    "                if price_div:\n",
    "                    price_elem = price_div.find('span', {'data-ds-component': 'DS-Text'})\n",
    "                    price = price_elem.text.strip() if price_elem else 'Não especificado'\n",
    "                    \n",
    "                    product_type_elem = price_div.find('span', class_='olx-badge olx-badge--neutral olx-badge--small olx-badge--rectangle')\n",
    "                    product_type = product_type_elem.text.strip() if product_type_elem else \"Não especificado\"\n",
    "                else:\n",
    "                    price = 'Não especificado'\n",
    "                    product_type = \"Não especificado\"\n",
    "\n",
    "                product_data = {\n",
    "                    'date': time.strftime('%Y-%m-%d %H:%M:%S'),\n",
    "                    'title': title,\n",
    "                    'location': location,\n",
    "                    'price': price,\n",
    "                    'product_type': product_type,\n",
    "                    'link': link.get('url')\n",
    "                }\n",
    "\n",
    "                all_products.append(product_data)\n",
    "                \n",
    "                # Atualizar informações na barra de progresso\n",
    "                pbar.set_postfix_str(f\"Último: {title[:20]}...\")\n",
    "\n",
    "            else:\n",
    "                pbar.set_postfix_str(f\"Erro: Status {product_response.status_code}\")\n",
    "\n",
    "        except requests.exceptions.RequestException as e:\n",
    "            pbar.set_postfix_str(f\"Erro de rede: {str(e)[:20]}...\")\n",
    "        except Exception as e:\n",
    "            pbar.set_postfix_str(f\"Erro inesperado: {str(e)[:20]}...\")\n",
    "        \n",
    "        # Atualizar o progresso\n",
    "        pbar.update(1)\n",
    "        time.sleep(uniform(1, 3))\n",
    "\n",
    "    pbar.close()\n",
    "else:\n",
    "    print(\"Nenhum novo link encontrado. Nada para processar.\")\n",
    "\n",
    "# Salvar todos os dados (antigos + novos) no CSV\n",
    "if all_products:\n",
    "    try:\n",
    "        df = pd.DataFrame(all_products)\n",
    "        \n",
    "        # Remover possíveis duplicatas (segurança extra)\n",
    "        df = df.drop_duplicates(subset=['link'], keep='last')\n",
    "        \n",
    "        # Ordenar por data (opcional)\n",
    "        df['date'] = pd.to_datetime(df['date'])\n",
    "        df = df.sort_values('date', ascending=False)\n",
    "        \n",
    "        # Salvar no CSV\n",
    "        df.to_csv(CSV_FILE, index=False, encoding='utf-8')\n",
    "        \n",
    "        print(f\"Extração concluída! Total de produtos no dataset: {len(df)}\")\n",
    "        print(f\"Novos produtos adicionados: {len(new_links)}\")\n",
    "    except Exception as e:\n",
    "        print(f\"Erro ao salvar dados: {e}\")\n",
    "else:\n",
    "    print(\"Nenhum produto para salvar.\")"
   ]
  },
  {
   "cell_type": "markdown",
   "id": "a5b8480c-a555-4022-a8cb-655468a6d3f5",
   "metadata": {},
   "source": [
    "Para o restante da análise, incluindo a limpeza e o tratamento dos dados, passamos as informações extraídas para um dataframe, de modo a empregar os artifícios da biblioteca Pandas."
   ]
  },
  {
   "cell_type": "markdown",
   "id": "569fc723-6ed1-4999-b809-e23e360417e3",
   "metadata": {},
   "source": [
    "## 3. Limpeza e tratamento"
   ]
  },
  {
   "cell_type": "code",
   "execution_count": 4,
   "id": "19491a9c-0884-494b-af1a-e66b00b425a8",
   "metadata": {},
   "outputs": [],
   "source": [
    "df = pd.read_csv('data.csv')"
   ]
  },
  {
   "cell_type": "code",
   "execution_count": 5,
   "id": "4afe5724-8192-4895-8cd7-d3cc9dc4a741",
   "metadata": {},
   "outputs": [
    {
     "data": {
      "text/html": [
       "<div>\n",
       "<style scoped>\n",
       "    .dataframe tbody tr th:only-of-type {\n",
       "        vertical-align: middle;\n",
       "    }\n",
       "\n",
       "    .dataframe tbody tr th {\n",
       "        vertical-align: top;\n",
       "    }\n",
       "\n",
       "    .dataframe thead th {\n",
       "        text-align: right;\n",
       "    }\n",
       "</style>\n",
       "<table border=\"1\" class=\"dataframe\">\n",
       "  <thead>\n",
       "    <tr style=\"text-align: right;\">\n",
       "      <th></th>\n",
       "      <th>date</th>\n",
       "      <th>title</th>\n",
       "      <th>location</th>\n",
       "      <th>price</th>\n",
       "      <th>product_type</th>\n",
       "      <th>link</th>\n",
       "    </tr>\n",
       "  </thead>\n",
       "  <tbody>\n",
       "    <tr>\n",
       "      <th>0</th>\n",
       "      <td>2025-09-02 23:53:38</td>\n",
       "      <td>Oportunidade Única em JOAO PESSOA - PB | Tipo:...</td>\n",
       "      <td>João Pessoa, PB, 58062187</td>\n",
       "      <td>R$ 58.295</td>\n",
       "      <td>Venda</td>\n",
       "      <td>https://pb.olx.com.br/paraiba/imoveis/oportuni...</td>\n",
       "    </tr>\n",
       "    <tr>\n",
       "      <th>1</th>\n",
       "      <td>2025-09-02 23:53:34</td>\n",
       "      <td>Oportunidade Única em JOAO PESSOA - PB | Tipo:...</td>\n",
       "      <td>João Pessoa, PB, 58062157</td>\n",
       "      <td>R$ 58.340</td>\n",
       "      <td>Venda</td>\n",
       "      <td>https://pb.olx.com.br/paraiba/imoveis/oportuni...</td>\n",
       "    </tr>\n",
       "    <tr>\n",
       "      <th>2</th>\n",
       "      <td>2025-09-02 23:53:31</td>\n",
       "      <td>Oportunidade Única em JOAO PESSOA - PB | Tipo:...</td>\n",
       "      <td>João Pessoa, PB, 58084145</td>\n",
       "      <td>R$ 52.666</td>\n",
       "      <td>Venda</td>\n",
       "      <td>https://pb.olx.com.br/paraiba/imoveis/oportuni...</td>\n",
       "    </tr>\n",
       "    <tr>\n",
       "      <th>3</th>\n",
       "      <td>2025-09-02 23:53:29</td>\n",
       "      <td>Oportunidade Única em JOAO PESSOA - PB | Tipo:...</td>\n",
       "      <td>João Pessoa, PB, 58069100</td>\n",
       "      <td>R$ 47.605</td>\n",
       "      <td>Venda</td>\n",
       "      <td>https://pb.olx.com.br/paraiba/imoveis/oportuni...</td>\n",
       "    </tr>\n",
       "    <tr>\n",
       "      <th>4</th>\n",
       "      <td>2025-09-02 23:53:24</td>\n",
       "      <td>Oportunidade Única em JOAO PESSOA - PB | Tipo:...</td>\n",
       "      <td>João Pessoa, PB, 58062069</td>\n",
       "      <td>R$ 85.477</td>\n",
       "      <td>Venda</td>\n",
       "      <td>https://pb.olx.com.br/paraiba/imoveis/oportuni...</td>\n",
       "    </tr>\n",
       "    <tr>\n",
       "      <th>...</th>\n",
       "      <td>...</td>\n",
       "      <td>...</td>\n",
       "      <td>...</td>\n",
       "      <td>...</td>\n",
       "      <td>...</td>\n",
       "      <td>...</td>\n",
       "    </tr>\n",
       "    <tr>\n",
       "      <th>485</th>\n",
       "      <td>2025-09-02 23:25:38</td>\n",
       "      <td>Imoveis exclusivos</td>\n",
       "      <td>Manaíra, João Pessoa, PB, 58038142</td>\n",
       "      <td>R$ 650.000</td>\n",
       "      <td>Venda</td>\n",
       "      <td>https://pb.olx.com.br/paraiba/imoveis/imoveis-...</td>\n",
       "    </tr>\n",
       "    <tr>\n",
       "      <th>486</th>\n",
       "      <td>2025-09-02 23:25:35</td>\n",
       "      <td>Imóveis na Planta</td>\n",
       "      <td>Jardim Oceania, João Pessoa, PB, 58037030</td>\n",
       "      <td>R$ 416.234</td>\n",
       "      <td>Venda</td>\n",
       "      <td>https://pb.olx.com.br/paraiba/imoveis/imoveis-...</td>\n",
       "    </tr>\n",
       "    <tr>\n",
       "      <th>487</th>\n",
       "      <td>2025-09-02 23:25:32</td>\n",
       "      <td>Vendo Imóveis de Alto padrão a Beira Mar de In...</td>\n",
       "      <td>Ipês, João Pessoa, PB, 58028530</td>\n",
       "      <td>R$ 480.000</td>\n",
       "      <td>Venda</td>\n",
       "      <td>https://pb.olx.com.br/paraiba/imoveis/vendo-im...</td>\n",
       "    </tr>\n",
       "    <tr>\n",
       "      <th>488</th>\n",
       "      <td>2025-09-02 23:25:29</td>\n",
       "      <td>Imóveis para repasse possuem 62 m² com 02 quar...</td>\n",
       "      <td>João Pessoa, PB, 58068103</td>\n",
       "      <td>R$ 42.000</td>\n",
       "      <td>Venda</td>\n",
       "      <td>https://pb.olx.com.br/paraiba/imoveis/imoveis-...</td>\n",
       "    </tr>\n",
       "    <tr>\n",
       "      <th>489</th>\n",
       "      <td>2025-09-02 23:25:26</td>\n",
       "      <td>Imóveis na planta em João Pessoa</td>\n",
       "      <td>Cabo Branco, João Pessoa, PB, 58045010</td>\n",
       "      <td>R$ 274.900</td>\n",
       "      <td>Venda</td>\n",
       "      <td>https://pb.olx.com.br/paraiba/imoveis/imoveis-...</td>\n",
       "    </tr>\n",
       "  </tbody>\n",
       "</table>\n",
       "<p>490 rows × 6 columns</p>\n",
       "</div>"
      ],
      "text/plain": [
       "                    date                                              title  \\\n",
       "0    2025-09-02 23:53:38  Oportunidade Única em JOAO PESSOA - PB | Tipo:...   \n",
       "1    2025-09-02 23:53:34  Oportunidade Única em JOAO PESSOA - PB | Tipo:...   \n",
       "2    2025-09-02 23:53:31  Oportunidade Única em JOAO PESSOA - PB | Tipo:...   \n",
       "3    2025-09-02 23:53:29  Oportunidade Única em JOAO PESSOA - PB | Tipo:...   \n",
       "4    2025-09-02 23:53:24  Oportunidade Única em JOAO PESSOA - PB | Tipo:...   \n",
       "..                   ...                                                ...   \n",
       "485  2025-09-02 23:25:38                                 Imoveis exclusivos   \n",
       "486  2025-09-02 23:25:35                                  Imóveis na Planta   \n",
       "487  2025-09-02 23:25:32  Vendo Imóveis de Alto padrão a Beira Mar de In...   \n",
       "488  2025-09-02 23:25:29  Imóveis para repasse possuem 62 m² com 02 quar...   \n",
       "489  2025-09-02 23:25:26                   Imóveis na planta em João Pessoa   \n",
       "\n",
       "                                      location       price product_type  \\\n",
       "0                    João Pessoa, PB, 58062187   R$ 58.295        Venda   \n",
       "1                    João Pessoa, PB, 58062157   R$ 58.340        Venda   \n",
       "2                    João Pessoa, PB, 58084145   R$ 52.666        Venda   \n",
       "3                    João Pessoa, PB, 58069100   R$ 47.605        Venda   \n",
       "4                    João Pessoa, PB, 58062069   R$ 85.477        Venda   \n",
       "..                                         ...         ...          ...   \n",
       "485         Manaíra, João Pessoa, PB, 58038142  R$ 650.000        Venda   \n",
       "486  Jardim Oceania, João Pessoa, PB, 58037030  R$ 416.234        Venda   \n",
       "487            Ipês, João Pessoa, PB, 58028530  R$ 480.000        Venda   \n",
       "488                  João Pessoa, PB, 58068103   R$ 42.000        Venda   \n",
       "489     Cabo Branco, João Pessoa, PB, 58045010  R$ 274.900        Venda   \n",
       "\n",
       "                                                  link  \n",
       "0    https://pb.olx.com.br/paraiba/imoveis/oportuni...  \n",
       "1    https://pb.olx.com.br/paraiba/imoveis/oportuni...  \n",
       "2    https://pb.olx.com.br/paraiba/imoveis/oportuni...  \n",
       "3    https://pb.olx.com.br/paraiba/imoveis/oportuni...  \n",
       "4    https://pb.olx.com.br/paraiba/imoveis/oportuni...  \n",
       "..                                                 ...  \n",
       "485  https://pb.olx.com.br/paraiba/imoveis/imoveis-...  \n",
       "486  https://pb.olx.com.br/paraiba/imoveis/imoveis-...  \n",
       "487  https://pb.olx.com.br/paraiba/imoveis/vendo-im...  \n",
       "488  https://pb.olx.com.br/paraiba/imoveis/imoveis-...  \n",
       "489  https://pb.olx.com.br/paraiba/imoveis/imoveis-...  \n",
       "\n",
       "[490 rows x 6 columns]"
      ]
     },
     "execution_count": 5,
     "metadata": {},
     "output_type": "execute_result"
    }
   ],
   "source": [
    "df"
   ]
  },
  {
   "cell_type": "code",
   "execution_count": 6,
   "id": "03229420-16d4-4811-90fc-6734e3404d14",
   "metadata": {},
   "outputs": [
    {
     "name": "stdout",
     "output_type": "stream",
     "text": [
      "<class 'pandas.core.frame.DataFrame'>\n",
      "RangeIndex: 490 entries, 0 to 489\n",
      "Data columns (total 6 columns):\n",
      " #   Column        Non-Null Count  Dtype \n",
      "---  ------        --------------  ----- \n",
      " 0   date          490 non-null    object\n",
      " 1   title         490 non-null    object\n",
      " 2   location      490 non-null    object\n",
      " 3   price         490 non-null    object\n",
      " 4   product_type  490 non-null    object\n",
      " 5   link          490 non-null    object\n",
      "dtypes: object(6)\n",
      "memory usage: 23.1+ KB\n"
     ]
    }
   ],
   "source": [
    "df.info()"
   ]
  },
  {
   "cell_type": "markdown",
   "id": "993b32d3-723d-44e4-b251-3003ea3e3812",
   "metadata": {},
   "source": [
    "Algumas pessoas usaram indevidamente a OLX para disponibilizar seus contatos, a fim de realizar serviços por fora do aplicativo. Podemos remover as linhas correspondentes a esses erros usando verificação por expressão regular na linha de preços, e aproveitar, inclusive, para corrigir a apresentação dos preços para um valor numérico:"
   ]
  },
  {
   "cell_type": "code",
   "execution_count": 7,
   "id": "f2dcbcd3-25d8-47e1-9b42-066aca088230",
   "metadata": {
    "scrolled": true
   },
   "outputs": [],
   "source": [
    "# Filtrar para regex correto\n",
    "price_regex = r'R\\$\\s*\\d{1,3}(?:\\.\\d{3})*(?:,\\d{1,2})?|R\\$\\s*\\d+(?:,\\d{1,2})?'\n",
    "price_mask = df['price'].apply(lambda x: bool(re.search(price_regex, str(x))))\n",
    "df = df[price_mask]"
   ]
  },
  {
   "cell_type": "code",
   "execution_count": 8,
   "id": "7cedf768-a5ef-4550-81a5-6baf6986c84e",
   "metadata": {},
   "outputs": [
    {
     "data": {
      "text/html": [
       "<div>\n",
       "<style scoped>\n",
       "    .dataframe tbody tr th:only-of-type {\n",
       "        vertical-align: middle;\n",
       "    }\n",
       "\n",
       "    .dataframe tbody tr th {\n",
       "        vertical-align: top;\n",
       "    }\n",
       "\n",
       "    .dataframe thead th {\n",
       "        text-align: right;\n",
       "    }\n",
       "</style>\n",
       "<table border=\"1\" class=\"dataframe\">\n",
       "  <thead>\n",
       "    <tr style=\"text-align: right;\">\n",
       "      <th></th>\n",
       "      <th>date</th>\n",
       "      <th>title</th>\n",
       "      <th>location</th>\n",
       "      <th>price</th>\n",
       "      <th>product_type</th>\n",
       "      <th>link</th>\n",
       "    </tr>\n",
       "  </thead>\n",
       "  <tbody>\n",
       "    <tr>\n",
       "      <th>0</th>\n",
       "      <td>2025-09-02 23:53:38</td>\n",
       "      <td>Oportunidade Única em JOAO PESSOA - PB | Tipo:...</td>\n",
       "      <td>João Pessoa, PB, 58062187</td>\n",
       "      <td>R$ 58.295</td>\n",
       "      <td>Venda</td>\n",
       "      <td>https://pb.olx.com.br/paraiba/imoveis/oportuni...</td>\n",
       "    </tr>\n",
       "    <tr>\n",
       "      <th>1</th>\n",
       "      <td>2025-09-02 23:53:34</td>\n",
       "      <td>Oportunidade Única em JOAO PESSOA - PB | Tipo:...</td>\n",
       "      <td>João Pessoa, PB, 58062157</td>\n",
       "      <td>R$ 58.340</td>\n",
       "      <td>Venda</td>\n",
       "      <td>https://pb.olx.com.br/paraiba/imoveis/oportuni...</td>\n",
       "    </tr>\n",
       "    <tr>\n",
       "      <th>2</th>\n",
       "      <td>2025-09-02 23:53:31</td>\n",
       "      <td>Oportunidade Única em JOAO PESSOA - PB | Tipo:...</td>\n",
       "      <td>João Pessoa, PB, 58084145</td>\n",
       "      <td>R$ 52.666</td>\n",
       "      <td>Venda</td>\n",
       "      <td>https://pb.olx.com.br/paraiba/imoveis/oportuni...</td>\n",
       "    </tr>\n",
       "    <tr>\n",
       "      <th>3</th>\n",
       "      <td>2025-09-02 23:53:29</td>\n",
       "      <td>Oportunidade Única em JOAO PESSOA - PB | Tipo:...</td>\n",
       "      <td>João Pessoa, PB, 58069100</td>\n",
       "      <td>R$ 47.605</td>\n",
       "      <td>Venda</td>\n",
       "      <td>https://pb.olx.com.br/paraiba/imoveis/oportuni...</td>\n",
       "    </tr>\n",
       "    <tr>\n",
       "      <th>4</th>\n",
       "      <td>2025-09-02 23:53:24</td>\n",
       "      <td>Oportunidade Única em JOAO PESSOA - PB | Tipo:...</td>\n",
       "      <td>João Pessoa, PB, 58062069</td>\n",
       "      <td>R$ 85.477</td>\n",
       "      <td>Venda</td>\n",
       "      <td>https://pb.olx.com.br/paraiba/imoveis/oportuni...</td>\n",
       "    </tr>\n",
       "    <tr>\n",
       "      <th>...</th>\n",
       "      <td>...</td>\n",
       "      <td>...</td>\n",
       "      <td>...</td>\n",
       "      <td>...</td>\n",
       "      <td>...</td>\n",
       "      <td>...</td>\n",
       "    </tr>\n",
       "    <tr>\n",
       "      <th>485</th>\n",
       "      <td>2025-09-02 23:25:38</td>\n",
       "      <td>Imoveis exclusivos</td>\n",
       "      <td>Manaíra, João Pessoa, PB, 58038142</td>\n",
       "      <td>R$ 650.000</td>\n",
       "      <td>Venda</td>\n",
       "      <td>https://pb.olx.com.br/paraiba/imoveis/imoveis-...</td>\n",
       "    </tr>\n",
       "    <tr>\n",
       "      <th>486</th>\n",
       "      <td>2025-09-02 23:25:35</td>\n",
       "      <td>Imóveis na Planta</td>\n",
       "      <td>Jardim Oceania, João Pessoa, PB, 58037030</td>\n",
       "      <td>R$ 416.234</td>\n",
       "      <td>Venda</td>\n",
       "      <td>https://pb.olx.com.br/paraiba/imoveis/imoveis-...</td>\n",
       "    </tr>\n",
       "    <tr>\n",
       "      <th>487</th>\n",
       "      <td>2025-09-02 23:25:32</td>\n",
       "      <td>Vendo Imóveis de Alto padrão a Beira Mar de In...</td>\n",
       "      <td>Ipês, João Pessoa, PB, 58028530</td>\n",
       "      <td>R$ 480.000</td>\n",
       "      <td>Venda</td>\n",
       "      <td>https://pb.olx.com.br/paraiba/imoveis/vendo-im...</td>\n",
       "    </tr>\n",
       "    <tr>\n",
       "      <th>488</th>\n",
       "      <td>2025-09-02 23:25:29</td>\n",
       "      <td>Imóveis para repasse possuem 62 m² com 02 quar...</td>\n",
       "      <td>João Pessoa, PB, 58068103</td>\n",
       "      <td>R$ 42.000</td>\n",
       "      <td>Venda</td>\n",
       "      <td>https://pb.olx.com.br/paraiba/imoveis/imoveis-...</td>\n",
       "    </tr>\n",
       "    <tr>\n",
       "      <th>489</th>\n",
       "      <td>2025-09-02 23:25:26</td>\n",
       "      <td>Imóveis na planta em João Pessoa</td>\n",
       "      <td>Cabo Branco, João Pessoa, PB, 58045010</td>\n",
       "      <td>R$ 274.900</td>\n",
       "      <td>Venda</td>\n",
       "      <td>https://pb.olx.com.br/paraiba/imoveis/imoveis-...</td>\n",
       "    </tr>\n",
       "  </tbody>\n",
       "</table>\n",
       "<p>470 rows × 6 columns</p>\n",
       "</div>"
      ],
      "text/plain": [
       "                    date                                              title  \\\n",
       "0    2025-09-02 23:53:38  Oportunidade Única em JOAO PESSOA - PB | Tipo:...   \n",
       "1    2025-09-02 23:53:34  Oportunidade Única em JOAO PESSOA - PB | Tipo:...   \n",
       "2    2025-09-02 23:53:31  Oportunidade Única em JOAO PESSOA - PB | Tipo:...   \n",
       "3    2025-09-02 23:53:29  Oportunidade Única em JOAO PESSOA - PB | Tipo:...   \n",
       "4    2025-09-02 23:53:24  Oportunidade Única em JOAO PESSOA - PB | Tipo:...   \n",
       "..                   ...                                                ...   \n",
       "485  2025-09-02 23:25:38                                 Imoveis exclusivos   \n",
       "486  2025-09-02 23:25:35                                  Imóveis na Planta   \n",
       "487  2025-09-02 23:25:32  Vendo Imóveis de Alto padrão a Beira Mar de In...   \n",
       "488  2025-09-02 23:25:29  Imóveis para repasse possuem 62 m² com 02 quar...   \n",
       "489  2025-09-02 23:25:26                   Imóveis na planta em João Pessoa   \n",
       "\n",
       "                                      location       price product_type  \\\n",
       "0                    João Pessoa, PB, 58062187   R$ 58.295        Venda   \n",
       "1                    João Pessoa, PB, 58062157   R$ 58.340        Venda   \n",
       "2                    João Pessoa, PB, 58084145   R$ 52.666        Venda   \n",
       "3                    João Pessoa, PB, 58069100   R$ 47.605        Venda   \n",
       "4                    João Pessoa, PB, 58062069   R$ 85.477        Venda   \n",
       "..                                         ...         ...          ...   \n",
       "485         Manaíra, João Pessoa, PB, 58038142  R$ 650.000        Venda   \n",
       "486  Jardim Oceania, João Pessoa, PB, 58037030  R$ 416.234        Venda   \n",
       "487            Ipês, João Pessoa, PB, 58028530  R$ 480.000        Venda   \n",
       "488                  João Pessoa, PB, 58068103   R$ 42.000        Venda   \n",
       "489     Cabo Branco, João Pessoa, PB, 58045010  R$ 274.900        Venda   \n",
       "\n",
       "                                                  link  \n",
       "0    https://pb.olx.com.br/paraiba/imoveis/oportuni...  \n",
       "1    https://pb.olx.com.br/paraiba/imoveis/oportuni...  \n",
       "2    https://pb.olx.com.br/paraiba/imoveis/oportuni...  \n",
       "3    https://pb.olx.com.br/paraiba/imoveis/oportuni...  \n",
       "4    https://pb.olx.com.br/paraiba/imoveis/oportuni...  \n",
       "..                                                 ...  \n",
       "485  https://pb.olx.com.br/paraiba/imoveis/imoveis-...  \n",
       "486  https://pb.olx.com.br/paraiba/imoveis/imoveis-...  \n",
       "487  https://pb.olx.com.br/paraiba/imoveis/vendo-im...  \n",
       "488  https://pb.olx.com.br/paraiba/imoveis/imoveis-...  \n",
       "489  https://pb.olx.com.br/paraiba/imoveis/imoveis-...  \n",
       "\n",
       "[470 rows x 6 columns]"
      ]
     },
     "execution_count": 8,
     "metadata": {},
     "output_type": "execute_result"
    }
   ],
   "source": [
    "df"
   ]
  },
  {
   "cell_type": "code",
   "execution_count": 9,
   "id": "6b266f84-3fb9-47ba-bd96-62db98f10567",
   "metadata": {},
   "outputs": [
    {
     "name": "stderr",
     "output_type": "stream",
     "text": [
      "/tmp/ipykernel_14313/1789600710.py:1: SettingWithCopyWarning: \n",
      "A value is trying to be set on a copy of a slice from a DataFrame.\n",
      "Try using .loc[row_indexer,col_indexer] = value instead\n",
      "\n",
      "See the caveats in the documentation: https://pandas.pydata.org/pandas-docs/stable/user_guide/indexing.html#returning-a-view-versus-a-copy\n",
      "  df['price'] = (\n"
     ]
    }
   ],
   "source": [
    "df['price'] = (\n",
    "    df['price']\n",
    "    .str.replace(r'R\\$\\s*|[.]', '', regex=True)\n",
    "    .str.replace(',', '.', regex=False)\n",
    "    .astype('float64')\n",
    ")"
   ]
  },
  {
   "cell_type": "code",
   "execution_count": 10,
   "id": "7166b9aa-cb9c-40f1-a93e-d4e10c30526a",
   "metadata": {},
   "outputs": [
    {
     "name": "stdout",
     "output_type": "stream",
     "text": [
      "<class 'pandas.core.frame.DataFrame'>\n",
      "Index: 470 entries, 0 to 489\n",
      "Data columns (total 6 columns):\n",
      " #   Column        Non-Null Count  Dtype  \n",
      "---  ------        --------------  -----  \n",
      " 0   date          470 non-null    object \n",
      " 1   title         470 non-null    object \n",
      " 2   location      470 non-null    object \n",
      " 3   price         470 non-null    float64\n",
      " 4   product_type  470 non-null    object \n",
      " 5   link          470 non-null    object \n",
      "dtypes: float64(1), object(5)\n",
      "memory usage: 25.7+ KB\n"
     ]
    }
   ],
   "source": [
    "df.info()"
   ]
  },
  {
   "cell_type": "code",
   "execution_count": 11,
   "id": "9d0cfeda-41df-4f4c-9961-764fd7bff653",
   "metadata": {},
   "outputs": [
    {
     "data": {
      "text/html": [
       "<div>\n",
       "<style scoped>\n",
       "    .dataframe tbody tr th:only-of-type {\n",
       "        vertical-align: middle;\n",
       "    }\n",
       "\n",
       "    .dataframe tbody tr th {\n",
       "        vertical-align: top;\n",
       "    }\n",
       "\n",
       "    .dataframe thead th {\n",
       "        text-align: right;\n",
       "    }\n",
       "</style>\n",
       "<table border=\"1\" class=\"dataframe\">\n",
       "  <thead>\n",
       "    <tr style=\"text-align: right;\">\n",
       "      <th></th>\n",
       "      <th>date</th>\n",
       "      <th>title</th>\n",
       "      <th>location</th>\n",
       "      <th>price</th>\n",
       "      <th>product_type</th>\n",
       "      <th>link</th>\n",
       "    </tr>\n",
       "  </thead>\n",
       "  <tbody>\n",
       "    <tr>\n",
       "      <th>0</th>\n",
       "      <td>2025-09-02 23:53:38</td>\n",
       "      <td>Oportunidade Única em JOAO PESSOA - PB | Tipo:...</td>\n",
       "      <td>João Pessoa, PB, 58062187</td>\n",
       "      <td>58295.0</td>\n",
       "      <td>Venda</td>\n",
       "      <td>https://pb.olx.com.br/paraiba/imoveis/oportuni...</td>\n",
       "    </tr>\n",
       "    <tr>\n",
       "      <th>1</th>\n",
       "      <td>2025-09-02 23:53:34</td>\n",
       "      <td>Oportunidade Única em JOAO PESSOA - PB | Tipo:...</td>\n",
       "      <td>João Pessoa, PB, 58062157</td>\n",
       "      <td>58340.0</td>\n",
       "      <td>Venda</td>\n",
       "      <td>https://pb.olx.com.br/paraiba/imoveis/oportuni...</td>\n",
       "    </tr>\n",
       "    <tr>\n",
       "      <th>2</th>\n",
       "      <td>2025-09-02 23:53:31</td>\n",
       "      <td>Oportunidade Única em JOAO PESSOA - PB | Tipo:...</td>\n",
       "      <td>João Pessoa, PB, 58084145</td>\n",
       "      <td>52666.0</td>\n",
       "      <td>Venda</td>\n",
       "      <td>https://pb.olx.com.br/paraiba/imoveis/oportuni...</td>\n",
       "    </tr>\n",
       "    <tr>\n",
       "      <th>3</th>\n",
       "      <td>2025-09-02 23:53:29</td>\n",
       "      <td>Oportunidade Única em JOAO PESSOA - PB | Tipo:...</td>\n",
       "      <td>João Pessoa, PB, 58069100</td>\n",
       "      <td>47605.0</td>\n",
       "      <td>Venda</td>\n",
       "      <td>https://pb.olx.com.br/paraiba/imoveis/oportuni...</td>\n",
       "    </tr>\n",
       "    <tr>\n",
       "      <th>4</th>\n",
       "      <td>2025-09-02 23:53:24</td>\n",
       "      <td>Oportunidade Única em JOAO PESSOA - PB | Tipo:...</td>\n",
       "      <td>João Pessoa, PB, 58062069</td>\n",
       "      <td>85477.0</td>\n",
       "      <td>Venda</td>\n",
       "      <td>https://pb.olx.com.br/paraiba/imoveis/oportuni...</td>\n",
       "    </tr>\n",
       "    <tr>\n",
       "      <th>...</th>\n",
       "      <td>...</td>\n",
       "      <td>...</td>\n",
       "      <td>...</td>\n",
       "      <td>...</td>\n",
       "      <td>...</td>\n",
       "      <td>...</td>\n",
       "    </tr>\n",
       "    <tr>\n",
       "      <th>485</th>\n",
       "      <td>2025-09-02 23:25:38</td>\n",
       "      <td>Imoveis exclusivos</td>\n",
       "      <td>Manaíra, João Pessoa, PB, 58038142</td>\n",
       "      <td>650000.0</td>\n",
       "      <td>Venda</td>\n",
       "      <td>https://pb.olx.com.br/paraiba/imoveis/imoveis-...</td>\n",
       "    </tr>\n",
       "    <tr>\n",
       "      <th>486</th>\n",
       "      <td>2025-09-02 23:25:35</td>\n",
       "      <td>Imóveis na Planta</td>\n",
       "      <td>Jardim Oceania, João Pessoa, PB, 58037030</td>\n",
       "      <td>416234.0</td>\n",
       "      <td>Venda</td>\n",
       "      <td>https://pb.olx.com.br/paraiba/imoveis/imoveis-...</td>\n",
       "    </tr>\n",
       "    <tr>\n",
       "      <th>487</th>\n",
       "      <td>2025-09-02 23:25:32</td>\n",
       "      <td>Vendo Imóveis de Alto padrão a Beira Mar de In...</td>\n",
       "      <td>Ipês, João Pessoa, PB, 58028530</td>\n",
       "      <td>480000.0</td>\n",
       "      <td>Venda</td>\n",
       "      <td>https://pb.olx.com.br/paraiba/imoveis/vendo-im...</td>\n",
       "    </tr>\n",
       "    <tr>\n",
       "      <th>488</th>\n",
       "      <td>2025-09-02 23:25:29</td>\n",
       "      <td>Imóveis para repasse possuem 62 m² com 02 quar...</td>\n",
       "      <td>João Pessoa, PB, 58068103</td>\n",
       "      <td>42000.0</td>\n",
       "      <td>Venda</td>\n",
       "      <td>https://pb.olx.com.br/paraiba/imoveis/imoveis-...</td>\n",
       "    </tr>\n",
       "    <tr>\n",
       "      <th>489</th>\n",
       "      <td>2025-09-02 23:25:26</td>\n",
       "      <td>Imóveis na planta em João Pessoa</td>\n",
       "      <td>Cabo Branco, João Pessoa, PB, 58045010</td>\n",
       "      <td>274900.0</td>\n",
       "      <td>Venda</td>\n",
       "      <td>https://pb.olx.com.br/paraiba/imoveis/imoveis-...</td>\n",
       "    </tr>\n",
       "  </tbody>\n",
       "</table>\n",
       "<p>470 rows × 6 columns</p>\n",
       "</div>"
      ],
      "text/plain": [
       "                    date                                              title  \\\n",
       "0    2025-09-02 23:53:38  Oportunidade Única em JOAO PESSOA - PB | Tipo:...   \n",
       "1    2025-09-02 23:53:34  Oportunidade Única em JOAO PESSOA - PB | Tipo:...   \n",
       "2    2025-09-02 23:53:31  Oportunidade Única em JOAO PESSOA - PB | Tipo:...   \n",
       "3    2025-09-02 23:53:29  Oportunidade Única em JOAO PESSOA - PB | Tipo:...   \n",
       "4    2025-09-02 23:53:24  Oportunidade Única em JOAO PESSOA - PB | Tipo:...   \n",
       "..                   ...                                                ...   \n",
       "485  2025-09-02 23:25:38                                 Imoveis exclusivos   \n",
       "486  2025-09-02 23:25:35                                  Imóveis na Planta   \n",
       "487  2025-09-02 23:25:32  Vendo Imóveis de Alto padrão a Beira Mar de In...   \n",
       "488  2025-09-02 23:25:29  Imóveis para repasse possuem 62 m² com 02 quar...   \n",
       "489  2025-09-02 23:25:26                   Imóveis na planta em João Pessoa   \n",
       "\n",
       "                                      location     price product_type  \\\n",
       "0                    João Pessoa, PB, 58062187   58295.0        Venda   \n",
       "1                    João Pessoa, PB, 58062157   58340.0        Venda   \n",
       "2                    João Pessoa, PB, 58084145   52666.0        Venda   \n",
       "3                    João Pessoa, PB, 58069100   47605.0        Venda   \n",
       "4                    João Pessoa, PB, 58062069   85477.0        Venda   \n",
       "..                                         ...       ...          ...   \n",
       "485         Manaíra, João Pessoa, PB, 58038142  650000.0        Venda   \n",
       "486  Jardim Oceania, João Pessoa, PB, 58037030  416234.0        Venda   \n",
       "487            Ipês, João Pessoa, PB, 58028530  480000.0        Venda   \n",
       "488                  João Pessoa, PB, 58068103   42000.0        Venda   \n",
       "489     Cabo Branco, João Pessoa, PB, 58045010  274900.0        Venda   \n",
       "\n",
       "                                                  link  \n",
       "0    https://pb.olx.com.br/paraiba/imoveis/oportuni...  \n",
       "1    https://pb.olx.com.br/paraiba/imoveis/oportuni...  \n",
       "2    https://pb.olx.com.br/paraiba/imoveis/oportuni...  \n",
       "3    https://pb.olx.com.br/paraiba/imoveis/oportuni...  \n",
       "4    https://pb.olx.com.br/paraiba/imoveis/oportuni...  \n",
       "..                                                 ...  \n",
       "485  https://pb.olx.com.br/paraiba/imoveis/imoveis-...  \n",
       "486  https://pb.olx.com.br/paraiba/imoveis/imoveis-...  \n",
       "487  https://pb.olx.com.br/paraiba/imoveis/vendo-im...  \n",
       "488  https://pb.olx.com.br/paraiba/imoveis/imoveis-...  \n",
       "489  https://pb.olx.com.br/paraiba/imoveis/imoveis-...  \n",
       "\n",
       "[470 rows x 6 columns]"
      ]
     },
     "execution_count": 11,
     "metadata": {},
     "output_type": "execute_result"
    }
   ],
   "source": [
    "df"
   ]
  },
  {
   "cell_type": "markdown",
   "id": "b2fb4501-844c-4355-beb4-de7a6089fc8d",
   "metadata": {},
   "source": [
    "Outra coisa que faremos é transformar a coluna ``location`` em uma coluna contendo apenas os CEPs de cada imóvel (já aproveitamos para deixar o CEP correto para a cidade de João Pessoa):"
   ]
  },
  {
   "cell_type": "code",
   "execution_count": 12,
   "id": "18854343-2ac5-4d31-88a1-001a8e123625",
   "metadata": {},
   "outputs": [],
   "source": [
    "df = df.rename(columns = {'location': 'cep'})"
   ]
  },
  {
   "cell_type": "code",
   "execution_count": 13,
   "id": "be274367-6acf-4bc6-80cd-b422e9d32142",
   "metadata": {},
   "outputs": [
    {
     "data": {
      "text/html": [
       "<div>\n",
       "<style scoped>\n",
       "    .dataframe tbody tr th:only-of-type {\n",
       "        vertical-align: middle;\n",
       "    }\n",
       "\n",
       "    .dataframe tbody tr th {\n",
       "        vertical-align: top;\n",
       "    }\n",
       "\n",
       "    .dataframe thead th {\n",
       "        text-align: right;\n",
       "    }\n",
       "</style>\n",
       "<table border=\"1\" class=\"dataframe\">\n",
       "  <thead>\n",
       "    <tr style=\"text-align: right;\">\n",
       "      <th></th>\n",
       "      <th>date</th>\n",
       "      <th>title</th>\n",
       "      <th>cep</th>\n",
       "      <th>price</th>\n",
       "      <th>product_type</th>\n",
       "      <th>link</th>\n",
       "    </tr>\n",
       "  </thead>\n",
       "  <tbody>\n",
       "    <tr>\n",
       "      <th>0</th>\n",
       "      <td>2025-09-02 23:53:38</td>\n",
       "      <td>Oportunidade Única em JOAO PESSOA - PB | Tipo:...</td>\n",
       "      <td>João Pessoa, PB, 58062187</td>\n",
       "      <td>58295.0</td>\n",
       "      <td>Venda</td>\n",
       "      <td>https://pb.olx.com.br/paraiba/imoveis/oportuni...</td>\n",
       "    </tr>\n",
       "    <tr>\n",
       "      <th>1</th>\n",
       "      <td>2025-09-02 23:53:34</td>\n",
       "      <td>Oportunidade Única em JOAO PESSOA - PB | Tipo:...</td>\n",
       "      <td>João Pessoa, PB, 58062157</td>\n",
       "      <td>58340.0</td>\n",
       "      <td>Venda</td>\n",
       "      <td>https://pb.olx.com.br/paraiba/imoveis/oportuni...</td>\n",
       "    </tr>\n",
       "    <tr>\n",
       "      <th>2</th>\n",
       "      <td>2025-09-02 23:53:31</td>\n",
       "      <td>Oportunidade Única em JOAO PESSOA - PB | Tipo:...</td>\n",
       "      <td>João Pessoa, PB, 58084145</td>\n",
       "      <td>52666.0</td>\n",
       "      <td>Venda</td>\n",
       "      <td>https://pb.olx.com.br/paraiba/imoveis/oportuni...</td>\n",
       "    </tr>\n",
       "    <tr>\n",
       "      <th>3</th>\n",
       "      <td>2025-09-02 23:53:29</td>\n",
       "      <td>Oportunidade Única em JOAO PESSOA - PB | Tipo:...</td>\n",
       "      <td>João Pessoa, PB, 58069100</td>\n",
       "      <td>47605.0</td>\n",
       "      <td>Venda</td>\n",
       "      <td>https://pb.olx.com.br/paraiba/imoveis/oportuni...</td>\n",
       "    </tr>\n",
       "    <tr>\n",
       "      <th>4</th>\n",
       "      <td>2025-09-02 23:53:24</td>\n",
       "      <td>Oportunidade Única em JOAO PESSOA - PB | Tipo:...</td>\n",
       "      <td>João Pessoa, PB, 58062069</td>\n",
       "      <td>85477.0</td>\n",
       "      <td>Venda</td>\n",
       "      <td>https://pb.olx.com.br/paraiba/imoveis/oportuni...</td>\n",
       "    </tr>\n",
       "    <tr>\n",
       "      <th>...</th>\n",
       "      <td>...</td>\n",
       "      <td>...</td>\n",
       "      <td>...</td>\n",
       "      <td>...</td>\n",
       "      <td>...</td>\n",
       "      <td>...</td>\n",
       "    </tr>\n",
       "    <tr>\n",
       "      <th>485</th>\n",
       "      <td>2025-09-02 23:25:38</td>\n",
       "      <td>Imoveis exclusivos</td>\n",
       "      <td>Manaíra, João Pessoa, PB, 58038142</td>\n",
       "      <td>650000.0</td>\n",
       "      <td>Venda</td>\n",
       "      <td>https://pb.olx.com.br/paraiba/imoveis/imoveis-...</td>\n",
       "    </tr>\n",
       "    <tr>\n",
       "      <th>486</th>\n",
       "      <td>2025-09-02 23:25:35</td>\n",
       "      <td>Imóveis na Planta</td>\n",
       "      <td>Jardim Oceania, João Pessoa, PB, 58037030</td>\n",
       "      <td>416234.0</td>\n",
       "      <td>Venda</td>\n",
       "      <td>https://pb.olx.com.br/paraiba/imoveis/imoveis-...</td>\n",
       "    </tr>\n",
       "    <tr>\n",
       "      <th>487</th>\n",
       "      <td>2025-09-02 23:25:32</td>\n",
       "      <td>Vendo Imóveis de Alto padrão a Beira Mar de In...</td>\n",
       "      <td>Ipês, João Pessoa, PB, 58028530</td>\n",
       "      <td>480000.0</td>\n",
       "      <td>Venda</td>\n",
       "      <td>https://pb.olx.com.br/paraiba/imoveis/vendo-im...</td>\n",
       "    </tr>\n",
       "    <tr>\n",
       "      <th>488</th>\n",
       "      <td>2025-09-02 23:25:29</td>\n",
       "      <td>Imóveis para repasse possuem 62 m² com 02 quar...</td>\n",
       "      <td>João Pessoa, PB, 58068103</td>\n",
       "      <td>42000.0</td>\n",
       "      <td>Venda</td>\n",
       "      <td>https://pb.olx.com.br/paraiba/imoveis/imoveis-...</td>\n",
       "    </tr>\n",
       "    <tr>\n",
       "      <th>489</th>\n",
       "      <td>2025-09-02 23:25:26</td>\n",
       "      <td>Imóveis na planta em João Pessoa</td>\n",
       "      <td>Cabo Branco, João Pessoa, PB, 58045010</td>\n",
       "      <td>274900.0</td>\n",
       "      <td>Venda</td>\n",
       "      <td>https://pb.olx.com.br/paraiba/imoveis/imoveis-...</td>\n",
       "    </tr>\n",
       "  </tbody>\n",
       "</table>\n",
       "<p>470 rows × 6 columns</p>\n",
       "</div>"
      ],
      "text/plain": [
       "                    date                                              title  \\\n",
       "0    2025-09-02 23:53:38  Oportunidade Única em JOAO PESSOA - PB | Tipo:...   \n",
       "1    2025-09-02 23:53:34  Oportunidade Única em JOAO PESSOA - PB | Tipo:...   \n",
       "2    2025-09-02 23:53:31  Oportunidade Única em JOAO PESSOA - PB | Tipo:...   \n",
       "3    2025-09-02 23:53:29  Oportunidade Única em JOAO PESSOA - PB | Tipo:...   \n",
       "4    2025-09-02 23:53:24  Oportunidade Única em JOAO PESSOA - PB | Tipo:...   \n",
       "..                   ...                                                ...   \n",
       "485  2025-09-02 23:25:38                                 Imoveis exclusivos   \n",
       "486  2025-09-02 23:25:35                                  Imóveis na Planta   \n",
       "487  2025-09-02 23:25:32  Vendo Imóveis de Alto padrão a Beira Mar de In...   \n",
       "488  2025-09-02 23:25:29  Imóveis para repasse possuem 62 m² com 02 quar...   \n",
       "489  2025-09-02 23:25:26                   Imóveis na planta em João Pessoa   \n",
       "\n",
       "                                           cep     price product_type  \\\n",
       "0                    João Pessoa, PB, 58062187   58295.0        Venda   \n",
       "1                    João Pessoa, PB, 58062157   58340.0        Venda   \n",
       "2                    João Pessoa, PB, 58084145   52666.0        Venda   \n",
       "3                    João Pessoa, PB, 58069100   47605.0        Venda   \n",
       "4                    João Pessoa, PB, 58062069   85477.0        Venda   \n",
       "..                                         ...       ...          ...   \n",
       "485         Manaíra, João Pessoa, PB, 58038142  650000.0        Venda   \n",
       "486  Jardim Oceania, João Pessoa, PB, 58037030  416234.0        Venda   \n",
       "487            Ipês, João Pessoa, PB, 58028530  480000.0        Venda   \n",
       "488                  João Pessoa, PB, 58068103   42000.0        Venda   \n",
       "489     Cabo Branco, João Pessoa, PB, 58045010  274900.0        Venda   \n",
       "\n",
       "                                                  link  \n",
       "0    https://pb.olx.com.br/paraiba/imoveis/oportuni...  \n",
       "1    https://pb.olx.com.br/paraiba/imoveis/oportuni...  \n",
       "2    https://pb.olx.com.br/paraiba/imoveis/oportuni...  \n",
       "3    https://pb.olx.com.br/paraiba/imoveis/oportuni...  \n",
       "4    https://pb.olx.com.br/paraiba/imoveis/oportuni...  \n",
       "..                                                 ...  \n",
       "485  https://pb.olx.com.br/paraiba/imoveis/imoveis-...  \n",
       "486  https://pb.olx.com.br/paraiba/imoveis/imoveis-...  \n",
       "487  https://pb.olx.com.br/paraiba/imoveis/vendo-im...  \n",
       "488  https://pb.olx.com.br/paraiba/imoveis/imoveis-...  \n",
       "489  https://pb.olx.com.br/paraiba/imoveis/imoveis-...  \n",
       "\n",
       "[470 rows x 6 columns]"
      ]
     },
     "execution_count": 13,
     "metadata": {},
     "output_type": "execute_result"
    }
   ],
   "source": [
    "df"
   ]
  },
  {
   "cell_type": "code",
   "execution_count": 14,
   "id": "e7e32573-0385-4fef-aa62-5aef891b3f52",
   "metadata": {},
   "outputs": [
    {
     "data": {
      "text/html": [
       "<div>\n",
       "<style scoped>\n",
       "    .dataframe tbody tr th:only-of-type {\n",
       "        vertical-align: middle;\n",
       "    }\n",
       "\n",
       "    .dataframe tbody tr th {\n",
       "        vertical-align: top;\n",
       "    }\n",
       "\n",
       "    .dataframe thead th {\n",
       "        text-align: right;\n",
       "    }\n",
       "</style>\n",
       "<table border=\"1\" class=\"dataframe\">\n",
       "  <thead>\n",
       "    <tr style=\"text-align: right;\">\n",
       "      <th></th>\n",
       "      <th>date</th>\n",
       "      <th>title</th>\n",
       "      <th>cep</th>\n",
       "      <th>price</th>\n",
       "      <th>product_type</th>\n",
       "      <th>link</th>\n",
       "    </tr>\n",
       "  </thead>\n",
       "  <tbody>\n",
       "    <tr>\n",
       "      <th>0</th>\n",
       "      <td>2025-09-02 23:53:38</td>\n",
       "      <td>Oportunidade Única em JOAO PESSOA - PB | Tipo:...</td>\n",
       "      <td>58062187</td>\n",
       "      <td>58295.0</td>\n",
       "      <td>Venda</td>\n",
       "      <td>https://pb.olx.com.br/paraiba/imoveis/oportuni...</td>\n",
       "    </tr>\n",
       "    <tr>\n",
       "      <th>1</th>\n",
       "      <td>2025-09-02 23:53:34</td>\n",
       "      <td>Oportunidade Única em JOAO PESSOA - PB | Tipo:...</td>\n",
       "      <td>58062157</td>\n",
       "      <td>58340.0</td>\n",
       "      <td>Venda</td>\n",
       "      <td>https://pb.olx.com.br/paraiba/imoveis/oportuni...</td>\n",
       "    </tr>\n",
       "    <tr>\n",
       "      <th>2</th>\n",
       "      <td>2025-09-02 23:53:31</td>\n",
       "      <td>Oportunidade Única em JOAO PESSOA - PB | Tipo:...</td>\n",
       "      <td>58084145</td>\n",
       "      <td>52666.0</td>\n",
       "      <td>Venda</td>\n",
       "      <td>https://pb.olx.com.br/paraiba/imoveis/oportuni...</td>\n",
       "    </tr>\n",
       "    <tr>\n",
       "      <th>3</th>\n",
       "      <td>2025-09-02 23:53:29</td>\n",
       "      <td>Oportunidade Única em JOAO PESSOA - PB | Tipo:...</td>\n",
       "      <td>58069100</td>\n",
       "      <td>47605.0</td>\n",
       "      <td>Venda</td>\n",
       "      <td>https://pb.olx.com.br/paraiba/imoveis/oportuni...</td>\n",
       "    </tr>\n",
       "    <tr>\n",
       "      <th>4</th>\n",
       "      <td>2025-09-02 23:53:24</td>\n",
       "      <td>Oportunidade Única em JOAO PESSOA - PB | Tipo:...</td>\n",
       "      <td>58062069</td>\n",
       "      <td>85477.0</td>\n",
       "      <td>Venda</td>\n",
       "      <td>https://pb.olx.com.br/paraiba/imoveis/oportuni...</td>\n",
       "    </tr>\n",
       "    <tr>\n",
       "      <th>...</th>\n",
       "      <td>...</td>\n",
       "      <td>...</td>\n",
       "      <td>...</td>\n",
       "      <td>...</td>\n",
       "      <td>...</td>\n",
       "      <td>...</td>\n",
       "    </tr>\n",
       "    <tr>\n",
       "      <th>459</th>\n",
       "      <td>2025-09-02 23:25:38</td>\n",
       "      <td>Imoveis exclusivos</td>\n",
       "      <td>58038142</td>\n",
       "      <td>650000.0</td>\n",
       "      <td>Venda</td>\n",
       "      <td>https://pb.olx.com.br/paraiba/imoveis/imoveis-...</td>\n",
       "    </tr>\n",
       "    <tr>\n",
       "      <th>460</th>\n",
       "      <td>2025-09-02 23:25:35</td>\n",
       "      <td>Imóveis na Planta</td>\n",
       "      <td>58037030</td>\n",
       "      <td>416234.0</td>\n",
       "      <td>Venda</td>\n",
       "      <td>https://pb.olx.com.br/paraiba/imoveis/imoveis-...</td>\n",
       "    </tr>\n",
       "    <tr>\n",
       "      <th>461</th>\n",
       "      <td>2025-09-02 23:25:32</td>\n",
       "      <td>Vendo Imóveis de Alto padrão a Beira Mar de In...</td>\n",
       "      <td>58028530</td>\n",
       "      <td>480000.0</td>\n",
       "      <td>Venda</td>\n",
       "      <td>https://pb.olx.com.br/paraiba/imoveis/vendo-im...</td>\n",
       "    </tr>\n",
       "    <tr>\n",
       "      <th>462</th>\n",
       "      <td>2025-09-02 23:25:29</td>\n",
       "      <td>Imóveis para repasse possuem 62 m² com 02 quar...</td>\n",
       "      <td>58068103</td>\n",
       "      <td>42000.0</td>\n",
       "      <td>Venda</td>\n",
       "      <td>https://pb.olx.com.br/paraiba/imoveis/imoveis-...</td>\n",
       "    </tr>\n",
       "    <tr>\n",
       "      <th>463</th>\n",
       "      <td>2025-09-02 23:25:26</td>\n",
       "      <td>Imóveis na planta em João Pessoa</td>\n",
       "      <td>58045010</td>\n",
       "      <td>274900.0</td>\n",
       "      <td>Venda</td>\n",
       "      <td>https://pb.olx.com.br/paraiba/imoveis/imoveis-...</td>\n",
       "    </tr>\n",
       "  </tbody>\n",
       "</table>\n",
       "<p>464 rows × 6 columns</p>\n",
       "</div>"
      ],
      "text/plain": [
       "                    date                                              title  \\\n",
       "0    2025-09-02 23:53:38  Oportunidade Única em JOAO PESSOA - PB | Tipo:...   \n",
       "1    2025-09-02 23:53:34  Oportunidade Única em JOAO PESSOA - PB | Tipo:...   \n",
       "2    2025-09-02 23:53:31  Oportunidade Única em JOAO PESSOA - PB | Tipo:...   \n",
       "3    2025-09-02 23:53:29  Oportunidade Única em JOAO PESSOA - PB | Tipo:...   \n",
       "4    2025-09-02 23:53:24  Oportunidade Única em JOAO PESSOA - PB | Tipo:...   \n",
       "..                   ...                                                ...   \n",
       "459  2025-09-02 23:25:38                                 Imoveis exclusivos   \n",
       "460  2025-09-02 23:25:35                                  Imóveis na Planta   \n",
       "461  2025-09-02 23:25:32  Vendo Imóveis de Alto padrão a Beira Mar de In...   \n",
       "462  2025-09-02 23:25:29  Imóveis para repasse possuem 62 m² com 02 quar...   \n",
       "463  2025-09-02 23:25:26                   Imóveis na planta em João Pessoa   \n",
       "\n",
       "          cep     price product_type  \\\n",
       "0    58062187   58295.0        Venda   \n",
       "1    58062157   58340.0        Venda   \n",
       "2    58084145   52666.0        Venda   \n",
       "3    58069100   47605.0        Venda   \n",
       "4    58062069   85477.0        Venda   \n",
       "..        ...       ...          ...   \n",
       "459  58038142  650000.0        Venda   \n",
       "460  58037030  416234.0        Venda   \n",
       "461  58028530  480000.0        Venda   \n",
       "462  58068103   42000.0        Venda   \n",
       "463  58045010  274900.0        Venda   \n",
       "\n",
       "                                                  link  \n",
       "0    https://pb.olx.com.br/paraiba/imoveis/oportuni...  \n",
       "1    https://pb.olx.com.br/paraiba/imoveis/oportuni...  \n",
       "2    https://pb.olx.com.br/paraiba/imoveis/oportuni...  \n",
       "3    https://pb.olx.com.br/paraiba/imoveis/oportuni...  \n",
       "4    https://pb.olx.com.br/paraiba/imoveis/oportuni...  \n",
       "..                                                 ...  \n",
       "459  https://pb.olx.com.br/paraiba/imoveis/imoveis-...  \n",
       "460  https://pb.olx.com.br/paraiba/imoveis/imoveis-...  \n",
       "461  https://pb.olx.com.br/paraiba/imoveis/vendo-im...  \n",
       "462  https://pb.olx.com.br/paraiba/imoveis/imoveis-...  \n",
       "463  https://pb.olx.com.br/paraiba/imoveis/imoveis-...  \n",
       "\n",
       "[464 rows x 6 columns]"
      ]
     },
     "execution_count": 14,
     "metadata": {},
     "output_type": "execute_result"
    }
   ],
   "source": [
    "cep_regex = r'(58\\d{6})'\n",
    "\n",
    "df['cep'] = df['cep'].str.extract(cep_regex)\n",
    "df = df.dropna(subset=['cep']).copy()\n",
    "df = df.reset_index(drop = True)\n",
    "df"
   ]
  },
  {
   "cell_type": "markdown",
   "id": "1a9633f5-98f7-4ce6-a332-bb6c10b4ec0a",
   "metadata": {},
   "source": [
    "Em ``title``, convém remover vírgulas e pontuações, bem como normalizar o texto para lower case:"
   ]
  },
  {
   "cell_type": "code",
   "execution_count": 15,
   "id": "8e1e8cef-d650-40e3-87f5-ebbba6b3f796",
   "metadata": {},
   "outputs": [],
   "source": [
    "df['title'] = df['title'].apply(lambda x: re.sub(r'[^\\w\\s]', '', x))\n",
    "df['title'] = df['title'].apply(lambda x: x.lower())"
   ]
  },
  {
   "cell_type": "code",
   "execution_count": 16,
   "id": "e22a5854-3d41-40f6-8a8d-21c39947c4e8",
   "metadata": {},
   "outputs": [
    {
     "data": {
      "text/html": [
       "<div>\n",
       "<style scoped>\n",
       "    .dataframe tbody tr th:only-of-type {\n",
       "        vertical-align: middle;\n",
       "    }\n",
       "\n",
       "    .dataframe tbody tr th {\n",
       "        vertical-align: top;\n",
       "    }\n",
       "\n",
       "    .dataframe thead th {\n",
       "        text-align: right;\n",
       "    }\n",
       "</style>\n",
       "<table border=\"1\" class=\"dataframe\">\n",
       "  <thead>\n",
       "    <tr style=\"text-align: right;\">\n",
       "      <th></th>\n",
       "      <th>date</th>\n",
       "      <th>title</th>\n",
       "      <th>cep</th>\n",
       "      <th>price</th>\n",
       "      <th>product_type</th>\n",
       "      <th>link</th>\n",
       "    </tr>\n",
       "  </thead>\n",
       "  <tbody>\n",
       "    <tr>\n",
       "      <th>0</th>\n",
       "      <td>2025-09-02 23:53:38</td>\n",
       "      <td>oportunidade única em joao pessoa  pb  tipo ap...</td>\n",
       "      <td>58062187</td>\n",
       "      <td>58295.0</td>\n",
       "      <td>Venda</td>\n",
       "      <td>https://pb.olx.com.br/paraiba/imoveis/oportuni...</td>\n",
       "    </tr>\n",
       "    <tr>\n",
       "      <th>1</th>\n",
       "      <td>2025-09-02 23:53:34</td>\n",
       "      <td>oportunidade única em joao pessoa  pb  tipo ap...</td>\n",
       "      <td>58062157</td>\n",
       "      <td>58340.0</td>\n",
       "      <td>Venda</td>\n",
       "      <td>https://pb.olx.com.br/paraiba/imoveis/oportuni...</td>\n",
       "    </tr>\n",
       "    <tr>\n",
       "      <th>2</th>\n",
       "      <td>2025-09-02 23:53:31</td>\n",
       "      <td>oportunidade única em joao pessoa  pb  tipo ap...</td>\n",
       "      <td>58084145</td>\n",
       "      <td>52666.0</td>\n",
       "      <td>Venda</td>\n",
       "      <td>https://pb.olx.com.br/paraiba/imoveis/oportuni...</td>\n",
       "    </tr>\n",
       "    <tr>\n",
       "      <th>3</th>\n",
       "      <td>2025-09-02 23:53:29</td>\n",
       "      <td>oportunidade única em joao pessoa  pb  tipo ap...</td>\n",
       "      <td>58069100</td>\n",
       "      <td>47605.0</td>\n",
       "      <td>Venda</td>\n",
       "      <td>https://pb.olx.com.br/paraiba/imoveis/oportuni...</td>\n",
       "    </tr>\n",
       "    <tr>\n",
       "      <th>4</th>\n",
       "      <td>2025-09-02 23:53:24</td>\n",
       "      <td>oportunidade única em joao pessoa  pb  tipo ap...</td>\n",
       "      <td>58062069</td>\n",
       "      <td>85477.0</td>\n",
       "      <td>Venda</td>\n",
       "      <td>https://pb.olx.com.br/paraiba/imoveis/oportuni...</td>\n",
       "    </tr>\n",
       "    <tr>\n",
       "      <th>...</th>\n",
       "      <td>...</td>\n",
       "      <td>...</td>\n",
       "      <td>...</td>\n",
       "      <td>...</td>\n",
       "      <td>...</td>\n",
       "      <td>...</td>\n",
       "    </tr>\n",
       "    <tr>\n",
       "      <th>459</th>\n",
       "      <td>2025-09-02 23:25:38</td>\n",
       "      <td>imoveis exclusivos</td>\n",
       "      <td>58038142</td>\n",
       "      <td>650000.0</td>\n",
       "      <td>Venda</td>\n",
       "      <td>https://pb.olx.com.br/paraiba/imoveis/imoveis-...</td>\n",
       "    </tr>\n",
       "    <tr>\n",
       "      <th>460</th>\n",
       "      <td>2025-09-02 23:25:35</td>\n",
       "      <td>imóveis na planta</td>\n",
       "      <td>58037030</td>\n",
       "      <td>416234.0</td>\n",
       "      <td>Venda</td>\n",
       "      <td>https://pb.olx.com.br/paraiba/imoveis/imoveis-...</td>\n",
       "    </tr>\n",
       "    <tr>\n",
       "      <th>461</th>\n",
       "      <td>2025-09-02 23:25:32</td>\n",
       "      <td>vendo imóveis de alto padrão a beira mar de in...</td>\n",
       "      <td>58028530</td>\n",
       "      <td>480000.0</td>\n",
       "      <td>Venda</td>\n",
       "      <td>https://pb.olx.com.br/paraiba/imoveis/vendo-im...</td>\n",
       "    </tr>\n",
       "    <tr>\n",
       "      <th>462</th>\n",
       "      <td>2025-09-02 23:25:29</td>\n",
       "      <td>imóveis para repasse possuem 62 m² com 02 quar...</td>\n",
       "      <td>58068103</td>\n",
       "      <td>42000.0</td>\n",
       "      <td>Venda</td>\n",
       "      <td>https://pb.olx.com.br/paraiba/imoveis/imoveis-...</td>\n",
       "    </tr>\n",
       "    <tr>\n",
       "      <th>463</th>\n",
       "      <td>2025-09-02 23:25:26</td>\n",
       "      <td>imóveis na planta em joão pessoa</td>\n",
       "      <td>58045010</td>\n",
       "      <td>274900.0</td>\n",
       "      <td>Venda</td>\n",
       "      <td>https://pb.olx.com.br/paraiba/imoveis/imoveis-...</td>\n",
       "    </tr>\n",
       "  </tbody>\n",
       "</table>\n",
       "<p>464 rows × 6 columns</p>\n",
       "</div>"
      ],
      "text/plain": [
       "                    date                                              title  \\\n",
       "0    2025-09-02 23:53:38  oportunidade única em joao pessoa  pb  tipo ap...   \n",
       "1    2025-09-02 23:53:34  oportunidade única em joao pessoa  pb  tipo ap...   \n",
       "2    2025-09-02 23:53:31  oportunidade única em joao pessoa  pb  tipo ap...   \n",
       "3    2025-09-02 23:53:29  oportunidade única em joao pessoa  pb  tipo ap...   \n",
       "4    2025-09-02 23:53:24  oportunidade única em joao pessoa  pb  tipo ap...   \n",
       "..                   ...                                                ...   \n",
       "459  2025-09-02 23:25:38                                 imoveis exclusivos   \n",
       "460  2025-09-02 23:25:35                                  imóveis na planta   \n",
       "461  2025-09-02 23:25:32  vendo imóveis de alto padrão a beira mar de in...   \n",
       "462  2025-09-02 23:25:29  imóveis para repasse possuem 62 m² com 02 quar...   \n",
       "463  2025-09-02 23:25:26                   imóveis na planta em joão pessoa   \n",
       "\n",
       "          cep     price product_type  \\\n",
       "0    58062187   58295.0        Venda   \n",
       "1    58062157   58340.0        Venda   \n",
       "2    58084145   52666.0        Venda   \n",
       "3    58069100   47605.0        Venda   \n",
       "4    58062069   85477.0        Venda   \n",
       "..        ...       ...          ...   \n",
       "459  58038142  650000.0        Venda   \n",
       "460  58037030  416234.0        Venda   \n",
       "461  58028530  480000.0        Venda   \n",
       "462  58068103   42000.0        Venda   \n",
       "463  58045010  274900.0        Venda   \n",
       "\n",
       "                                                  link  \n",
       "0    https://pb.olx.com.br/paraiba/imoveis/oportuni...  \n",
       "1    https://pb.olx.com.br/paraiba/imoveis/oportuni...  \n",
       "2    https://pb.olx.com.br/paraiba/imoveis/oportuni...  \n",
       "3    https://pb.olx.com.br/paraiba/imoveis/oportuni...  \n",
       "4    https://pb.olx.com.br/paraiba/imoveis/oportuni...  \n",
       "..                                                 ...  \n",
       "459  https://pb.olx.com.br/paraiba/imoveis/imoveis-...  \n",
       "460  https://pb.olx.com.br/paraiba/imoveis/imoveis-...  \n",
       "461  https://pb.olx.com.br/paraiba/imoveis/vendo-im...  \n",
       "462  https://pb.olx.com.br/paraiba/imoveis/imoveis-...  \n",
       "463  https://pb.olx.com.br/paraiba/imoveis/imoveis-...  \n",
       "\n",
       "[464 rows x 6 columns]"
      ]
     },
     "execution_count": 16,
     "metadata": {},
     "output_type": "execute_result"
    }
   ],
   "source": [
    "df"
   ]
  },
  {
   "cell_type": "markdown",
   "id": "b92d6c4c-b439-453f-b0d5-fdeea571986e",
   "metadata": {},
   "source": [
    "Vale a pena testar para duplicatas e valores nulos:"
   ]
  },
  {
   "cell_type": "code",
   "execution_count": 17,
   "id": "3f022269-b43c-431f-b9a7-1e2eca938fc4",
   "metadata": {},
   "outputs": [
    {
     "data": {
      "text/plain": [
       "np.int64(0)"
      ]
     },
     "execution_count": 17,
     "metadata": {},
     "output_type": "execute_result"
    }
   ],
   "source": [
    "df.duplicated().sum()"
   ]
  },
  {
   "cell_type": "markdown",
   "id": "dae16b1e-8cfe-407c-85df-e89d4c4fbbae",
   "metadata": {},
   "source": [
    "Removemos:"
   ]
  },
  {
   "cell_type": "code",
   "execution_count": 18,
   "id": "3d815c0f-c67e-4182-a79f-b1d748d122f7",
   "metadata": {},
   "outputs": [
    {
     "data": {
      "text/html": [
       "<div>\n",
       "<style scoped>\n",
       "    .dataframe tbody tr th:only-of-type {\n",
       "        vertical-align: middle;\n",
       "    }\n",
       "\n",
       "    .dataframe tbody tr th {\n",
       "        vertical-align: top;\n",
       "    }\n",
       "\n",
       "    .dataframe thead th {\n",
       "        text-align: right;\n",
       "    }\n",
       "</style>\n",
       "<table border=\"1\" class=\"dataframe\">\n",
       "  <thead>\n",
       "    <tr style=\"text-align: right;\">\n",
       "      <th></th>\n",
       "      <th>date</th>\n",
       "      <th>title</th>\n",
       "      <th>cep</th>\n",
       "      <th>price</th>\n",
       "      <th>product_type</th>\n",
       "      <th>link</th>\n",
       "    </tr>\n",
       "  </thead>\n",
       "  <tbody>\n",
       "    <tr>\n",
       "      <th>0</th>\n",
       "      <td>2025-09-02 23:53:38</td>\n",
       "      <td>oportunidade única em joao pessoa  pb  tipo ap...</td>\n",
       "      <td>58062187</td>\n",
       "      <td>58295.0</td>\n",
       "      <td>Venda</td>\n",
       "      <td>https://pb.olx.com.br/paraiba/imoveis/oportuni...</td>\n",
       "    </tr>\n",
       "    <tr>\n",
       "      <th>1</th>\n",
       "      <td>2025-09-02 23:53:34</td>\n",
       "      <td>oportunidade única em joao pessoa  pb  tipo ap...</td>\n",
       "      <td>58062157</td>\n",
       "      <td>58340.0</td>\n",
       "      <td>Venda</td>\n",
       "      <td>https://pb.olx.com.br/paraiba/imoveis/oportuni...</td>\n",
       "    </tr>\n",
       "    <tr>\n",
       "      <th>2</th>\n",
       "      <td>2025-09-02 23:53:31</td>\n",
       "      <td>oportunidade única em joao pessoa  pb  tipo ap...</td>\n",
       "      <td>58084145</td>\n",
       "      <td>52666.0</td>\n",
       "      <td>Venda</td>\n",
       "      <td>https://pb.olx.com.br/paraiba/imoveis/oportuni...</td>\n",
       "    </tr>\n",
       "    <tr>\n",
       "      <th>3</th>\n",
       "      <td>2025-09-02 23:53:29</td>\n",
       "      <td>oportunidade única em joao pessoa  pb  tipo ap...</td>\n",
       "      <td>58069100</td>\n",
       "      <td>47605.0</td>\n",
       "      <td>Venda</td>\n",
       "      <td>https://pb.olx.com.br/paraiba/imoveis/oportuni...</td>\n",
       "    </tr>\n",
       "    <tr>\n",
       "      <th>4</th>\n",
       "      <td>2025-09-02 23:53:24</td>\n",
       "      <td>oportunidade única em joao pessoa  pb  tipo ap...</td>\n",
       "      <td>58062069</td>\n",
       "      <td>85477.0</td>\n",
       "      <td>Venda</td>\n",
       "      <td>https://pb.olx.com.br/paraiba/imoveis/oportuni...</td>\n",
       "    </tr>\n",
       "    <tr>\n",
       "      <th>...</th>\n",
       "      <td>...</td>\n",
       "      <td>...</td>\n",
       "      <td>...</td>\n",
       "      <td>...</td>\n",
       "      <td>...</td>\n",
       "      <td>...</td>\n",
       "    </tr>\n",
       "    <tr>\n",
       "      <th>459</th>\n",
       "      <td>2025-09-02 23:25:38</td>\n",
       "      <td>imoveis exclusivos</td>\n",
       "      <td>58038142</td>\n",
       "      <td>650000.0</td>\n",
       "      <td>Venda</td>\n",
       "      <td>https://pb.olx.com.br/paraiba/imoveis/imoveis-...</td>\n",
       "    </tr>\n",
       "    <tr>\n",
       "      <th>460</th>\n",
       "      <td>2025-09-02 23:25:35</td>\n",
       "      <td>imóveis na planta</td>\n",
       "      <td>58037030</td>\n",
       "      <td>416234.0</td>\n",
       "      <td>Venda</td>\n",
       "      <td>https://pb.olx.com.br/paraiba/imoveis/imoveis-...</td>\n",
       "    </tr>\n",
       "    <tr>\n",
       "      <th>461</th>\n",
       "      <td>2025-09-02 23:25:32</td>\n",
       "      <td>vendo imóveis de alto padrão a beira mar de in...</td>\n",
       "      <td>58028530</td>\n",
       "      <td>480000.0</td>\n",
       "      <td>Venda</td>\n",
       "      <td>https://pb.olx.com.br/paraiba/imoveis/vendo-im...</td>\n",
       "    </tr>\n",
       "    <tr>\n",
       "      <th>462</th>\n",
       "      <td>2025-09-02 23:25:29</td>\n",
       "      <td>imóveis para repasse possuem 62 m² com 02 quar...</td>\n",
       "      <td>58068103</td>\n",
       "      <td>42000.0</td>\n",
       "      <td>Venda</td>\n",
       "      <td>https://pb.olx.com.br/paraiba/imoveis/imoveis-...</td>\n",
       "    </tr>\n",
       "    <tr>\n",
       "      <th>463</th>\n",
       "      <td>2025-09-02 23:25:26</td>\n",
       "      <td>imóveis na planta em joão pessoa</td>\n",
       "      <td>58045010</td>\n",
       "      <td>274900.0</td>\n",
       "      <td>Venda</td>\n",
       "      <td>https://pb.olx.com.br/paraiba/imoveis/imoveis-...</td>\n",
       "    </tr>\n",
       "  </tbody>\n",
       "</table>\n",
       "<p>464 rows × 6 columns</p>\n",
       "</div>"
      ],
      "text/plain": [
       "                    date                                              title  \\\n",
       "0    2025-09-02 23:53:38  oportunidade única em joao pessoa  pb  tipo ap...   \n",
       "1    2025-09-02 23:53:34  oportunidade única em joao pessoa  pb  tipo ap...   \n",
       "2    2025-09-02 23:53:31  oportunidade única em joao pessoa  pb  tipo ap...   \n",
       "3    2025-09-02 23:53:29  oportunidade única em joao pessoa  pb  tipo ap...   \n",
       "4    2025-09-02 23:53:24  oportunidade única em joao pessoa  pb  tipo ap...   \n",
       "..                   ...                                                ...   \n",
       "459  2025-09-02 23:25:38                                 imoveis exclusivos   \n",
       "460  2025-09-02 23:25:35                                  imóveis na planta   \n",
       "461  2025-09-02 23:25:32  vendo imóveis de alto padrão a beira mar de in...   \n",
       "462  2025-09-02 23:25:29  imóveis para repasse possuem 62 m² com 02 quar...   \n",
       "463  2025-09-02 23:25:26                   imóveis na planta em joão pessoa   \n",
       "\n",
       "          cep     price product_type  \\\n",
       "0    58062187   58295.0        Venda   \n",
       "1    58062157   58340.0        Venda   \n",
       "2    58084145   52666.0        Venda   \n",
       "3    58069100   47605.0        Venda   \n",
       "4    58062069   85477.0        Venda   \n",
       "..        ...       ...          ...   \n",
       "459  58038142  650000.0        Venda   \n",
       "460  58037030  416234.0        Venda   \n",
       "461  58028530  480000.0        Venda   \n",
       "462  58068103   42000.0        Venda   \n",
       "463  58045010  274900.0        Venda   \n",
       "\n",
       "                                                  link  \n",
       "0    https://pb.olx.com.br/paraiba/imoveis/oportuni...  \n",
       "1    https://pb.olx.com.br/paraiba/imoveis/oportuni...  \n",
       "2    https://pb.olx.com.br/paraiba/imoveis/oportuni...  \n",
       "3    https://pb.olx.com.br/paraiba/imoveis/oportuni...  \n",
       "4    https://pb.olx.com.br/paraiba/imoveis/oportuni...  \n",
       "..                                                 ...  \n",
       "459  https://pb.olx.com.br/paraiba/imoveis/imoveis-...  \n",
       "460  https://pb.olx.com.br/paraiba/imoveis/imoveis-...  \n",
       "461  https://pb.olx.com.br/paraiba/imoveis/vendo-im...  \n",
       "462  https://pb.olx.com.br/paraiba/imoveis/imoveis-...  \n",
       "463  https://pb.olx.com.br/paraiba/imoveis/imoveis-...  \n",
       "\n",
       "[464 rows x 6 columns]"
      ]
     },
     "execution_count": 18,
     "metadata": {},
     "output_type": "execute_result"
    }
   ],
   "source": [
    "df.drop_duplicates(inplace = True)\n",
    "df = df.reset_index(drop = True)\n",
    "\n",
    "df"
   ]
  },
  {
   "cell_type": "code",
   "execution_count": 19,
   "id": "d918bc07-e1d4-43b6-b6a1-ae0c03b5704d",
   "metadata": {},
   "outputs": [
    {
     "data": {
      "text/plain": [
       "np.int64(0)"
      ]
     },
     "execution_count": 19,
     "metadata": {},
     "output_type": "execute_result"
    }
   ],
   "source": [
    "df.duplicated().sum()"
   ]
  },
  {
   "cell_type": "code",
   "execution_count": 20,
   "id": "1cb6014b-32a5-4b45-8f35-90c1f7e2ae7f",
   "metadata": {},
   "outputs": [
    {
     "data": {
      "text/plain": [
       "date            0\n",
       "title           0\n",
       "cep             0\n",
       "price           0\n",
       "product_type    0\n",
       "link            0\n",
       "dtype: int64"
      ]
     },
     "execution_count": 20,
     "metadata": {},
     "output_type": "execute_result"
    }
   ],
   "source": [
    "df.isnull().sum()"
   ]
  },
  {
   "cell_type": "markdown",
   "id": "32deb8d9-f4e4-439e-aecd-aa9c29fca668",
   "metadata": {},
   "source": [
    "Tudo certo!"
   ]
  },
  {
   "cell_type": "markdown",
   "id": "8b51889c-4b8a-4ece-a69a-4df7a55aa29c",
   "metadata": {},
   "source": [
    "Vamos a uma análise inicial dos nossos dados:"
   ]
  },
  {
   "cell_type": "code",
   "execution_count": 21,
   "id": "32d06809-c076-47ba-820b-04df8c8d633e",
   "metadata": {},
   "outputs": [
    {
     "name": "stdout",
     "output_type": "stream",
     "text": [
      "<class 'pandas.core.frame.DataFrame'>\n",
      "RangeIndex: 464 entries, 0 to 463\n",
      "Data columns (total 6 columns):\n",
      " #   Column        Non-Null Count  Dtype  \n",
      "---  ------        --------------  -----  \n",
      " 0   date          464 non-null    object \n",
      " 1   title         464 non-null    object \n",
      " 2   cep           464 non-null    object \n",
      " 3   price         464 non-null    float64\n",
      " 4   product_type  464 non-null    object \n",
      " 5   link          464 non-null    object \n",
      "dtypes: float64(1), object(5)\n",
      "memory usage: 21.9+ KB\n"
     ]
    }
   ],
   "source": [
    "df.info()"
   ]
  },
  {
   "cell_type": "code",
   "execution_count": 22,
   "id": "c7fa6f02-cb57-4f67-9f7c-d844150fe069",
   "metadata": {},
   "outputs": [
    {
     "data": {
      "text/plain": [
       "date            464\n",
       "title           169\n",
       "cep             249\n",
       "price           352\n",
       "product_type      2\n",
       "link            464\n",
       "dtype: int64"
      ]
     },
     "execution_count": 22,
     "metadata": {},
     "output_type": "execute_result"
    }
   ],
   "source": [
    "df.nunique()"
   ]
  },
  {
   "cell_type": "code",
   "execution_count": 23,
   "id": "63198ab9-655c-49c3-9e6b-744652e210a6",
   "metadata": {},
   "outputs": [
    {
     "data": {
      "text/plain": [
       "count    4.640000e+02\n",
       "mean     6.144710e+05\n",
       "std      1.133105e+06\n",
       "min      8.000000e+02\n",
       "25%      7.269325e+04\n",
       "50%      2.792830e+05\n",
       "75%      7.660000e+05\n",
       "max      1.500000e+07\n",
       "Name: price, dtype: float64"
      ]
     },
     "execution_count": 23,
     "metadata": {},
     "output_type": "execute_result"
    }
   ],
   "source": [
    "df['price'].describe()"
   ]
  },
  {
   "cell_type": "code",
   "execution_count": 24,
   "id": "87aebc7c-e23d-488d-b8d9-c72feeaf0134",
   "metadata": {},
   "outputs": [
    {
     "data": {
      "text/plain": [
       "cep\n",
       "58046110     3.8793103448275863%\n",
       "58037030     3.6637931034482754%\n",
       "58045010     2.8017241379310347%\n",
       "58068200      2.586206896551724%\n",
       "58069472     2.3706896551724137%\n",
       "                    ...         \n",
       "58101650    0.21551724137931033%\n",
       "58075020    0.21551724137931033%\n",
       "58025430    0.21551724137931033%\n",
       "58038142    0.21551724137931033%\n",
       "58028530    0.21551724137931033%\n",
       "Name: count, Length: 249, dtype: object"
      ]
     },
     "execution_count": 24,
     "metadata": {},
     "output_type": "execute_result"
    }
   ],
   "source": [
    "total = df['cep'].value_counts().sum()\n",
    "\n",
    "df['cep'].value_counts().apply(lambda x: f\"{(x/total) * 100}%\")"
   ]
  },
  {
   "cell_type": "markdown",
   "id": "da22d223-6426-459f-a637-4edadf2688d1",
   "metadata": {},
   "source": [
    "Notamos uma dispersão muito grande dos valores dos preços. Para melhorar a visualização, vamos fazer uma extração desses outliers:"
   ]
  },
  {
   "cell_type": "code",
   "execution_count": 25,
   "id": "dae4b9af-e741-4b30-9c1f-be7c5c9d3ed9",
   "metadata": {},
   "outputs": [],
   "source": [
    "df_numeric = df.select_dtypes(include = 'float64')"
   ]
  },
  {
   "cell_type": "code",
   "execution_count": 26,
   "id": "a60415fa-0c4b-46d6-b71f-f9e58dfe905b",
   "metadata": {},
   "outputs": [
    {
     "name": "stdout",
     "output_type": "stream",
     "text": [
      "price    693306.75\n",
      "dtype: float64\n"
     ]
    }
   ],
   "source": [
    "Q1 = df_numeric.quantile(0.25)\n",
    "Q3 = df_numeric.quantile(0.75)\n",
    "\n",
    "IQR = Q3 - Q1\n",
    "\n",
    "print(IQR)"
   ]
  },
  {
   "cell_type": "code",
   "execution_count": 27,
   "id": "e86a8f9a-b398-4b9c-a578-3aefc0d5e531",
   "metadata": {},
   "outputs": [
    {
     "name": "stdout",
     "output_type": "stream",
     "text": [
      "price   -967266.875\n",
      "dtype: float64\n",
      "price    1805960.125\n",
      "dtype: float64\n"
     ]
    }
   ],
   "source": [
    "print(Q1 - 1.5 * IQR)\n",
    "print(Q3 + 1.5 * IQR)"
   ]
  },
  {
   "cell_type": "code",
   "execution_count": 28,
   "id": "37f39ffd-9d89-43b2-ba19-c6b8816a1c25",
   "metadata": {},
   "outputs": [],
   "source": [
    "outlier_mask = ((df_numeric < (Q1 - 1.5 * IQR)) | (df_numeric > (Q3 + 1.5 * IQR)))"
   ]
  },
  {
   "cell_type": "code",
   "execution_count": 29,
   "id": "3b6777b2-0a4a-4ad8-aa05-37cbdfc60d8c",
   "metadata": {},
   "outputs": [],
   "source": [
    "df_outliers = df[outlier_mask.any(axis = 1)]\n",
    "df_outliers = df_outliers.reset_index(drop = True)"
   ]
  },
  {
   "cell_type": "code",
   "execution_count": 30,
   "id": "61c4e8d5-4886-4ce0-a172-cd6c4da8101d",
   "metadata": {},
   "outputs": [
    {
     "data": {
      "text/html": [
       "<div>\n",
       "<style scoped>\n",
       "    .dataframe tbody tr th:only-of-type {\n",
       "        vertical-align: middle;\n",
       "    }\n",
       "\n",
       "    .dataframe tbody tr th {\n",
       "        vertical-align: top;\n",
       "    }\n",
       "\n",
       "    .dataframe thead th {\n",
       "        text-align: right;\n",
       "    }\n",
       "</style>\n",
       "<table border=\"1\" class=\"dataframe\">\n",
       "  <thead>\n",
       "    <tr style=\"text-align: right;\">\n",
       "      <th></th>\n",
       "      <th>date</th>\n",
       "      <th>title</th>\n",
       "      <th>cep</th>\n",
       "      <th>price</th>\n",
       "      <th>product_type</th>\n",
       "      <th>link</th>\n",
       "    </tr>\n",
       "  </thead>\n",
       "  <tbody>\n",
       "    <tr>\n",
       "      <th>0</th>\n",
       "      <td>2025-09-02 23:43:37</td>\n",
       "      <td>apartamento para venda em joão pessoa cabo bra...</td>\n",
       "      <td>58045010</td>\n",
       "      <td>4490000.0</td>\n",
       "      <td>Venda</td>\n",
       "      <td>https://pb.olx.com.br/paraiba/imoveis/apartame...</td>\n",
       "    </tr>\n",
       "    <tr>\n",
       "      <th>1</th>\n",
       "      <td>2025-09-02 23:43:33</td>\n",
       "      <td>apartamento para venda em joão pessoa cabo bra...</td>\n",
       "      <td>58045010</td>\n",
       "      <td>2890000.0</td>\n",
       "      <td>Venda</td>\n",
       "      <td>https://pb.olx.com.br/paraiba/imoveis/apartame...</td>\n",
       "    </tr>\n",
       "    <tr>\n",
       "      <th>2</th>\n",
       "      <td>2025-09-02 23:42:40</td>\n",
       "      <td>apartamento para venda em joão pessoa cabo bra...</td>\n",
       "      <td>58045010</td>\n",
       "      <td>4490000.0</td>\n",
       "      <td>Venda</td>\n",
       "      <td>https://pb.olx.com.br/paraiba/imoveis/apartame...</td>\n",
       "    </tr>\n",
       "    <tr>\n",
       "      <th>3</th>\n",
       "      <td>2025-09-02 23:40:18</td>\n",
       "      <td>apartamento para venda em joão pessoa conjunto...</td>\n",
       "      <td>58031270</td>\n",
       "      <td>2061879.0</td>\n",
       "      <td>Venda</td>\n",
       "      <td>https://pb.olx.com.br/paraiba/imoveis/apartame...</td>\n",
       "    </tr>\n",
       "    <tr>\n",
       "      <th>4</th>\n",
       "      <td>2025-09-02 23:39:39</td>\n",
       "      <td>apartamento para venda em joão pessoa brisamar...</td>\n",
       "      <td>58033370</td>\n",
       "      <td>2200000.0</td>\n",
       "      <td>Venda</td>\n",
       "      <td>https://pb.olx.com.br/paraiba/imoveis/apartame...</td>\n",
       "    </tr>\n",
       "    <tr>\n",
       "      <th>5</th>\n",
       "      <td>2025-09-02 23:39:24</td>\n",
       "      <td>apartamento para venda em joão pessoa altiplan...</td>\n",
       "      <td>58046170</td>\n",
       "      <td>2400000.0</td>\n",
       "      <td>Venda</td>\n",
       "      <td>https://pb.olx.com.br/paraiba/imoveis/apartame...</td>\n",
       "    </tr>\n",
       "    <tr>\n",
       "      <th>6</th>\n",
       "      <td>2025-09-02 23:37:55</td>\n",
       "      <td>cobertura para venda em joão pessoa cabo branc...</td>\n",
       "      <td>58045010</td>\n",
       "      <td>2535900.0</td>\n",
       "      <td>Venda</td>\n",
       "      <td>https://pb.olx.com.br/paraiba/imoveis/cobertur...</td>\n",
       "    </tr>\n",
       "    <tr>\n",
       "      <th>7</th>\n",
       "      <td>2025-09-02 23:37:24</td>\n",
       "      <td>apartamento para venda em joão pessoa altiplan...</td>\n",
       "      <td>58046092</td>\n",
       "      <td>3134537.0</td>\n",
       "      <td>Venda</td>\n",
       "      <td>https://pb.olx.com.br/paraiba/imoveis/apartame...</td>\n",
       "    </tr>\n",
       "    <tr>\n",
       "      <th>8</th>\n",
       "      <td>2025-09-02 23:37:11</td>\n",
       "      <td>apartamento para venda em joão pessoa jardim o...</td>\n",
       "      <td>58037603</td>\n",
       "      <td>2503117.0</td>\n",
       "      <td>Venda</td>\n",
       "      <td>https://pb.olx.com.br/paraiba/imoveis/apartame...</td>\n",
       "    </tr>\n",
       "    <tr>\n",
       "      <th>9</th>\n",
       "      <td>2025-09-02 23:37:03</td>\n",
       "      <td>apartamento para venda em joão pessoa brisamar...</td>\n",
       "      <td>58033130</td>\n",
       "      <td>2400000.0</td>\n",
       "      <td>Venda</td>\n",
       "      <td>https://pb.olx.com.br/paraiba/imoveis/apartame...</td>\n",
       "    </tr>\n",
       "    <tr>\n",
       "      <th>10</th>\n",
       "      <td>2025-09-02 23:36:54</td>\n",
       "      <td>apartamento para venda em joão pessoa cabo bra...</td>\n",
       "      <td>58045060</td>\n",
       "      <td>3000000.0</td>\n",
       "      <td>Venda</td>\n",
       "      <td>https://pb.olx.com.br/paraiba/imoveis/apartame...</td>\n",
       "    </tr>\n",
       "    <tr>\n",
       "      <th>11</th>\n",
       "      <td>2025-09-02 23:36:14</td>\n",
       "      <td>apartamento para venda em joão pessoa miramar ...</td>\n",
       "      <td>58043902</td>\n",
       "      <td>1890328.0</td>\n",
       "      <td>Venda</td>\n",
       "      <td>https://pb.olx.com.br/paraiba/imoveis/apartame...</td>\n",
       "    </tr>\n",
       "    <tr>\n",
       "      <th>12</th>\n",
       "      <td>2025-09-02 23:33:08</td>\n",
       "      <td>apartamento para venda em joão pessoa altiplan...</td>\n",
       "      <td>58046060</td>\n",
       "      <td>2600000.0</td>\n",
       "      <td>Venda</td>\n",
       "      <td>https://pb.olx.com.br/paraiba/imoveis/apartame...</td>\n",
       "    </tr>\n",
       "    <tr>\n",
       "      <th>13</th>\n",
       "      <td>2025-09-02 23:32:44</td>\n",
       "      <td>apartamento para venda em joão pessoa altiplan...</td>\n",
       "      <td>58046070</td>\n",
       "      <td>2981165.0</td>\n",
       "      <td>Venda</td>\n",
       "      <td>https://pb.olx.com.br/paraiba/imoveis/apartame...</td>\n",
       "    </tr>\n",
       "    <tr>\n",
       "      <th>14</th>\n",
       "      <td>2025-09-02 23:31:42</td>\n",
       "      <td>apartamento para venda em joão pessoa altiplan...</td>\n",
       "      <td>58046033</td>\n",
       "      <td>1890000.0</td>\n",
       "      <td>Venda</td>\n",
       "      <td>https://pb.olx.com.br/paraiba/imoveis/apartame...</td>\n",
       "    </tr>\n",
       "    <tr>\n",
       "      <th>15</th>\n",
       "      <td>2025-09-02 23:29:54</td>\n",
       "      <td>joão pessoa  prédio inteiro  mangabeira</td>\n",
       "      <td>58055000</td>\n",
       "      <td>4000000.0</td>\n",
       "      <td>Venda</td>\n",
       "      <td>https://pb.olx.com.br/paraiba/comercio-e-indus...</td>\n",
       "    </tr>\n",
       "    <tr>\n",
       "      <th>16</th>\n",
       "      <td>2025-09-02 23:29:49</td>\n",
       "      <td>joao pessoa ótima área com 54000 metros  em   ...</td>\n",
       "      <td>58062184</td>\n",
       "      <td>15000000.0</td>\n",
       "      <td>Venda</td>\n",
       "      <td>https://pb.olx.com.br/paraiba/terrenos/joao-pe...</td>\n",
       "    </tr>\n",
       "    <tr>\n",
       "      <th>17</th>\n",
       "      <td>2025-09-02 23:29:39</td>\n",
       "      <td>joão pessoa  apartamento padrão  cabo branco</td>\n",
       "      <td>58045230</td>\n",
       "      <td>2200001.0</td>\n",
       "      <td>Venda</td>\n",
       "      <td>https://pb.olx.com.br/paraiba/imoveis/joao-pes...</td>\n",
       "    </tr>\n",
       "    <tr>\n",
       "      <th>18</th>\n",
       "      <td>2025-09-02 23:29:37</td>\n",
       "      <td>joão pessoa  apartamento padrão  jardim oceania</td>\n",
       "      <td>58037030</td>\n",
       "      <td>2800001.0</td>\n",
       "      <td>Venda</td>\n",
       "      <td>https://pb.olx.com.br/paraiba/imoveis/joao-pes...</td>\n",
       "    </tr>\n",
       "    <tr>\n",
       "      <th>19</th>\n",
       "      <td>2025-09-02 23:28:44</td>\n",
       "      <td>apartamento na praia de cabo branco nai allian...</td>\n",
       "      <td>58045010</td>\n",
       "      <td>10208000.0</td>\n",
       "      <td>Venda</td>\n",
       "      <td>https://pb.olx.com.br/paraiba/imoveis/apartame...</td>\n",
       "    </tr>\n",
       "    <tr>\n",
       "      <th>20</th>\n",
       "      <td>2025-09-02 23:28:39</td>\n",
       "      <td>apartamento em altiplano com vista mar 5 suíte...</td>\n",
       "      <td>58046110</td>\n",
       "      <td>5491000.0</td>\n",
       "      <td>Venda</td>\n",
       "      <td>https://pb.olx.com.br/paraiba/imoveis/apartame...</td>\n",
       "    </tr>\n",
       "    <tr>\n",
       "      <th>21</th>\n",
       "      <td>2025-09-02 23:28:37</td>\n",
       "      <td>nai cabo branco alliance frente mar com 182m2 ...</td>\n",
       "      <td>58045010</td>\n",
       "      <td>4533633.0</td>\n",
       "      <td>Venda</td>\n",
       "      <td>https://pb.olx.com.br/paraiba/imoveis/nai-cabo...</td>\n",
       "    </tr>\n",
       "    <tr>\n",
       "      <th>22</th>\n",
       "      <td>2025-09-02 23:28:34</td>\n",
       "      <td>apartamento em altiplano com 4 suítes joão pes...</td>\n",
       "      <td>58046110</td>\n",
       "      <td>2600000.0</td>\n",
       "      <td>Venda</td>\n",
       "      <td>https://pb.olx.com.br/paraiba/imoveis/apartame...</td>\n",
       "    </tr>\n",
       "    <tr>\n",
       "      <th>23</th>\n",
       "      <td>2025-09-02 23:28:30</td>\n",
       "      <td>apartamento no bairro dos estados 4 suítes joã...</td>\n",
       "      <td>58031270</td>\n",
       "      <td>2129000.0</td>\n",
       "      <td>Venda</td>\n",
       "      <td>https://pb.olx.com.br/paraiba/imoveis/apartame...</td>\n",
       "    </tr>\n",
       "    <tr>\n",
       "      <th>24</th>\n",
       "      <td>2025-09-02 23:27:56</td>\n",
       "      <td>alti altiplano residencial alti  hstation joão...</td>\n",
       "      <td>58046110</td>\n",
       "      <td>4243000.0</td>\n",
       "      <td>Venda</td>\n",
       "      <td>https://pb.olx.com.br/paraiba/imoveis/alti-alt...</td>\n",
       "    </tr>\n",
       "    <tr>\n",
       "      <th>25</th>\n",
       "      <td>2025-09-02 23:27:49</td>\n",
       "      <td>apartamento no bairro dos estados com 3 suítes...</td>\n",
       "      <td>58031270</td>\n",
       "      <td>2172000.0</td>\n",
       "      <td>Venda</td>\n",
       "      <td>https://pb.olx.com.br/paraiba/imoveis/apartame...</td>\n",
       "    </tr>\n",
       "    <tr>\n",
       "      <th>26</th>\n",
       "      <td>2025-09-02 23:27:39</td>\n",
       "      <td>apartamento beiramar de cabo branco joão pesso...</td>\n",
       "      <td>58045010</td>\n",
       "      <td>2047000.0</td>\n",
       "      <td>Venda</td>\n",
       "      <td>https://pb.olx.com.br/paraiba/imoveis/apartame...</td>\n",
       "    </tr>\n",
       "    <tr>\n",
       "      <th>27</th>\n",
       "      <td>2025-09-02 23:27:26</td>\n",
       "      <td>heron marinho apartamento com 510m2 altiplano ...</td>\n",
       "      <td>58046110</td>\n",
       "      <td>5561000.0</td>\n",
       "      <td>Venda</td>\n",
       "      <td>https://pb.olx.com.br/paraiba/imoveis/heron-ma...</td>\n",
       "    </tr>\n",
       "    <tr>\n",
       "      <th>28</th>\n",
       "      <td>2025-09-02 23:27:05</td>\n",
       "      <td>aqualux em ponta de campina cabedelo com 3 suí...</td>\n",
       "      <td>58101650</td>\n",
       "      <td>3000000.0</td>\n",
       "      <td>Venda</td>\n",
       "      <td>https://pb.olx.com.br/paraiba/imoveis/aqualux-...</td>\n",
       "    </tr>\n",
       "    <tr>\n",
       "      <th>29</th>\n",
       "      <td>2025-09-02 23:26:55</td>\n",
       "      <td>casa em condomínio fechado até 5 suítes portal...</td>\n",
       "      <td>58046110</td>\n",
       "      <td>1931000.0</td>\n",
       "      <td>Venda</td>\n",
       "      <td>https://pb.olx.com.br/paraiba/imoveis/casa-em-...</td>\n",
       "    </tr>\n",
       "    <tr>\n",
       "      <th>30</th>\n",
       "      <td>2025-09-02 23:26:52</td>\n",
       "      <td>apartamento em altiplano 4 suítes joão pessoa ...</td>\n",
       "      <td>58046110</td>\n",
       "      <td>3166000.0</td>\n",
       "      <td>Venda</td>\n",
       "      <td>https://pb.olx.com.br/paraiba/imoveis/apartame...</td>\n",
       "    </tr>\n",
       "  </tbody>\n",
       "</table>\n",
       "</div>"
      ],
      "text/plain": [
       "                   date                                              title  \\\n",
       "0   2025-09-02 23:43:37  apartamento para venda em joão pessoa cabo bra...   \n",
       "1   2025-09-02 23:43:33  apartamento para venda em joão pessoa cabo bra...   \n",
       "2   2025-09-02 23:42:40  apartamento para venda em joão pessoa cabo bra...   \n",
       "3   2025-09-02 23:40:18  apartamento para venda em joão pessoa conjunto...   \n",
       "4   2025-09-02 23:39:39  apartamento para venda em joão pessoa brisamar...   \n",
       "5   2025-09-02 23:39:24  apartamento para venda em joão pessoa altiplan...   \n",
       "6   2025-09-02 23:37:55  cobertura para venda em joão pessoa cabo branc...   \n",
       "7   2025-09-02 23:37:24  apartamento para venda em joão pessoa altiplan...   \n",
       "8   2025-09-02 23:37:11  apartamento para venda em joão pessoa jardim o...   \n",
       "9   2025-09-02 23:37:03  apartamento para venda em joão pessoa brisamar...   \n",
       "10  2025-09-02 23:36:54  apartamento para venda em joão pessoa cabo bra...   \n",
       "11  2025-09-02 23:36:14  apartamento para venda em joão pessoa miramar ...   \n",
       "12  2025-09-02 23:33:08  apartamento para venda em joão pessoa altiplan...   \n",
       "13  2025-09-02 23:32:44  apartamento para venda em joão pessoa altiplan...   \n",
       "14  2025-09-02 23:31:42  apartamento para venda em joão pessoa altiplan...   \n",
       "15  2025-09-02 23:29:54            joão pessoa  prédio inteiro  mangabeira   \n",
       "16  2025-09-02 23:29:49  joao pessoa ótima área com 54000 metros  em   ...   \n",
       "17  2025-09-02 23:29:39       joão pessoa  apartamento padrão  cabo branco   \n",
       "18  2025-09-02 23:29:37    joão pessoa  apartamento padrão  jardim oceania   \n",
       "19  2025-09-02 23:28:44  apartamento na praia de cabo branco nai allian...   \n",
       "20  2025-09-02 23:28:39  apartamento em altiplano com vista mar 5 suíte...   \n",
       "21  2025-09-02 23:28:37  nai cabo branco alliance frente mar com 182m2 ...   \n",
       "22  2025-09-02 23:28:34  apartamento em altiplano com 4 suítes joão pes...   \n",
       "23  2025-09-02 23:28:30  apartamento no bairro dos estados 4 suítes joã...   \n",
       "24  2025-09-02 23:27:56  alti altiplano residencial alti  hstation joão...   \n",
       "25  2025-09-02 23:27:49  apartamento no bairro dos estados com 3 suítes...   \n",
       "26  2025-09-02 23:27:39  apartamento beiramar de cabo branco joão pesso...   \n",
       "27  2025-09-02 23:27:26  heron marinho apartamento com 510m2 altiplano ...   \n",
       "28  2025-09-02 23:27:05  aqualux em ponta de campina cabedelo com 3 suí...   \n",
       "29  2025-09-02 23:26:55  casa em condomínio fechado até 5 suítes portal...   \n",
       "30  2025-09-02 23:26:52  apartamento em altiplano 4 suítes joão pessoa ...   \n",
       "\n",
       "         cep       price product_type  \\\n",
       "0   58045010   4490000.0        Venda   \n",
       "1   58045010   2890000.0        Venda   \n",
       "2   58045010   4490000.0        Venda   \n",
       "3   58031270   2061879.0        Venda   \n",
       "4   58033370   2200000.0        Venda   \n",
       "5   58046170   2400000.0        Venda   \n",
       "6   58045010   2535900.0        Venda   \n",
       "7   58046092   3134537.0        Venda   \n",
       "8   58037603   2503117.0        Venda   \n",
       "9   58033130   2400000.0        Venda   \n",
       "10  58045060   3000000.0        Venda   \n",
       "11  58043902   1890328.0        Venda   \n",
       "12  58046060   2600000.0        Venda   \n",
       "13  58046070   2981165.0        Venda   \n",
       "14  58046033   1890000.0        Venda   \n",
       "15  58055000   4000000.0        Venda   \n",
       "16  58062184  15000000.0        Venda   \n",
       "17  58045230   2200001.0        Venda   \n",
       "18  58037030   2800001.0        Venda   \n",
       "19  58045010  10208000.0        Venda   \n",
       "20  58046110   5491000.0        Venda   \n",
       "21  58045010   4533633.0        Venda   \n",
       "22  58046110   2600000.0        Venda   \n",
       "23  58031270   2129000.0        Venda   \n",
       "24  58046110   4243000.0        Venda   \n",
       "25  58031270   2172000.0        Venda   \n",
       "26  58045010   2047000.0        Venda   \n",
       "27  58046110   5561000.0        Venda   \n",
       "28  58101650   3000000.0        Venda   \n",
       "29  58046110   1931000.0        Venda   \n",
       "30  58046110   3166000.0        Venda   \n",
       "\n",
       "                                                 link  \n",
       "0   https://pb.olx.com.br/paraiba/imoveis/apartame...  \n",
       "1   https://pb.olx.com.br/paraiba/imoveis/apartame...  \n",
       "2   https://pb.olx.com.br/paraiba/imoveis/apartame...  \n",
       "3   https://pb.olx.com.br/paraiba/imoveis/apartame...  \n",
       "4   https://pb.olx.com.br/paraiba/imoveis/apartame...  \n",
       "5   https://pb.olx.com.br/paraiba/imoveis/apartame...  \n",
       "6   https://pb.olx.com.br/paraiba/imoveis/cobertur...  \n",
       "7   https://pb.olx.com.br/paraiba/imoveis/apartame...  \n",
       "8   https://pb.olx.com.br/paraiba/imoveis/apartame...  \n",
       "9   https://pb.olx.com.br/paraiba/imoveis/apartame...  \n",
       "10  https://pb.olx.com.br/paraiba/imoveis/apartame...  \n",
       "11  https://pb.olx.com.br/paraiba/imoveis/apartame...  \n",
       "12  https://pb.olx.com.br/paraiba/imoveis/apartame...  \n",
       "13  https://pb.olx.com.br/paraiba/imoveis/apartame...  \n",
       "14  https://pb.olx.com.br/paraiba/imoveis/apartame...  \n",
       "15  https://pb.olx.com.br/paraiba/comercio-e-indus...  \n",
       "16  https://pb.olx.com.br/paraiba/terrenos/joao-pe...  \n",
       "17  https://pb.olx.com.br/paraiba/imoveis/joao-pes...  \n",
       "18  https://pb.olx.com.br/paraiba/imoveis/joao-pes...  \n",
       "19  https://pb.olx.com.br/paraiba/imoveis/apartame...  \n",
       "20  https://pb.olx.com.br/paraiba/imoveis/apartame...  \n",
       "21  https://pb.olx.com.br/paraiba/imoveis/nai-cabo...  \n",
       "22  https://pb.olx.com.br/paraiba/imoveis/apartame...  \n",
       "23  https://pb.olx.com.br/paraiba/imoveis/apartame...  \n",
       "24  https://pb.olx.com.br/paraiba/imoveis/alti-alt...  \n",
       "25  https://pb.olx.com.br/paraiba/imoveis/apartame...  \n",
       "26  https://pb.olx.com.br/paraiba/imoveis/apartame...  \n",
       "27  https://pb.olx.com.br/paraiba/imoveis/heron-ma...  \n",
       "28  https://pb.olx.com.br/paraiba/imoveis/aqualux-...  \n",
       "29  https://pb.olx.com.br/paraiba/imoveis/casa-em-...  \n",
       "30  https://pb.olx.com.br/paraiba/imoveis/apartame...  "
      ]
     },
     "execution_count": 30,
     "metadata": {},
     "output_type": "execute_result"
    }
   ],
   "source": [
    "df_outliers"
   ]
  },
  {
   "cell_type": "code",
   "execution_count": 31,
   "id": "c1ce7190-5127-4f30-bcfb-b8447f464e0b",
   "metadata": {},
   "outputs": [],
   "source": [
    "df = df[~outlier_mask.any(axis = 1)]\n",
    "df = df.reset_index(drop = True)"
   ]
  },
  {
   "cell_type": "code",
   "execution_count": 32,
   "id": "4ea53ccc-a95c-4452-9708-49df51db08b1",
   "metadata": {},
   "outputs": [
    {
     "data": {
      "text/html": [
       "<div>\n",
       "<style scoped>\n",
       "    .dataframe tbody tr th:only-of-type {\n",
       "        vertical-align: middle;\n",
       "    }\n",
       "\n",
       "    .dataframe tbody tr th {\n",
       "        vertical-align: top;\n",
       "    }\n",
       "\n",
       "    .dataframe thead th {\n",
       "        text-align: right;\n",
       "    }\n",
       "</style>\n",
       "<table border=\"1\" class=\"dataframe\">\n",
       "  <thead>\n",
       "    <tr style=\"text-align: right;\">\n",
       "      <th></th>\n",
       "      <th>date</th>\n",
       "      <th>title</th>\n",
       "      <th>cep</th>\n",
       "      <th>price</th>\n",
       "      <th>product_type</th>\n",
       "      <th>link</th>\n",
       "    </tr>\n",
       "  </thead>\n",
       "  <tbody>\n",
       "    <tr>\n",
       "      <th>0</th>\n",
       "      <td>2025-09-02 23:53:38</td>\n",
       "      <td>oportunidade única em joao pessoa  pb  tipo ap...</td>\n",
       "      <td>58062187</td>\n",
       "      <td>58295.0</td>\n",
       "      <td>Venda</td>\n",
       "      <td>https://pb.olx.com.br/paraiba/imoveis/oportuni...</td>\n",
       "    </tr>\n",
       "    <tr>\n",
       "      <th>1</th>\n",
       "      <td>2025-09-02 23:53:34</td>\n",
       "      <td>oportunidade única em joao pessoa  pb  tipo ap...</td>\n",
       "      <td>58062157</td>\n",
       "      <td>58340.0</td>\n",
       "      <td>Venda</td>\n",
       "      <td>https://pb.olx.com.br/paraiba/imoveis/oportuni...</td>\n",
       "    </tr>\n",
       "    <tr>\n",
       "      <th>2</th>\n",
       "      <td>2025-09-02 23:53:31</td>\n",
       "      <td>oportunidade única em joao pessoa  pb  tipo ap...</td>\n",
       "      <td>58084145</td>\n",
       "      <td>52666.0</td>\n",
       "      <td>Venda</td>\n",
       "      <td>https://pb.olx.com.br/paraiba/imoveis/oportuni...</td>\n",
       "    </tr>\n",
       "    <tr>\n",
       "      <th>3</th>\n",
       "      <td>2025-09-02 23:53:29</td>\n",
       "      <td>oportunidade única em joao pessoa  pb  tipo ap...</td>\n",
       "      <td>58069100</td>\n",
       "      <td>47605.0</td>\n",
       "      <td>Venda</td>\n",
       "      <td>https://pb.olx.com.br/paraiba/imoveis/oportuni...</td>\n",
       "    </tr>\n",
       "    <tr>\n",
       "      <th>4</th>\n",
       "      <td>2025-09-02 23:53:24</td>\n",
       "      <td>oportunidade única em joao pessoa  pb  tipo ap...</td>\n",
       "      <td>58062069</td>\n",
       "      <td>85477.0</td>\n",
       "      <td>Venda</td>\n",
       "      <td>https://pb.olx.com.br/paraiba/imoveis/oportuni...</td>\n",
       "    </tr>\n",
       "    <tr>\n",
       "      <th>...</th>\n",
       "      <td>...</td>\n",
       "      <td>...</td>\n",
       "      <td>...</td>\n",
       "      <td>...</td>\n",
       "      <td>...</td>\n",
       "      <td>...</td>\n",
       "    </tr>\n",
       "    <tr>\n",
       "      <th>428</th>\n",
       "      <td>2025-09-02 23:25:38</td>\n",
       "      <td>imoveis exclusivos</td>\n",
       "      <td>58038142</td>\n",
       "      <td>650000.0</td>\n",
       "      <td>Venda</td>\n",
       "      <td>https://pb.olx.com.br/paraiba/imoveis/imoveis-...</td>\n",
       "    </tr>\n",
       "    <tr>\n",
       "      <th>429</th>\n",
       "      <td>2025-09-02 23:25:35</td>\n",
       "      <td>imóveis na planta</td>\n",
       "      <td>58037030</td>\n",
       "      <td>416234.0</td>\n",
       "      <td>Venda</td>\n",
       "      <td>https://pb.olx.com.br/paraiba/imoveis/imoveis-...</td>\n",
       "    </tr>\n",
       "    <tr>\n",
       "      <th>430</th>\n",
       "      <td>2025-09-02 23:25:32</td>\n",
       "      <td>vendo imóveis de alto padrão a beira mar de in...</td>\n",
       "      <td>58028530</td>\n",
       "      <td>480000.0</td>\n",
       "      <td>Venda</td>\n",
       "      <td>https://pb.olx.com.br/paraiba/imoveis/vendo-im...</td>\n",
       "    </tr>\n",
       "    <tr>\n",
       "      <th>431</th>\n",
       "      <td>2025-09-02 23:25:29</td>\n",
       "      <td>imóveis para repasse possuem 62 m² com 02 quar...</td>\n",
       "      <td>58068103</td>\n",
       "      <td>42000.0</td>\n",
       "      <td>Venda</td>\n",
       "      <td>https://pb.olx.com.br/paraiba/imoveis/imoveis-...</td>\n",
       "    </tr>\n",
       "    <tr>\n",
       "      <th>432</th>\n",
       "      <td>2025-09-02 23:25:26</td>\n",
       "      <td>imóveis na planta em joão pessoa</td>\n",
       "      <td>58045010</td>\n",
       "      <td>274900.0</td>\n",
       "      <td>Venda</td>\n",
       "      <td>https://pb.olx.com.br/paraiba/imoveis/imoveis-...</td>\n",
       "    </tr>\n",
       "  </tbody>\n",
       "</table>\n",
       "<p>433 rows × 6 columns</p>\n",
       "</div>"
      ],
      "text/plain": [
       "                    date                                              title  \\\n",
       "0    2025-09-02 23:53:38  oportunidade única em joao pessoa  pb  tipo ap...   \n",
       "1    2025-09-02 23:53:34  oportunidade única em joao pessoa  pb  tipo ap...   \n",
       "2    2025-09-02 23:53:31  oportunidade única em joao pessoa  pb  tipo ap...   \n",
       "3    2025-09-02 23:53:29  oportunidade única em joao pessoa  pb  tipo ap...   \n",
       "4    2025-09-02 23:53:24  oportunidade única em joao pessoa  pb  tipo ap...   \n",
       "..                   ...                                                ...   \n",
       "428  2025-09-02 23:25:38                                 imoveis exclusivos   \n",
       "429  2025-09-02 23:25:35                                  imóveis na planta   \n",
       "430  2025-09-02 23:25:32  vendo imóveis de alto padrão a beira mar de in...   \n",
       "431  2025-09-02 23:25:29  imóveis para repasse possuem 62 m² com 02 quar...   \n",
       "432  2025-09-02 23:25:26                   imóveis na planta em joão pessoa   \n",
       "\n",
       "          cep     price product_type  \\\n",
       "0    58062187   58295.0        Venda   \n",
       "1    58062157   58340.0        Venda   \n",
       "2    58084145   52666.0        Venda   \n",
       "3    58069100   47605.0        Venda   \n",
       "4    58062069   85477.0        Venda   \n",
       "..        ...       ...          ...   \n",
       "428  58038142  650000.0        Venda   \n",
       "429  58037030  416234.0        Venda   \n",
       "430  58028530  480000.0        Venda   \n",
       "431  58068103   42000.0        Venda   \n",
       "432  58045010  274900.0        Venda   \n",
       "\n",
       "                                                  link  \n",
       "0    https://pb.olx.com.br/paraiba/imoveis/oportuni...  \n",
       "1    https://pb.olx.com.br/paraiba/imoveis/oportuni...  \n",
       "2    https://pb.olx.com.br/paraiba/imoveis/oportuni...  \n",
       "3    https://pb.olx.com.br/paraiba/imoveis/oportuni...  \n",
       "4    https://pb.olx.com.br/paraiba/imoveis/oportuni...  \n",
       "..                                                 ...  \n",
       "428  https://pb.olx.com.br/paraiba/imoveis/imoveis-...  \n",
       "429  https://pb.olx.com.br/paraiba/imoveis/imoveis-...  \n",
       "430  https://pb.olx.com.br/paraiba/imoveis/vendo-im...  \n",
       "431  https://pb.olx.com.br/paraiba/imoveis/imoveis-...  \n",
       "432  https://pb.olx.com.br/paraiba/imoveis/imoveis-...  \n",
       "\n",
       "[433 rows x 6 columns]"
      ]
     },
     "execution_count": 32,
     "metadata": {},
     "output_type": "execute_result"
    }
   ],
   "source": [
    "df"
   ]
  },
  {
   "cell_type": "code",
   "execution_count": 33,
   "id": "84e062c4-31dd-4c11-9046-5a16838b1d65",
   "metadata": {},
   "outputs": [
    {
     "data": {
      "text/html": [
       "<div>\n",
       "<style scoped>\n",
       "    .dataframe tbody tr th:only-of-type {\n",
       "        vertical-align: middle;\n",
       "    }\n",
       "\n",
       "    .dataframe tbody tr th {\n",
       "        vertical-align: top;\n",
       "    }\n",
       "\n",
       "    .dataframe thead th {\n",
       "        text-align: right;\n",
       "    }\n",
       "</style>\n",
       "<table border=\"1\" class=\"dataframe\">\n",
       "  <thead>\n",
       "    <tr style=\"text-align: right;\">\n",
       "      <th></th>\n",
       "      <th>price</th>\n",
       "    </tr>\n",
       "  </thead>\n",
       "  <tbody>\n",
       "    <tr>\n",
       "      <th>count</th>\n",
       "      <td>4.330000e+02</td>\n",
       "    </tr>\n",
       "    <tr>\n",
       "      <th>mean</th>\n",
       "      <td>3.985358e+05</td>\n",
       "    </tr>\n",
       "    <tr>\n",
       "      <th>std</th>\n",
       "      <td>4.216699e+05</td>\n",
       "    </tr>\n",
       "    <tr>\n",
       "      <th>min</th>\n",
       "      <td>8.000000e+02</td>\n",
       "    </tr>\n",
       "    <tr>\n",
       "      <th>25%</th>\n",
       "      <td>7.165400e+04</td>\n",
       "    </tr>\n",
       "    <tr>\n",
       "      <th>50%</th>\n",
       "      <td>9.600000e+04</td>\n",
       "    </tr>\n",
       "    <tr>\n",
       "      <th>75%</th>\n",
       "      <td>6.490000e+05</td>\n",
       "    </tr>\n",
       "    <tr>\n",
       "      <th>max</th>\n",
       "      <td>1.800000e+06</td>\n",
       "    </tr>\n",
       "  </tbody>\n",
       "</table>\n",
       "</div>"
      ],
      "text/plain": [
       "              price\n",
       "count  4.330000e+02\n",
       "mean   3.985358e+05\n",
       "std    4.216699e+05\n",
       "min    8.000000e+02\n",
       "25%    7.165400e+04\n",
       "50%    9.600000e+04\n",
       "75%    6.490000e+05\n",
       "max    1.800000e+06"
      ]
     },
     "execution_count": 33,
     "metadata": {},
     "output_type": "execute_result"
    }
   ],
   "source": [
    "df.describe(include = 'float64')"
   ]
  },
  {
   "cell_type": "markdown",
   "id": "6c932c36-b301-45ca-96fc-25a4e118b95f",
   "metadata": {},
   "source": [
    "Vejamos quanto de nossa análise abrangeu entre vendas e aluguéis:"
   ]
  },
  {
   "cell_type": "code",
   "execution_count": 34,
   "id": "db2f4f39-3497-4f3c-8bef-4195c3db9f3c",
   "metadata": {},
   "outputs": [
    {
     "data": {
      "text/plain": [
       "product_type\n",
       "Venda      428\n",
       "Aluguel      5\n",
       "Name: count, dtype: int64"
      ]
     },
     "execution_count": 34,
     "metadata": {},
     "output_type": "execute_result"
    }
   ],
   "source": [
    "df['product_type'].value_counts()"
   ]
  },
  {
   "cell_type": "markdown",
   "id": "aaf9e82d-6676-4908-a197-a3f0093c713c",
   "metadata": {},
   "source": [
    "Para esta análise, ocupar-nos-emos das vendas apenas:"
   ]
  },
  {
   "cell_type": "code",
   "execution_count": 35,
   "id": "6a4819e4-748b-4fd3-ad3f-f7a2d5fa8e85",
   "metadata": {},
   "outputs": [],
   "source": [
    "df = df[df['product_type'] == 'Venda']"
   ]
  },
  {
   "cell_type": "code",
   "execution_count": 36,
   "id": "f95c0c3d-367e-48a7-b30e-d2f1878b2137",
   "metadata": {},
   "outputs": [],
   "source": [
    "df = df.reset_index(drop = True)"
   ]
  },
  {
   "cell_type": "markdown",
   "id": "bdadaf76-124c-451c-ae8e-6eb397671c1b",
   "metadata": {},
   "source": [
    "## 4. Visualização"
   ]
  },
  {
   "cell_type": "code",
   "execution_count": 37,
   "id": "dc3d2ad4-7ccf-4112-9f02-d23863dd8f51",
   "metadata": {},
   "outputs": [
    {
     "data": {
      "application/vnd.plotly.v1+json": {
       "config": {
        "plotlyServerURL": "https://plot.ly"
       },
       "data": [
        {
         "alignmentgroup": "True",
         "hovertemplate": "price=%{y}<extra></extra>",
         "legendgroup": "",
         "marker": {
          "color": "#636efa"
         },
         "name": "",
         "notched": false,
         "offsetgroup": "",
         "orientation": "v",
         "showlegend": false,
         "type": "box",
         "x0": " ",
         "xaxis": "x",
         "y": {
          "bdata": "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",
          "dtype": "f8"
         },
         "y0": " ",
         "yaxis": "y"
        }
       ],
       "layout": {
        "boxmode": "group",
        "legend": {
         "tracegroupgap": 0
        },
        "template": {
         "data": {
          "bar": [
           {
            "error_x": {
             "color": "#2a3f5f"
            },
            "error_y": {
             "color": "#2a3f5f"
            },
            "marker": {
             "line": {
              "color": "#E5ECF6",
              "width": 0.5
             },
             "pattern": {
              "fillmode": "overlay",
              "size": 10,
              "solidity": 0.2
             }
            },
            "type": "bar"
           }
          ],
          "barpolar": [
           {
            "marker": {
             "line": {
              "color": "#E5ECF6",
              "width": 0.5
             },
             "pattern": {
              "fillmode": "overlay",
              "size": 10,
              "solidity": 0.2
             }
            },
            "type": "barpolar"
           }
          ],
          "carpet": [
           {
            "aaxis": {
             "endlinecolor": "#2a3f5f",
             "gridcolor": "white",
             "linecolor": "white",
             "minorgridcolor": "white",
             "startlinecolor": "#2a3f5f"
            },
            "baxis": {
             "endlinecolor": "#2a3f5f",
             "gridcolor": "white",
             "linecolor": "white",
             "minorgridcolor": "white",
             "startlinecolor": "#2a3f5f"
            },
            "type": "carpet"
           }
          ],
          "choropleth": [
           {
            "colorbar": {
             "outlinewidth": 0,
             "ticks": ""
            },
            "type": "choropleth"
           }
          ],
          "contour": [
           {
            "colorbar": {
             "outlinewidth": 0,
             "ticks": ""
            },
            "colorscale": [
             [
              0,
              "#0d0887"
             ],
             [
              0.1111111111111111,
              "#46039f"
             ],
             [
              0.2222222222222222,
              "#7201a8"
             ],
             [
              0.3333333333333333,
              "#9c179e"
             ],
             [
              0.4444444444444444,
              "#bd3786"
             ],
             [
              0.5555555555555556,
              "#d8576b"
             ],
             [
              0.6666666666666666,
              "#ed7953"
             ],
             [
              0.7777777777777778,
              "#fb9f3a"
             ],
             [
              0.8888888888888888,
              "#fdca26"
             ],
             [
              1,
              "#f0f921"
             ]
            ],
            "type": "contour"
           }
          ],
          "contourcarpet": [
           {
            "colorbar": {
             "outlinewidth": 0,
             "ticks": ""
            },
            "type": "contourcarpet"
           }
          ],
          "heatmap": [
           {
            "colorbar": {
             "outlinewidth": 0,
             "ticks": ""
            },
            "colorscale": [
             [
              0,
              "#0d0887"
             ],
             [
              0.1111111111111111,
              "#46039f"
             ],
             [
              0.2222222222222222,
              "#7201a8"
             ],
             [
              0.3333333333333333,
              "#9c179e"
             ],
             [
              0.4444444444444444,
              "#bd3786"
             ],
             [
              0.5555555555555556,
              "#d8576b"
             ],
             [
              0.6666666666666666,
              "#ed7953"
             ],
             [
              0.7777777777777778,
              "#fb9f3a"
             ],
             [
              0.8888888888888888,
              "#fdca26"
             ],
             [
              1,
              "#f0f921"
             ]
            ],
            "type": "heatmap"
           }
          ],
          "histogram": [
           {
            "marker": {
             "pattern": {
              "fillmode": "overlay",
              "size": 10,
              "solidity": 0.2
             }
            },
            "type": "histogram"
           }
          ],
          "histogram2d": [
           {
            "colorbar": {
             "outlinewidth": 0,
             "ticks": ""
            },
            "colorscale": [
             [
              0,
              "#0d0887"
             ],
             [
              0.1111111111111111,
              "#46039f"
             ],
             [
              0.2222222222222222,
              "#7201a8"
             ],
             [
              0.3333333333333333,
              "#9c179e"
             ],
             [
              0.4444444444444444,
              "#bd3786"
             ],
             [
              0.5555555555555556,
              "#d8576b"
             ],
             [
              0.6666666666666666,
              "#ed7953"
             ],
             [
              0.7777777777777778,
              "#fb9f3a"
             ],
             [
              0.8888888888888888,
              "#fdca26"
             ],
             [
              1,
              "#f0f921"
             ]
            ],
            "type": "histogram2d"
           }
          ],
          "histogram2dcontour": [
           {
            "colorbar": {
             "outlinewidth": 0,
             "ticks": ""
            },
            "colorscale": [
             [
              0,
              "#0d0887"
             ],
             [
              0.1111111111111111,
              "#46039f"
             ],
             [
              0.2222222222222222,
              "#7201a8"
             ],
             [
              0.3333333333333333,
              "#9c179e"
             ],
             [
              0.4444444444444444,
              "#bd3786"
             ],
             [
              0.5555555555555556,
              "#d8576b"
             ],
             [
              0.6666666666666666,
              "#ed7953"
             ],
             [
              0.7777777777777778,
              "#fb9f3a"
             ],
             [
              0.8888888888888888,
              "#fdca26"
             ],
             [
              1,
              "#f0f921"
             ]
            ],
            "type": "histogram2dcontour"
           }
          ],
          "mesh3d": [
           {
            "colorbar": {
             "outlinewidth": 0,
             "ticks": ""
            },
            "type": "mesh3d"
           }
          ],
          "parcoords": [
           {
            "line": {
             "colorbar": {
              "outlinewidth": 0,
              "ticks": ""
             }
            },
            "type": "parcoords"
           }
          ],
          "pie": [
           {
            "automargin": true,
            "type": "pie"
           }
          ],
          "scatter": [
           {
            "fillpattern": {
             "fillmode": "overlay",
             "size": 10,
             "solidity": 0.2
            },
            "type": "scatter"
           }
          ],
          "scatter3d": [
           {
            "line": {
             "colorbar": {
              "outlinewidth": 0,
              "ticks": ""
             }
            },
            "marker": {
             "colorbar": {
              "outlinewidth": 0,
              "ticks": ""
             }
            },
            "type": "scatter3d"
           }
          ],
          "scattercarpet": [
           {
            "marker": {
             "colorbar": {
              "outlinewidth": 0,
              "ticks": ""
             }
            },
            "type": "scattercarpet"
           }
          ],
          "scattergeo": [
           {
            "marker": {
             "colorbar": {
              "outlinewidth": 0,
              "ticks": ""
             }
            },
            "type": "scattergeo"
           }
          ],
          "scattergl": [
           {
            "marker": {
             "colorbar": {
              "outlinewidth": 0,
              "ticks": ""
             }
            },
            "type": "scattergl"
           }
          ],
          "scattermap": [
           {
            "marker": {
             "colorbar": {
              "outlinewidth": 0,
              "ticks": ""
             }
            },
            "type": "scattermap"
           }
          ],
          "scattermapbox": [
           {
            "marker": {
             "colorbar": {
              "outlinewidth": 0,
              "ticks": ""
             }
            },
            "type": "scattermapbox"
           }
          ],
          "scatterpolar": [
           {
            "marker": {
             "colorbar": {
              "outlinewidth": 0,
              "ticks": ""
             }
            },
            "type": "scatterpolar"
           }
          ],
          "scatterpolargl": [
           {
            "marker": {
             "colorbar": {
              "outlinewidth": 0,
              "ticks": ""
             }
            },
            "type": "scatterpolargl"
           }
          ],
          "scatterternary": [
           {
            "marker": {
             "colorbar": {
              "outlinewidth": 0,
              "ticks": ""
             }
            },
            "type": "scatterternary"
           }
          ],
          "surface": [
           {
            "colorbar": {
             "outlinewidth": 0,
             "ticks": ""
            },
            "colorscale": [
             [
              0,
              "#0d0887"
             ],
             [
              0.1111111111111111,
              "#46039f"
             ],
             [
              0.2222222222222222,
              "#7201a8"
             ],
             [
              0.3333333333333333,
              "#9c179e"
             ],
             [
              0.4444444444444444,
              "#bd3786"
             ],
             [
              0.5555555555555556,
              "#d8576b"
             ],
             [
              0.6666666666666666,
              "#ed7953"
             ],
             [
              0.7777777777777778,
              "#fb9f3a"
             ],
             [
              0.8888888888888888,
              "#fdca26"
             ],
             [
              1,
              "#f0f921"
             ]
            ],
            "type": "surface"
           }
          ],
          "table": [
           {
            "cells": {
             "fill": {
              "color": "#EBF0F8"
             },
             "line": {
              "color": "white"
             }
            },
            "header": {
             "fill": {
              "color": "#C8D4E3"
             },
             "line": {
              "color": "white"
             }
            },
            "type": "table"
           }
          ]
         },
         "layout": {
          "annotationdefaults": {
           "arrowcolor": "#2a3f5f",
           "arrowhead": 0,
           "arrowwidth": 1
          },
          "autotypenumbers": "strict",
          "coloraxis": {
           "colorbar": {
            "outlinewidth": 0,
            "ticks": ""
           }
          },
          "colorscale": {
           "diverging": [
            [
             0,
             "#8e0152"
            ],
            [
             0.1,
             "#c51b7d"
            ],
            [
             0.2,
             "#de77ae"
            ],
            [
             0.3,
             "#f1b6da"
            ],
            [
             0.4,
             "#fde0ef"
            ],
            [
             0.5,
             "#f7f7f7"
            ],
            [
             0.6,
             "#e6f5d0"
            ],
            [
             0.7,
             "#b8e186"
            ],
            [
             0.8,
             "#7fbc41"
            ],
            [
             0.9,
             "#4d9221"
            ],
            [
             1,
             "#276419"
            ]
           ],
           "sequential": [
            [
             0,
             "#0d0887"
            ],
            [
             0.1111111111111111,
             "#46039f"
            ],
            [
             0.2222222222222222,
             "#7201a8"
            ],
            [
             0.3333333333333333,
             "#9c179e"
            ],
            [
             0.4444444444444444,
             "#bd3786"
            ],
            [
             0.5555555555555556,
             "#d8576b"
            ],
            [
             0.6666666666666666,
             "#ed7953"
            ],
            [
             0.7777777777777778,
             "#fb9f3a"
            ],
            [
             0.8888888888888888,
             "#fdca26"
            ],
            [
             1,
             "#f0f921"
            ]
           ],
           "sequentialminus": [
            [
             0,
             "#0d0887"
            ],
            [
             0.1111111111111111,
             "#46039f"
            ],
            [
             0.2222222222222222,
             "#7201a8"
            ],
            [
             0.3333333333333333,
             "#9c179e"
            ],
            [
             0.4444444444444444,
             "#bd3786"
            ],
            [
             0.5555555555555556,
             "#d8576b"
            ],
            [
             0.6666666666666666,
             "#ed7953"
            ],
            [
             0.7777777777777778,
             "#fb9f3a"
            ],
            [
             0.8888888888888888,
             "#fdca26"
            ],
            [
             1,
             "#f0f921"
            ]
           ]
          },
          "colorway": [
           "#636efa",
           "#EF553B",
           "#00cc96",
           "#ab63fa",
           "#FFA15A",
           "#19d3f3",
           "#FF6692",
           "#B6E880",
           "#FF97FF",
           "#FECB52"
          ],
          "font": {
           "color": "#2a3f5f"
          },
          "geo": {
           "bgcolor": "white",
           "lakecolor": "white",
           "landcolor": "#E5ECF6",
           "showlakes": true,
           "showland": true,
           "subunitcolor": "white"
          },
          "hoverlabel": {
           "align": "left"
          },
          "hovermode": "closest",
          "mapbox": {
           "style": "light"
          },
          "paper_bgcolor": "white",
          "plot_bgcolor": "#E5ECF6",
          "polar": {
           "angularaxis": {
            "gridcolor": "white",
            "linecolor": "white",
            "ticks": ""
           },
           "bgcolor": "#E5ECF6",
           "radialaxis": {
            "gridcolor": "white",
            "linecolor": "white",
            "ticks": ""
           }
          },
          "scene": {
           "xaxis": {
            "backgroundcolor": "#E5ECF6",
            "gridcolor": "white",
            "gridwidth": 2,
            "linecolor": "white",
            "showbackground": true,
            "ticks": "",
            "zerolinecolor": "white"
           },
           "yaxis": {
            "backgroundcolor": "#E5ECF6",
            "gridcolor": "white",
            "gridwidth": 2,
            "linecolor": "white",
            "showbackground": true,
            "ticks": "",
            "zerolinecolor": "white"
           },
           "zaxis": {
            "backgroundcolor": "#E5ECF6",
            "gridcolor": "white",
            "gridwidth": 2,
            "linecolor": "white",
            "showbackground": true,
            "ticks": "",
            "zerolinecolor": "white"
           }
          },
          "shapedefaults": {
           "line": {
            "color": "#2a3f5f"
           }
          },
          "ternary": {
           "aaxis": {
            "gridcolor": "white",
            "linecolor": "white",
            "ticks": ""
           },
           "baxis": {
            "gridcolor": "white",
            "linecolor": "white",
            "ticks": ""
           },
           "bgcolor": "#E5ECF6",
           "caxis": {
            "gridcolor": "white",
            "linecolor": "white",
            "ticks": ""
           }
          },
          "title": {
           "x": 0.05
          },
          "xaxis": {
           "automargin": true,
           "gridcolor": "white",
           "linecolor": "white",
           "ticks": "",
           "title": {
            "standoff": 15
           },
           "zerolinecolor": "white",
           "zerolinewidth": 2
          },
          "yaxis": {
           "automargin": true,
           "gridcolor": "white",
           "linecolor": "white",
           "ticks": "",
           "title": {
            "standoff": 15
           },
           "zerolinecolor": "white",
           "zerolinewidth": 2
          }
         }
        },
        "title": {
         "text": "Preços dos imóveis"
        },
        "xaxis": {
         "anchor": "y",
         "domain": [
          0,
          1
         ]
        },
        "yaxis": {
         "anchor": "x",
         "domain": [
          0,
          1
         ],
         "title": {
          "text": "Preço"
         }
        }
       }
      },
      "image/png": "[encoded data removed]"
     },
     "metadata": {},
     "output_type": "display_data"
    }
   ],
   "source": [
    "box_price = px.box(\n",
    "    df,\n",
    "    y = 'price',\n",
    "    title = 'Preços dos imóveis',\n",
    ")\n",
    "\n",
    "box_price.update_layout(\n",
    "    yaxis_title = 'Preço'\n",
    ")\n",
    "\n",
    "box_price.show()"
   ]
  },
  {
   "cell_type": "code",
   "execution_count": 38,
   "id": "6ff59eca-12b2-4716-b33c-169444222956",
   "metadata": {},
   "outputs": [
    {
     "data": {
      "application/vnd.plotly.v1+json": {
       "config": {
        "plotlyServerURL": "https://plot.ly"
       },
       "data": [
        {
         "bingroup": "x",
         "histfunc": "sum",
         "hovertemplate": "price=%{x}<br>sum of count=%{y}<extra></extra>",
         "legendgroup": "",
         "marker": {
          "color": "#636efa",
          "pattern": {
           "shape": ""
          }
         },
         "name": "",
         "nbinsx": 100,
         "orientation": "v",
         "showlegend": false,
         "type": "histogram",
         "x": {
          "bdata": "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",
          "dtype": "f8"
         },
         "xaxis": "x",
         "y": {
          "bdata": "DAcFBQUFBQUEBAMDAwMDAwMDAwMDAwICAgICAgICAgICAgICAgICAgICAgICAgICAgICAgICAgICAgIBAQEBAQEBAQEBAQEBAQEBAQEBAQEBAQEBAQEBAQEBAQEBAQEBAQEBAQEBAQEBAQEBAQEBAQEBAQEBAQEBAQEBAQEBAQEBAQEBAQEBAQEBAQEBAQEBAQEBAQEBAQEBAQEBAQEBAQEBAQEBAQEBAQEBAQEBAQEBAQEBAQEBAQEBAQEBAQEBAQEBAQEBAQEBAQEBAQEBAQEBAQEBAQEBAQEBAQEBAQEBAQEBAQEBAQEBAQEBAQEBAQEBAQEBAQEBAQEBAQEBAQEBAQEBAQEBAQEBAQEBAQEBAQEBAQEBAQEBAQEBAQEBAQEBAQEBAQEBAQEBAQEBAQEBAQEBAQEBAQEBAQEBAQE=",
          "dtype": "i1"
         },
         "yaxis": "y"
        }
       ],
       "layout": {
        "barmode": "relative",
        "legend": {
         "tracegroupgap": 0
        },
        "template": {
         "data": {
          "bar": [
           {
            "error_x": {
             "color": "#2a3f5f"
            },
            "error_y": {
             "color": "#2a3f5f"
            },
            "marker": {
             "line": {
              "color": "#E5ECF6",
              "width": 0.5
             },
             "pattern": {
              "fillmode": "overlay",
              "size": 10,
              "solidity": 0.2
             }
            },
            "type": "bar"
           }
          ],
          "barpolar": [
           {
            "marker": {
             "line": {
              "color": "#E5ECF6",
              "width": 0.5
             },
             "pattern": {
              "fillmode": "overlay",
              "size": 10,
              "solidity": 0.2
             }
            },
            "type": "barpolar"
           }
          ],
          "carpet": [
           {
            "aaxis": {
             "endlinecolor": "#2a3f5f",
             "gridcolor": "white",
             "linecolor": "white",
             "minorgridcolor": "white",
             "startlinecolor": "#2a3f5f"
            },
            "baxis": {
             "endlinecolor": "#2a3f5f",
             "gridcolor": "white",
             "linecolor": "white",
             "minorgridcolor": "white",
             "startlinecolor": "#2a3f5f"
            },
            "type": "carpet"
           }
          ],
          "choropleth": [
           {
            "colorbar": {
             "outlinewidth": 0,
             "ticks": ""
            },
            "type": "choropleth"
           }
          ],
          "contour": [
           {
            "colorbar": {
             "outlinewidth": 0,
             "ticks": ""
            },
            "colorscale": [
             [
              0,
              "#0d0887"
             ],
             [
              0.1111111111111111,
              "#46039f"
             ],
             [
              0.2222222222222222,
              "#7201a8"
             ],
             [
              0.3333333333333333,
              "#9c179e"
             ],
             [
              0.4444444444444444,
              "#bd3786"
             ],
             [
              0.5555555555555556,
              "#d8576b"
             ],
             [
              0.6666666666666666,
              "#ed7953"
             ],
             [
              0.7777777777777778,
              "#fb9f3a"
             ],
             [
              0.8888888888888888,
              "#fdca26"
             ],
             [
              1,
              "#f0f921"
             ]
            ],
            "type": "contour"
           }
          ],
          "contourcarpet": [
           {
            "colorbar": {
             "outlinewidth": 0,
             "ticks": ""
            },
            "type": "contourcarpet"
           }
          ],
          "heatmap": [
           {
            "colorbar": {
             "outlinewidth": 0,
             "ticks": ""
            },
            "colorscale": [
             [
              0,
              "#0d0887"
             ],
             [
              0.1111111111111111,
              "#46039f"
             ],
             [
              0.2222222222222222,
              "#7201a8"
             ],
             [
              0.3333333333333333,
              "#9c179e"
             ],
             [
              0.4444444444444444,
              "#bd3786"
             ],
             [
              0.5555555555555556,
              "#d8576b"
             ],
             [
              0.6666666666666666,
              "#ed7953"
             ],
             [
              0.7777777777777778,
              "#fb9f3a"
             ],
             [
              0.8888888888888888,
              "#fdca26"
             ],
             [
              1,
              "#f0f921"
             ]
            ],
            "type": "heatmap"
           }
          ],
          "histogram": [
           {
            "marker": {
             "pattern": {
              "fillmode": "overlay",
              "size": 10,
              "solidity": 0.2
             }
            },
            "type": "histogram"
           }
          ],
          "histogram2d": [
           {
            "colorbar": {
             "outlinewidth": 0,
             "ticks": ""
            },
            "colorscale": [
             [
              0,
              "#0d0887"
             ],
             [
              0.1111111111111111,
              "#46039f"
             ],
             [
              0.2222222222222222,
              "#7201a8"
             ],
             [
              0.3333333333333333,
              "#9c179e"
             ],
             [
              0.4444444444444444,
              "#bd3786"
             ],
             [
              0.5555555555555556,
              "#d8576b"
             ],
             [
              0.6666666666666666,
              "#ed7953"
             ],
             [
              0.7777777777777778,
              "#fb9f3a"
             ],
             [
              0.8888888888888888,
              "#fdca26"
             ],
             [
              1,
              "#f0f921"
             ]
            ],
            "type": "histogram2d"
           }
          ],
          "histogram2dcontour": [
           {
            "colorbar": {
             "outlinewidth": 0,
             "ticks": ""
            },
            "colorscale": [
             [
              0,
              "#0d0887"
             ],
             [
              0.1111111111111111,
              "#46039f"
             ],
             [
              0.2222222222222222,
              "#7201a8"
             ],
             [
              0.3333333333333333,
              "#9c179e"
             ],
             [
              0.4444444444444444,
              "#bd3786"
             ],
             [
              0.5555555555555556,
              "#d8576b"
             ],
             [
              0.6666666666666666,
              "#ed7953"
             ],
             [
              0.7777777777777778,
              "#fb9f3a"
             ],
             [
              0.8888888888888888,
              "#fdca26"
             ],
             [
              1,
              "#f0f921"
             ]
            ],
            "type": "histogram2dcontour"
           }
          ],
          "mesh3d": [
           {
            "colorbar": {
             "outlinewidth": 0,
             "ticks": ""
            },
            "type": "mesh3d"
           }
          ],
          "parcoords": [
           {
            "line": {
             "colorbar": {
              "outlinewidth": 0,
              "ticks": ""
             }
            },
            "type": "parcoords"
           }
          ],
          "pie": [
           {
            "automargin": true,
            "type": "pie"
           }
          ],
          "scatter": [
           {
            "fillpattern": {
             "fillmode": "overlay",
             "size": 10,
             "solidity": 0.2
            },
            "type": "scatter"
           }
          ],
          "scatter3d": [
           {
            "line": {
             "colorbar": {
              "outlinewidth": 0,
              "ticks": ""
             }
            },
            "marker": {
             "colorbar": {
              "outlinewidth": 0,
              "ticks": ""
             }
            },
            "type": "scatter3d"
           }
          ],
          "scattercarpet": [
           {
            "marker": {
             "colorbar": {
              "outlinewidth": 0,
              "ticks": ""
             }
            },
            "type": "scattercarpet"
           }
          ],
          "scattergeo": [
           {
            "marker": {
             "colorbar": {
              "outlinewidth": 0,
              "ticks": ""
             }
            },
            "type": "scattergeo"
           }
          ],
          "scattergl": [
           {
            "marker": {
             "colorbar": {
              "outlinewidth": 0,
              "ticks": ""
             }
            },
            "type": "scattergl"
           }
          ],
          "scattermap": [
           {
            "marker": {
             "colorbar": {
              "outlinewidth": 0,
              "ticks": ""
             }
            },
            "type": "scattermap"
           }
          ],
          "scattermapbox": [
           {
            "marker": {
             "colorbar": {
              "outlinewidth": 0,
              "ticks": ""
             }
            },
            "type": "scattermapbox"
           }
          ],
          "scatterpolar": [
           {
            "marker": {
             "colorbar": {
              "outlinewidth": 0,
              "ticks": ""
             }
            },
            "type": "scatterpolar"
           }
          ],
          "scatterpolargl": [
           {
            "marker": {
             "colorbar": {
              "outlinewidth": 0,
              "ticks": ""
             }
            },
            "type": "scatterpolargl"
           }
          ],
          "scatterternary": [
           {
            "marker": {
             "colorbar": {
              "outlinewidth": 0,
              "ticks": ""
             }
            },
            "type": "scatterternary"
           }
          ],
          "surface": [
           {
            "colorbar": {
             "outlinewidth": 0,
             "ticks": ""
            },
            "colorscale": [
             [
              0,
              "#0d0887"
             ],
             [
              0.1111111111111111,
              "#46039f"
             ],
             [
              0.2222222222222222,
              "#7201a8"
             ],
             [
              0.3333333333333333,
              "#9c179e"
             ],
             [
              0.4444444444444444,
              "#bd3786"
             ],
             [
              0.5555555555555556,
              "#d8576b"
             ],
             [
              0.6666666666666666,
              "#ed7953"
             ],
             [
              0.7777777777777778,
              "#fb9f3a"
             ],
             [
              0.8888888888888888,
              "#fdca26"
             ],
             [
              1,
              "#f0f921"
             ]
            ],
            "type": "surface"
           }
          ],
          "table": [
           {
            "cells": {
             "fill": {
              "color": "#EBF0F8"
             },
             "line": {
              "color": "white"
             }
            },
            "header": {
             "fill": {
              "color": "#C8D4E3"
             },
             "line": {
              "color": "white"
             }
            },
            "type": "table"
           }
          ]
         },
         "layout": {
          "annotationdefaults": {
           "arrowcolor": "#2a3f5f",
           "arrowhead": 0,
           "arrowwidth": 1
          },
          "autotypenumbers": "strict",
          "coloraxis": {
           "colorbar": {
            "outlinewidth": 0,
            "ticks": ""
           }
          },
          "colorscale": {
           "diverging": [
            [
             0,
             "#8e0152"
            ],
            [
             0.1,
             "#c51b7d"
            ],
            [
             0.2,
             "#de77ae"
            ],
            [
             0.3,
             "#f1b6da"
            ],
            [
             0.4,
             "#fde0ef"
            ],
            [
             0.5,
             "#f7f7f7"
            ],
            [
             0.6,
             "#e6f5d0"
            ],
            [
             0.7,
             "#b8e186"
            ],
            [
             0.8,
             "#7fbc41"
            ],
            [
             0.9,
             "#4d9221"
            ],
            [
             1,
             "#276419"
            ]
           ],
           "sequential": [
            [
             0,
             "#0d0887"
            ],
            [
             0.1111111111111111,
             "#46039f"
            ],
            [
             0.2222222222222222,
             "#7201a8"
            ],
            [
             0.3333333333333333,
             "#9c179e"
            ],
            [
             0.4444444444444444,
             "#bd3786"
            ],
            [
             0.5555555555555556,
             "#d8576b"
            ],
            [
             0.6666666666666666,
             "#ed7953"
            ],
            [
             0.7777777777777778,
             "#fb9f3a"
            ],
            [
             0.8888888888888888,
             "#fdca26"
            ],
            [
             1,
             "#f0f921"
            ]
           ],
           "sequentialminus": [
            [
             0,
             "#0d0887"
            ],
            [
             0.1111111111111111,
             "#46039f"
            ],
            [
             0.2222222222222222,
             "#7201a8"
            ],
            [
             0.3333333333333333,
             "#9c179e"
            ],
            [
             0.4444444444444444,
             "#bd3786"
            ],
            [
             0.5555555555555556,
             "#d8576b"
            ],
            [
             0.6666666666666666,
             "#ed7953"
            ],
            [
             0.7777777777777778,
             "#fb9f3a"
            ],
            [
             0.8888888888888888,
             "#fdca26"
            ],
            [
             1,
             "#f0f921"
            ]
           ]
          },
          "colorway": [
           "#636efa",
           "#EF553B",
           "#00cc96",
           "#ab63fa",
           "#FFA15A",
           "#19d3f3",
           "#FF6692",
           "#B6E880",
           "#FF97FF",
           "#FECB52"
          ],
          "font": {
           "color": "#2a3f5f"
          },
          "geo": {
           "bgcolor": "white",
           "lakecolor": "white",
           "landcolor": "#E5ECF6",
           "showlakes": true,
           "showland": true,
           "subunitcolor": "white"
          },
          "hoverlabel": {
           "align": "left"
          },
          "hovermode": "closest",
          "mapbox": {
           "style": "light"
          },
          "paper_bgcolor": "white",
          "plot_bgcolor": "#E5ECF6",
          "polar": {
           "angularaxis": {
            "gridcolor": "white",
            "linecolor": "white",
            "ticks": ""
           },
           "bgcolor": "#E5ECF6",
           "radialaxis": {
            "gridcolor": "white",
            "linecolor": "white",
            "ticks": ""
           }
          },
          "scene": {
           "xaxis": {
            "backgroundcolor": "#E5ECF6",
            "gridcolor": "white",
            "gridwidth": 2,
            "linecolor": "white",
            "showbackground": true,
            "ticks": "",
            "zerolinecolor": "white"
           },
           "yaxis": {
            "backgroundcolor": "#E5ECF6",
            "gridcolor": "white",
            "gridwidth": 2,
            "linecolor": "white",
            "showbackground": true,
            "ticks": "",
            "zerolinecolor": "white"
           },
           "zaxis": {
            "backgroundcolor": "#E5ECF6",
            "gridcolor": "white",
            "gridwidth": 2,
            "linecolor": "white",
            "showbackground": true,
            "ticks": "",
            "zerolinecolor": "white"
           }
          },
          "shapedefaults": {
           "line": {
            "color": "#2a3f5f"
           }
          },
          "ternary": {
           "aaxis": {
            "gridcolor": "white",
            "linecolor": "white",
            "ticks": ""
           },
           "baxis": {
            "gridcolor": "white",
            "linecolor": "white",
            "ticks": ""
           },
           "bgcolor": "#E5ECF6",
           "caxis": {
            "gridcolor": "white",
            "linecolor": "white",
            "ticks": ""
           }
          },
          "title": {
           "x": 0.05
          },
          "xaxis": {
           "automargin": true,
           "gridcolor": "white",
           "linecolor": "white",
           "ticks": "",
           "title": {
            "standoff": 15
           },
           "zerolinecolor": "white",
           "zerolinewidth": 2
          },
          "yaxis": {
           "automargin": true,
           "gridcolor": "white",
           "linecolor": "white",
           "ticks": "",
           "title": {
            "standoff": 15
           },
           "zerolinecolor": "white",
           "zerolinewidth": 2
          }
         }
        },
        "title": {
         "text": "Preços dos imóveis"
        },
        "xaxis": {
         "anchor": "y",
         "domain": [
          0,
          1
         ],
         "title": {
          "text": "Preço"
         }
        },
        "yaxis": {
         "anchor": "x",
         "domain": [
          0,
          1
         ],
         "title": {
          "text": "Contagem"
         }
        }
       }
      },
      "image/png": "[encoded data removed]"
     },
     "metadata": {},
     "output_type": "display_data"
    }
   ],
   "source": [
    "hist_price = px.histogram(\n",
    "    df['price'].value_counts().reset_index(),\n",
    "    x = 'price',\n",
    "    y = 'count',\n",
    "    nbins = 100,\n",
    "    title = 'Preços dos imóveis',\n",
    ")\n",
    "\n",
    "hist_price.update_layout(\n",
    "    xaxis_title = 'Preço',\n",
    "    yaxis_title = 'Contagem'\n",
    ")\n",
    "\n",
    "hist_price.show()"
   ]
  },
  {
   "cell_type": "markdown",
   "id": "b79309cd-0323-49f3-8077-f52295738a73",
   "metadata": {},
   "source": [
    "## 5. Conclusões"
   ]
  },
  {
   "cell_type": "markdown",
   "id": "50fdb26f-7f8d-43b8-8da2-289fb302b6e9",
   "metadata": {},
   "source": [
    "Preços de venda de imóveis em João Pessoa na OLX concentram-se, à exceção de outliers, em torno de uma distribuição normal deslocada."
   ]
  }
 ],
 "metadata": {
  "kernelspec": {
   "display_name": "Python 3 (ipykernel)",
   "language": "python",
   "name": "python3"
  },
  "language_info": {
   "codemirror_mode": {
    "name": "ipython",
    "version": 3
   },
   "file_extension": ".py",
   "mimetype": "text/x-python",
   "name": "python",
   "nbconvert_exporter": "python",
   "pygments_lexer": "ipython3",
   "version": "3.10.18"
  }
 },
 "nbformat": 4,
 "nbformat_minor": 5
}
