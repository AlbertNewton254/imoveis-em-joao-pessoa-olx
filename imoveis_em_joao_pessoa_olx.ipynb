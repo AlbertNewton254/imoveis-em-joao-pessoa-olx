{
 "cells": [
  {
   "cell_type": "markdown",
   "id": "d733fd06-cb36-492f-a1ee-8ce9bc518186",
   "metadata": {},
   "source": [
    "# Preços de imóveis em João Pessoa"
   ]
  },
  {
   "cell_type": "markdown",
   "id": "0109a672-d69f-447c-b162-7da829142264",
   "metadata": {},
   "source": [
    "## Introdução"
   ]
  },
  {
   "cell_type": "markdown",
   "id": "545e1c4e-53a9-4ccb-8e5a-dad44ded9299",
   "metadata": {},
   "source": [
    "Esta análise se baseia na raspagem de dados na OLX para a pesquisa <a href = \"https://www.olx.com.br/brasil?q=im%C3%B3veis%20em%20jo%C3%A3o%20pessoa&o=1\">imóveis em joão pessoa</a>, seguida de análise exploratória desses dados."
   ]
  },
  {
   "cell_type": "markdown",
   "id": "170e595c-b8e4-4efb-b564-d1b010ecb0c4",
   "metadata": {},
   "source": [
    "São empregadas para tanto as seguintes bibliotecas:"
   ]
  },
  {
   "cell_type": "markdown",
   "id": "6ce73f89-c9d8-4065-8da3-e7dae5fb2d39",
   "metadata": {},
   "source": [
    "- Requests para a realização de requisições HTTP;\n",
    "\n",
    "- time para intervalos entre requisições;\n",
    "\n",
    "- random para randomizar intervalos(otimização);\n",
    "\n",
    "- tqdm para controle de tempo;\n",
    "\n",
    "- BeautifulSoup para a extração de dados do html das páginas;\n",
    "\n",
    "- re para a filtragem mais fina desses dados;\n",
    "\n",
    "- Pandas para manipulação de dados em dataframes."
   ]
  },
  {
   "cell_type": "markdown",
   "id": "11c91d0a-f61f-4df4-a2d5-b92ae16f6d4e",
   "metadata": {},
   "source": [
    "## 1. Importar bibliotecas"
   ]
  },
  {
   "cell_type": "code",
   "execution_count": 1,
   "id": "c9b33799-56d5-45de-8835-902ead3dd693",
   "metadata": {},
   "outputs": [],
   "source": [
    "import requests\n",
    "import time\n",
    "from random import uniform\n",
    "from tqdm.notebook import tqdm\n",
    "from bs4 import BeautifulSoup\n",
    "import re\n",
    "import pandas as pd\n",
    "import plotly.express as px"
   ]
  },
  {
   "cell_type": "markdown",
   "id": "8b0a0643-0f4f-4b60-bc79-fc4fe664ff23",
   "metadata": {},
   "source": [
    "## 2. Web scraping"
   ]
  },
  {
   "cell_type": "markdown",
   "id": "23d558ef-e21c-4af6-99a6-db71347b8237",
   "metadata": {},
   "source": [
    "A primeira parte de nossa análise será a extração de dados por scraping do site da OLX. Para tanto procederemos assim:\n",
    "\n",
    "1. Inicialmente varremos as páginas de pesquisa à procura dos links de cada um dos produtos;\n",
    "\n",
    "2. Depois, para cada produto, faremos a raspagem de suas informações em sua própria página."
   ]
  },
  {
   "cell_type": "code",
   "execution_count": 7,
   "id": "2dff5ac3-7564-48b3-8f7a-4d3882940a3b",
   "metadata": {},
   "outputs": [
    {
     "data": {
      "application/vnd.jupyter.widget-view+json": {
       "model_id": "d2d48ad4eb8d40b0ada77e66a6aa1ec1",
       "version_major": 2,
       "version_minor": 0
      },
      "text/plain": [
       "Processando: 0/10 [Tempo restante: ?]"
      ]
     },
     "metadata": {},
     "output_type": "display_data"
    },
    {
     "name": "stdout",
     "output_type": "stream",
     "text": [
      "Processamento concluído! Total de produtos encontrados: 500\n"
     ]
    }
   ],
   "source": [
    "base_url = 'https://www.olx.com.br/brasil?q=im%C3%B3veis%20em%20jo%C3%A3o%20pessoa'\n",
    "\n",
    "headers = {\n",
    "    'User-Agent': 'Mozilla/5.0 (Windows NT 10.0; Win64; x64) AppleWebKit/537.36 (KHTML, like Gecko) Chrome/91.0.4472.124 Safari/537.36'\n",
    "}\n",
    "\n",
    "products_links = []\n",
    "max_consecutive_empty_pages = 3\n",
    "consecutive_empty_pages = 0\n",
    "max_pages = 10\n",
    "\n",
    "pbar = tqdm(total=max_pages, desc=\"Processando\", unit=\"página\", bar_format='{desc}: {n_fmt}/{total_fmt} [Tempo restante: {remaining}]')\n",
    "\n",
    "for page in range(1, max_pages + 1):\n",
    "    url = f\"{base_url}&o={page}\"\n",
    "\n",
    "    try:\n",
    "        search_response = requests.get(url, headers=headers)\n",
    "\n",
    "        if search_response.status_code == 200:\n",
    "            search_soup = BeautifulSoup(search_response.text, 'html.parser')\n",
    "\n",
    "            no_results_element = search_soup.find('div', class_='empty-list')\n",
    "            if no_results_element or 'Nenhum resultado encontrado' in search_response.text:\n",
    "                pbar.set_postfix_str(\"Não há mais resultados disponíveis\")\n",
    "                break\n",
    "\n",
    "            all_links = search_soup.find_all('a', class_='olx-adcard__link')\n",
    "            \n",
    "            if all_links:\n",
    "                consecutive_empty_pages = 0\n",
    "                for link in all_links:\n",
    "                    href = link.get('href')\n",
    "                    if href and href.startswith('http'):\n",
    "                        products_links.append(href)\n",
    "            else:\n",
    "                consecutive_empty_pages += 1\n",
    "                pbar.set_postfix_str(f\"Pág {page} vazia ({consecutive_empty_pages} consecutivas)\")\n",
    "                \n",
    "                if consecutive_empty_pages >= max_consecutive_empty_pages:\n",
    "                    pbar.set_postfix_str(f\"Parando após {max_consecutive_empty_pages} páginas vazias\")\n",
    "                    break\n",
    "\n",
    "        elif search_response.status_code == 404:\n",
    "            pbar.set_postfix_str(\"Página não encontrada (404)\")\n",
    "            break\n",
    "        else:\n",
    "            pbar.set_postfix_str(f\"Erro: {search_response.status_code}\")\n",
    "            \n",
    "    except Exception as e:\n",
    "        pbar.set_postfix_str(f\"Erro: {e}\")\n",
    "        \n",
    "    pbar.update(1)\n",
    "    pbar.set_postfix_str(f\"Produtos: {len(products_links)}\")\n",
    "    \n",
    "    time.sleep(uniform(1, 3))\n",
    "\n",
    "pbar.close()\n",
    "print(f\"Processamento concluído! Total de produtos encontrados: {len(products_links)}\")"
   ]
  },
  {
   "cell_type": "markdown",
   "id": "e63179be-0840-4320-8d3d-ab28327618ef",
   "metadata": {},
   "source": [
    "Vejamos os dez primeiros links que coletamos:"
   ]
  },
  {
   "cell_type": "code",
   "execution_count": 8,
   "id": "2bc88587-3fe9-4082-9078-4b20074dcfa1",
   "metadata": {},
   "outputs": [
    {
     "data": {
      "text/plain": [
       "['https://pb.olx.com.br/paraiba/imoveis/imoveis-na-planta-em-joao-pessoa-1427390473',\n",
       " 'https://pb.olx.com.br/paraiba/imoveis/imoveis-para-repasse-possuem-62-m-com-02-quartos-em-gramame-joao-pessoa-pb-1433620766',\n",
       " 'https://pb.olx.com.br/paraiba/imoveis/vendo-imoveis-de-alto-padrao-a-beira-mar-de-intermares-1399963055',\n",
       " 'https://pb.olx.com.br/paraiba/imoveis/imoveis-na-planta-1424880641',\n",
       " 'https://pb.olx.com.br/paraiba/imoveis/imoveis-exclusivos-1422666330',\n",
       " 'https://pb.olx.com.br/paraiba/servicos/imoveis-vende-ou-aluga-casa-apartamento-terreno-1348330489',\n",
       " 'https://pb.olx.com.br/paraiba/imoveis/alugo-imoveis-1418639984',\n",
       " 'https://pb.olx.com.br/paraiba/servicos/reforma-de-imoveis-em-joao-pessoa-pisos-pintura-e-outros-acabamentos-1424786399',\n",
       " 'https://pb.olx.com.br/paraiba/servicos/corretor-de-imoveis-em-joao-pessoa-1357257740',\n",
       " 'https://pb.olx.com.br/paraiba/servicos/seu-corretor-de-imoveis-perito-avaliador-em-joao-pessoa-1385905983']"
      ]
     },
     "execution_count": 8,
     "metadata": {},
     "output_type": "execute_result"
    }
   ],
   "source": [
    "products_links[0:10]"
   ]
  },
  {
   "cell_type": "markdown",
   "id": "49a0443c-aec7-496e-bda6-37fe67e7511e",
   "metadata": {},
   "source": [
    "São exatamente os dez links que aparecem na primeira página de busca! Vamos agora investigá-los individualmente:"
   ]
  },
  {
   "cell_type": "code",
   "execution_count": 9,
   "id": "068c664b-f432-4237-aa14-d48861a4558d",
   "metadata": {},
   "outputs": [
    {
     "data": {
      "application/vnd.jupyter.widget-view+json": {
       "model_id": "98aaf2e4f56c4283ace12bb166a4a766",
       "version_major": 2,
       "version_minor": 0
      },
      "text/plain": [
       "Processando produtos: 0/500 [Tempo restante: ?]"
      ]
     },
     "metadata": {},
     "output_type": "display_data"
    },
    {
     "name": "stdout",
     "output_type": "stream",
     "text": [
      "Extração concluída! Total de produtos: 489\n"
     ]
    }
   ],
   "source": [
    "all_products = []\n",
    "\n",
    "# Criando a barra de progresso tqdm\n",
    "pbar = tqdm(total=len(products_links), desc=\"Processando produtos\", unit=\"produto\", bar_format='{desc}: {n_fmt}/{total_fmt} [Tempo restante: {remaining}]')\n",
    "\n",
    "for i, link in enumerate(products_links, 1):\n",
    "    try:\n",
    "        product_response = requests.get(link, headers=headers, timeout=10)\n",
    "\n",
    "        if product_response.status_code == 200:\n",
    "            product_soup = BeautifulSoup(product_response.text, 'html.parser')\n",
    "\n",
    "            title_elem = product_soup.find('span', class_='olx-text olx-text--title-medium olx-text--block ad__sc-1l883pa-2 bdcWAn')\n",
    "            title = title_elem.text.strip() if title_elem else 'Não especificado'\n",
    "\n",
    "            location_div = product_soup.find('div', id='location')\n",
    "            if location_div:\n",
    "                location_elem = location_div.find('span', class_='olx-text olx-text--body-small olx-text--block olx-text--semibold olx-color-neutral-110')\n",
    "                location = location_elem.text.strip() if location_elem else 'Não especificado'\n",
    "            else:\n",
    "                location = 'Não especificado'\n",
    "            \n",
    "            price_div = product_soup.find('div', id='price-box-container')\n",
    "            if price_div:\n",
    "                price_elem = price_div.find('span', {'data-ds-component': 'DS-Text'})\n",
    "                price = price_elem.text.strip() if price_elem else 'Não especificado'\n",
    "                \n",
    "                product_type_elem = price_div.find('span', class_='olx-badge olx-badge--neutral olx-badge--small olx-badge--rectangle')\n",
    "                product_type = product_type_elem.text.strip() if product_type_elem else \"Não especificado\"\n",
    "            else:\n",
    "                price = 'Não especificado'\n",
    "                product_type = \"Não especificado\"\n",
    "\n",
    "            product_data = {\n",
    "                'title': title,\n",
    "                'location': location,\n",
    "                'price': price,\n",
    "                'product_type': product_type,\n",
    "                'link': link  \n",
    "            }\n",
    "\n",
    "            all_products.append(product_data)\n",
    "            \n",
    "            # Atualizar informações na barra de progresso\n",
    "            pbar.set_postfix_str(f\"Último: {title[:20]}...\")\n",
    "\n",
    "        else:\n",
    "            pbar.set_postfix_str(f\"Erro: Status {product_response.status_code}\")\n",
    "\n",
    "    except Exception as e:\n",
    "        pbar.set_postfix_str(f\"Erro: {str(e)[:20]}...\")\n",
    "    \n",
    "    # Atualizar o progresso\n",
    "    pbar.update(1)\n",
    "    time.sleep(uniform(1, 3))\n",
    "\n",
    "pbar.close()\n",
    "print(f\"Extração concluída! Total de produtos: {len(all_products)}\")"
   ]
  },
  {
   "cell_type": "code",
   "execution_count": 10,
   "id": "f3a680ee-0f21-41b0-aa9b-f2d344494acb",
   "metadata": {
    "scrolled": true
   },
   "outputs": [
    {
     "data": {
      "text/plain": [
       "[{'title': 'Imóveis na planta em João Pessoa',\n",
       "  'location': 'Cabo Branco, João Pessoa, PB, 58045010',\n",
       "  'price': 'R$ 274.900',\n",
       "  'product_type': 'Venda',\n",
       "  'link': 'https://pb.olx.com.br/paraiba/imoveis/imoveis-na-planta-em-joao-pessoa-1427390473'},\n",
       " {'title': 'Imóveis para repasse possuem 62 m² com 02 quartos em Gramame - João Pessoa - PB',\n",
       "  'location': 'João Pessoa, PB, 58068103',\n",
       "  'price': 'R$ 42.000',\n",
       "  'product_type': 'Venda',\n",
       "  'link': 'https://pb.olx.com.br/paraiba/imoveis/imoveis-para-repasse-possuem-62-m-com-02-quartos-em-gramame-joao-pessoa-pb-1433620766'},\n",
       " {'title': 'Vendo Imóveis de Alto padrão a Beira Mar de Intermares',\n",
       "  'location': 'Ipês, João Pessoa, PB, 58028530',\n",
       "  'price': 'R$ 480.000',\n",
       "  'product_type': 'Venda',\n",
       "  'link': 'https://pb.olx.com.br/paraiba/imoveis/vendo-imoveis-de-alto-padrao-a-beira-mar-de-intermares-1399963055'},\n",
       " {'title': 'Imóveis na Planta',\n",
       "  'location': 'Jardim Oceania, João Pessoa, PB, 58037030',\n",
       "  'price': 'R$ 416.234',\n",
       "  'product_type': 'Venda',\n",
       "  'link': 'https://pb.olx.com.br/paraiba/imoveis/imoveis-na-planta-1424880641'},\n",
       " {'title': 'Imoveis exclusivos',\n",
       "  'location': 'Manaíra, João Pessoa, PB, 58038142',\n",
       "  'price': 'R$ 650.000',\n",
       "  'product_type': 'Venda',\n",
       "  'link': 'https://pb.olx.com.br/paraiba/imoveis/imoveis-exclusivos-1422666330'},\n",
       " {'title': 'IMOVEIS VENDE OU ALUGA CASA APARTAMENTO TERRENO',\n",
       "  'location': 'João Pessoa, PB, 58052030',\n",
       "  'price': 'Não especificado',\n",
       "  'product_type': 'Não especificado',\n",
       "  'link': 'https://pb.olx.com.br/paraiba/servicos/imoveis-vende-ou-aluga-casa-apartamento-terreno-1348330489'},\n",
       " {'title': 'ALUGO IMÓVEIS',\n",
       "  'location': 'Treze de Maio, João Pessoa, PB, 58025430',\n",
       "  'price': 'R$ 800',\n",
       "  'product_type': 'Aluguel',\n",
       "  'link': 'https://pb.olx.com.br/paraiba/imoveis/alugo-imoveis-1418639984'},\n",
       " {'title': 'Reforma de Imóveis em João Pessoa: pisos, pintura e outros acabamentos',\n",
       "  'location': 'João Pessoa, PB, 58052165',\n",
       "  'price': 'Não especificado',\n",
       "  'product_type': 'Não especificado',\n",
       "  'link': 'https://pb.olx.com.br/paraiba/servicos/reforma-de-imoveis-em-joao-pessoa-pisos-pintura-e-outros-acabamentos-1424786399'},\n",
       " {'title': 'Corretor de Imóveis em João Pessoa',\n",
       "  'location': 'João Pessoa, PB, 58058260',\n",
       "  'price': 'Não especificado',\n",
       "  'product_type': 'Não especificado',\n",
       "  'link': 'https://pb.olx.com.br/paraiba/servicos/corretor-de-imoveis-em-joao-pessoa-1357257740'},\n",
       " {'title': 'Seu Corretor de Imóveis / Perito Avaliador em João Pessoa',\n",
       "  'location': 'João Pessoa, PB, 58051830',\n",
       "  'price': '(83) 99379-4...',\n",
       "  'product_type': 'Não especificado',\n",
       "  'link': 'https://pb.olx.com.br/paraiba/servicos/seu-corretor-de-imoveis-perito-avaliador-em-joao-pessoa-1385905983'}]"
      ]
     },
     "execution_count": 10,
     "metadata": {},
     "output_type": "execute_result"
    }
   ],
   "source": [
    "all_products[0:10]"
   ]
  },
  {
   "cell_type": "markdown",
   "id": "a5b8480c-a555-4022-a8cb-655468a6d3f5",
   "metadata": {},
   "source": [
    "Para o restante da análise, incluindo a limpeza e o tratamento dos dados, passamos as informações extraídas para um dataframe, de modo a empregar os artifícios da biblioteca Pandas."
   ]
  },
  {
   "cell_type": "markdown",
   "id": "569fc723-6ed1-4999-b809-e23e360417e3",
   "metadata": {},
   "source": [
    "## 3. Limpeza e tratamento"
   ]
  },
  {
   "cell_type": "code",
   "execution_count": 132,
   "id": "19491a9c-0884-494b-af1a-e66b00b425a8",
   "metadata": {},
   "outputs": [],
   "source": [
    "df = pd.DataFrame(all_products)"
   ]
  },
  {
   "cell_type": "code",
   "execution_count": 133,
   "id": "b2129cdc-4d86-4f2e-b417-e567a8e9a08b",
   "metadata": {},
   "outputs": [],
   "source": [
    "df.to_csv('data.csv', index = False)"
   ]
  },
  {
   "cell_type": "code",
   "execution_count": 134,
   "id": "4afe5724-8192-4895-8cd7-d3cc9dc4a741",
   "metadata": {},
   "outputs": [
    {
     "data": {
      "text/html": [
       "<div>\n",
       "<style scoped>\n",
       "    .dataframe tbody tr th:only-of-type {\n",
       "        vertical-align: middle;\n",
       "    }\n",
       "\n",
       "    .dataframe tbody tr th {\n",
       "        vertical-align: top;\n",
       "    }\n",
       "\n",
       "    .dataframe thead th {\n",
       "        text-align: right;\n",
       "    }\n",
       "</style>\n",
       "<table border=\"1\" class=\"dataframe\">\n",
       "  <thead>\n",
       "    <tr style=\"text-align: right;\">\n",
       "      <th></th>\n",
       "      <th>title</th>\n",
       "      <th>location</th>\n",
       "      <th>price</th>\n",
       "      <th>product_type</th>\n",
       "      <th>link</th>\n",
       "    </tr>\n",
       "  </thead>\n",
       "  <tbody>\n",
       "    <tr>\n",
       "      <th>0</th>\n",
       "      <td>Imóveis na planta em João Pessoa</td>\n",
       "      <td>Cabo Branco, João Pessoa, PB, 58045010</td>\n",
       "      <td>R$ 274.900</td>\n",
       "      <td>Venda</td>\n",
       "      <td>https://pb.olx.com.br/paraiba/imoveis/imoveis-...</td>\n",
       "    </tr>\n",
       "    <tr>\n",
       "      <th>1</th>\n",
       "      <td>Imóveis para repasse possuem 62 m² com 02 quar...</td>\n",
       "      <td>João Pessoa, PB, 58068103</td>\n",
       "      <td>R$ 42.000</td>\n",
       "      <td>Venda</td>\n",
       "      <td>https://pb.olx.com.br/paraiba/imoveis/imoveis-...</td>\n",
       "    </tr>\n",
       "    <tr>\n",
       "      <th>2</th>\n",
       "      <td>Vendo Imóveis de Alto padrão a Beira Mar de In...</td>\n",
       "      <td>Ipês, João Pessoa, PB, 58028530</td>\n",
       "      <td>R$ 480.000</td>\n",
       "      <td>Venda</td>\n",
       "      <td>https://pb.olx.com.br/paraiba/imoveis/vendo-im...</td>\n",
       "    </tr>\n",
       "    <tr>\n",
       "      <th>3</th>\n",
       "      <td>Imóveis na Planta</td>\n",
       "      <td>Jardim Oceania, João Pessoa, PB, 58037030</td>\n",
       "      <td>R$ 416.234</td>\n",
       "      <td>Venda</td>\n",
       "      <td>https://pb.olx.com.br/paraiba/imoveis/imoveis-...</td>\n",
       "    </tr>\n",
       "    <tr>\n",
       "      <th>4</th>\n",
       "      <td>Imoveis exclusivos</td>\n",
       "      <td>Manaíra, João Pessoa, PB, 58038142</td>\n",
       "      <td>R$ 650.000</td>\n",
       "      <td>Venda</td>\n",
       "      <td>https://pb.olx.com.br/paraiba/imoveis/imoveis-...</td>\n",
       "    </tr>\n",
       "    <tr>\n",
       "      <th>...</th>\n",
       "      <td>...</td>\n",
       "      <td>...</td>\n",
       "      <td>...</td>\n",
       "      <td>...</td>\n",
       "      <td>...</td>\n",
       "    </tr>\n",
       "    <tr>\n",
       "      <th>484</th>\n",
       "      <td>Oportunidade Única em JOAO PESSOA - PB | Tipo:...</td>\n",
       "      <td>João Pessoa, PB, 58068103</td>\n",
       "      <td>R$ 97.778</td>\n",
       "      <td>Venda</td>\n",
       "      <td>https://pb.olx.com.br/paraiba/imoveis/oportuni...</td>\n",
       "    </tr>\n",
       "    <tr>\n",
       "      <th>485</th>\n",
       "      <td>Oportunidade Única em JOAO PESSOA - PB | Tipo:...</td>\n",
       "      <td>João Pessoa, PB, 58066108</td>\n",
       "      <td>R$ 83.135</td>\n",
       "      <td>Venda</td>\n",
       "      <td>https://pb.olx.com.br/paraiba/imoveis/oportuni...</td>\n",
       "    </tr>\n",
       "    <tr>\n",
       "      <th>486</th>\n",
       "      <td>Oportunidade Única em JOAO PESSOA - PB | Tipo:...</td>\n",
       "      <td>João Pessoa, PB, 58066227</td>\n",
       "      <td>R$ 66.495</td>\n",
       "      <td>Venda</td>\n",
       "      <td>https://pb.olx.com.br/paraiba/imoveis/oportuni...</td>\n",
       "    </tr>\n",
       "    <tr>\n",
       "      <th>487</th>\n",
       "      <td>Oportunidade Única em JOAO PESSOA - PB | Tipo:...</td>\n",
       "      <td>João Pessoa, PB, 58068343</td>\n",
       "      <td>R$ 92.444</td>\n",
       "      <td>Venda</td>\n",
       "      <td>https://pb.olx.com.br/paraiba/imoveis/oportuni...</td>\n",
       "    </tr>\n",
       "    <tr>\n",
       "      <th>488</th>\n",
       "      <td>Oportunidade Única em JOAO PESSOA - PB | Tipo:...</td>\n",
       "      <td>João Pessoa, PB, 58066217</td>\n",
       "      <td>R$ 82.813</td>\n",
       "      <td>Venda</td>\n",
       "      <td>https://pb.olx.com.br/paraiba/imoveis/oportuni...</td>\n",
       "    </tr>\n",
       "  </tbody>\n",
       "</table>\n",
       "<p>489 rows × 5 columns</p>\n",
       "</div>"
      ],
      "text/plain": [
       "                                                 title  \\\n",
       "0                     Imóveis na planta em João Pessoa   \n",
       "1    Imóveis para repasse possuem 62 m² com 02 quar...   \n",
       "2    Vendo Imóveis de Alto padrão a Beira Mar de In...   \n",
       "3                                    Imóveis na Planta   \n",
       "4                                   Imoveis exclusivos   \n",
       "..                                                 ...   \n",
       "484  Oportunidade Única em JOAO PESSOA - PB | Tipo:...   \n",
       "485  Oportunidade Única em JOAO PESSOA - PB | Tipo:...   \n",
       "486  Oportunidade Única em JOAO PESSOA - PB | Tipo:...   \n",
       "487  Oportunidade Única em JOAO PESSOA - PB | Tipo:...   \n",
       "488  Oportunidade Única em JOAO PESSOA - PB | Tipo:...   \n",
       "\n",
       "                                      location       price product_type  \\\n",
       "0       Cabo Branco, João Pessoa, PB, 58045010  R$ 274.900        Venda   \n",
       "1                    João Pessoa, PB, 58068103   R$ 42.000        Venda   \n",
       "2              Ipês, João Pessoa, PB, 58028530  R$ 480.000        Venda   \n",
       "3    Jardim Oceania, João Pessoa, PB, 58037030  R$ 416.234        Venda   \n",
       "4           Manaíra, João Pessoa, PB, 58038142  R$ 650.000        Venda   \n",
       "..                                         ...         ...          ...   \n",
       "484                  João Pessoa, PB, 58068103   R$ 97.778        Venda   \n",
       "485                  João Pessoa, PB, 58066108   R$ 83.135        Venda   \n",
       "486                  João Pessoa, PB, 58066227   R$ 66.495        Venda   \n",
       "487                  João Pessoa, PB, 58068343   R$ 92.444        Venda   \n",
       "488                  João Pessoa, PB, 58066217   R$ 82.813        Venda   \n",
       "\n",
       "                                                  link  \n",
       "0    https://pb.olx.com.br/paraiba/imoveis/imoveis-...  \n",
       "1    https://pb.olx.com.br/paraiba/imoveis/imoveis-...  \n",
       "2    https://pb.olx.com.br/paraiba/imoveis/vendo-im...  \n",
       "3    https://pb.olx.com.br/paraiba/imoveis/imoveis-...  \n",
       "4    https://pb.olx.com.br/paraiba/imoveis/imoveis-...  \n",
       "..                                                 ...  \n",
       "484  https://pb.olx.com.br/paraiba/imoveis/oportuni...  \n",
       "485  https://pb.olx.com.br/paraiba/imoveis/oportuni...  \n",
       "486  https://pb.olx.com.br/paraiba/imoveis/oportuni...  \n",
       "487  https://pb.olx.com.br/paraiba/imoveis/oportuni...  \n",
       "488  https://pb.olx.com.br/paraiba/imoveis/oportuni...  \n",
       "\n",
       "[489 rows x 5 columns]"
      ]
     },
     "execution_count": 134,
     "metadata": {},
     "output_type": "execute_result"
    }
   ],
   "source": [
    "pd.set_option('display.precision', 2)\n",
    "\n",
    "df"
   ]
  },
  {
   "cell_type": "code",
   "execution_count": 135,
   "id": "03229420-16d4-4811-90fc-6734e3404d14",
   "metadata": {},
   "outputs": [
    {
     "name": "stdout",
     "output_type": "stream",
     "text": [
      "<class 'pandas.core.frame.DataFrame'>\n",
      "RangeIndex: 489 entries, 0 to 488\n",
      "Data columns (total 5 columns):\n",
      " #   Column        Non-Null Count  Dtype \n",
      "---  ------        --------------  ----- \n",
      " 0   title         489 non-null    object\n",
      " 1   location      489 non-null    object\n",
      " 2   price         489 non-null    object\n",
      " 3   product_type  489 non-null    object\n",
      " 4   link          489 non-null    object\n",
      "dtypes: object(5)\n",
      "memory usage: 19.2+ KB\n"
     ]
    }
   ],
   "source": [
    "df.info()"
   ]
  },
  {
   "cell_type": "markdown",
   "id": "993b32d3-723d-44e4-b251-3003ea3e3812",
   "metadata": {},
   "source": [
    "Algumas pessoas usaram indevidamente a OLX para disponibilizar seus contatos, a fim de realizar serviços por fora do aplicativo. Podemos remover as linhas correspondentes a esses erros usando verificação por expressão regular na linha de preços, e aproveitar, inclusive, para corrigir a apresentação dos preços para um valor numérico:"
   ]
  },
  {
   "cell_type": "code",
   "execution_count": 136,
   "id": "f2dcbcd3-25d8-47e1-9b42-066aca088230",
   "metadata": {
    "scrolled": true
   },
   "outputs": [],
   "source": [
    "# Filtrar para regex correto\n",
    "price_regex = r'R\\$\\s*\\d{1,3}(?:\\.\\d{3})*(?:,\\d{1,2})?|R\\$\\s*\\d+(?:,\\d{1,2})?'\n",
    "price_mask = df['price'].apply(lambda x: bool(re.search(price_regex, str(x))))\n",
    "df = df[price_mask]"
   ]
  },
  {
   "cell_type": "code",
   "execution_count": 137,
   "id": "7cedf768-a5ef-4550-81a5-6baf6986c84e",
   "metadata": {},
   "outputs": [
    {
     "data": {
      "text/html": [
       "<div>\n",
       "<style scoped>\n",
       "    .dataframe tbody tr th:only-of-type {\n",
       "        vertical-align: middle;\n",
       "    }\n",
       "\n",
       "    .dataframe tbody tr th {\n",
       "        vertical-align: top;\n",
       "    }\n",
       "\n",
       "    .dataframe thead th {\n",
       "        text-align: right;\n",
       "    }\n",
       "</style>\n",
       "<table border=\"1\" class=\"dataframe\">\n",
       "  <thead>\n",
       "    <tr style=\"text-align: right;\">\n",
       "      <th></th>\n",
       "      <th>title</th>\n",
       "      <th>location</th>\n",
       "      <th>price</th>\n",
       "      <th>product_type</th>\n",
       "      <th>link</th>\n",
       "    </tr>\n",
       "  </thead>\n",
       "  <tbody>\n",
       "    <tr>\n",
       "      <th>0</th>\n",
       "      <td>Imóveis na planta em João Pessoa</td>\n",
       "      <td>Cabo Branco, João Pessoa, PB, 58045010</td>\n",
       "      <td>R$ 274.900</td>\n",
       "      <td>Venda</td>\n",
       "      <td>https://pb.olx.com.br/paraiba/imoveis/imoveis-...</td>\n",
       "    </tr>\n",
       "    <tr>\n",
       "      <th>1</th>\n",
       "      <td>Imóveis para repasse possuem 62 m² com 02 quar...</td>\n",
       "      <td>João Pessoa, PB, 58068103</td>\n",
       "      <td>R$ 42.000</td>\n",
       "      <td>Venda</td>\n",
       "      <td>https://pb.olx.com.br/paraiba/imoveis/imoveis-...</td>\n",
       "    </tr>\n",
       "    <tr>\n",
       "      <th>2</th>\n",
       "      <td>Vendo Imóveis de Alto padrão a Beira Mar de In...</td>\n",
       "      <td>Ipês, João Pessoa, PB, 58028530</td>\n",
       "      <td>R$ 480.000</td>\n",
       "      <td>Venda</td>\n",
       "      <td>https://pb.olx.com.br/paraiba/imoveis/vendo-im...</td>\n",
       "    </tr>\n",
       "    <tr>\n",
       "      <th>3</th>\n",
       "      <td>Imóveis na Planta</td>\n",
       "      <td>Jardim Oceania, João Pessoa, PB, 58037030</td>\n",
       "      <td>R$ 416.234</td>\n",
       "      <td>Venda</td>\n",
       "      <td>https://pb.olx.com.br/paraiba/imoveis/imoveis-...</td>\n",
       "    </tr>\n",
       "    <tr>\n",
       "      <th>4</th>\n",
       "      <td>Imoveis exclusivos</td>\n",
       "      <td>Manaíra, João Pessoa, PB, 58038142</td>\n",
       "      <td>R$ 650.000</td>\n",
       "      <td>Venda</td>\n",
       "      <td>https://pb.olx.com.br/paraiba/imoveis/imoveis-...</td>\n",
       "    </tr>\n",
       "    <tr>\n",
       "      <th>...</th>\n",
       "      <td>...</td>\n",
       "      <td>...</td>\n",
       "      <td>...</td>\n",
       "      <td>...</td>\n",
       "      <td>...</td>\n",
       "    </tr>\n",
       "    <tr>\n",
       "      <th>484</th>\n",
       "      <td>Oportunidade Única em JOAO PESSOA - PB | Tipo:...</td>\n",
       "      <td>João Pessoa, PB, 58068103</td>\n",
       "      <td>R$ 97.778</td>\n",
       "      <td>Venda</td>\n",
       "      <td>https://pb.olx.com.br/paraiba/imoveis/oportuni...</td>\n",
       "    </tr>\n",
       "    <tr>\n",
       "      <th>485</th>\n",
       "      <td>Oportunidade Única em JOAO PESSOA - PB | Tipo:...</td>\n",
       "      <td>João Pessoa, PB, 58066108</td>\n",
       "      <td>R$ 83.135</td>\n",
       "      <td>Venda</td>\n",
       "      <td>https://pb.olx.com.br/paraiba/imoveis/oportuni...</td>\n",
       "    </tr>\n",
       "    <tr>\n",
       "      <th>486</th>\n",
       "      <td>Oportunidade Única em JOAO PESSOA - PB | Tipo:...</td>\n",
       "      <td>João Pessoa, PB, 58066227</td>\n",
       "      <td>R$ 66.495</td>\n",
       "      <td>Venda</td>\n",
       "      <td>https://pb.olx.com.br/paraiba/imoveis/oportuni...</td>\n",
       "    </tr>\n",
       "    <tr>\n",
       "      <th>487</th>\n",
       "      <td>Oportunidade Única em JOAO PESSOA - PB | Tipo:...</td>\n",
       "      <td>João Pessoa, PB, 58068343</td>\n",
       "      <td>R$ 92.444</td>\n",
       "      <td>Venda</td>\n",
       "      <td>https://pb.olx.com.br/paraiba/imoveis/oportuni...</td>\n",
       "    </tr>\n",
       "    <tr>\n",
       "      <th>488</th>\n",
       "      <td>Oportunidade Única em JOAO PESSOA - PB | Tipo:...</td>\n",
       "      <td>João Pessoa, PB, 58066217</td>\n",
       "      <td>R$ 82.813</td>\n",
       "      <td>Venda</td>\n",
       "      <td>https://pb.olx.com.br/paraiba/imoveis/oportuni...</td>\n",
       "    </tr>\n",
       "  </tbody>\n",
       "</table>\n",
       "<p>468 rows × 5 columns</p>\n",
       "</div>"
      ],
      "text/plain": [
       "                                                 title  \\\n",
       "0                     Imóveis na planta em João Pessoa   \n",
       "1    Imóveis para repasse possuem 62 m² com 02 quar...   \n",
       "2    Vendo Imóveis de Alto padrão a Beira Mar de In...   \n",
       "3                                    Imóveis na Planta   \n",
       "4                                   Imoveis exclusivos   \n",
       "..                                                 ...   \n",
       "484  Oportunidade Única em JOAO PESSOA - PB | Tipo:...   \n",
       "485  Oportunidade Única em JOAO PESSOA - PB | Tipo:...   \n",
       "486  Oportunidade Única em JOAO PESSOA - PB | Tipo:...   \n",
       "487  Oportunidade Única em JOAO PESSOA - PB | Tipo:...   \n",
       "488  Oportunidade Única em JOAO PESSOA - PB | Tipo:...   \n",
       "\n",
       "                                      location       price product_type  \\\n",
       "0       Cabo Branco, João Pessoa, PB, 58045010  R$ 274.900        Venda   \n",
       "1                    João Pessoa, PB, 58068103   R$ 42.000        Venda   \n",
       "2              Ipês, João Pessoa, PB, 58028530  R$ 480.000        Venda   \n",
       "3    Jardim Oceania, João Pessoa, PB, 58037030  R$ 416.234        Venda   \n",
       "4           Manaíra, João Pessoa, PB, 58038142  R$ 650.000        Venda   \n",
       "..                                         ...         ...          ...   \n",
       "484                  João Pessoa, PB, 58068103   R$ 97.778        Venda   \n",
       "485                  João Pessoa, PB, 58066108   R$ 83.135        Venda   \n",
       "486                  João Pessoa, PB, 58066227   R$ 66.495        Venda   \n",
       "487                  João Pessoa, PB, 58068343   R$ 92.444        Venda   \n",
       "488                  João Pessoa, PB, 58066217   R$ 82.813        Venda   \n",
       "\n",
       "                                                  link  \n",
       "0    https://pb.olx.com.br/paraiba/imoveis/imoveis-...  \n",
       "1    https://pb.olx.com.br/paraiba/imoveis/imoveis-...  \n",
       "2    https://pb.olx.com.br/paraiba/imoveis/vendo-im...  \n",
       "3    https://pb.olx.com.br/paraiba/imoveis/imoveis-...  \n",
       "4    https://pb.olx.com.br/paraiba/imoveis/imoveis-...  \n",
       "..                                                 ...  \n",
       "484  https://pb.olx.com.br/paraiba/imoveis/oportuni...  \n",
       "485  https://pb.olx.com.br/paraiba/imoveis/oportuni...  \n",
       "486  https://pb.olx.com.br/paraiba/imoveis/oportuni...  \n",
       "487  https://pb.olx.com.br/paraiba/imoveis/oportuni...  \n",
       "488  https://pb.olx.com.br/paraiba/imoveis/oportuni...  \n",
       "\n",
       "[468 rows x 5 columns]"
      ]
     },
     "execution_count": 137,
     "metadata": {},
     "output_type": "execute_result"
    }
   ],
   "source": [
    "df"
   ]
  },
  {
   "cell_type": "code",
   "execution_count": 138,
   "id": "6b266f84-3fb9-47ba-bd96-62db98f10567",
   "metadata": {},
   "outputs": [
    {
     "name": "stderr",
     "output_type": "stream",
     "text": [
      "/tmp/ipykernel_7379/1789600710.py:1: SettingWithCopyWarning: \n",
      "A value is trying to be set on a copy of a slice from a DataFrame.\n",
      "Try using .loc[row_indexer,col_indexer] = value instead\n",
      "\n",
      "See the caveats in the documentation: https://pandas.pydata.org/pandas-docs/stable/user_guide/indexing.html#returning-a-view-versus-a-copy\n",
      "  df['price'] = (\n"
     ]
    }
   ],
   "source": [
    "df['price'] = (\n",
    "    df['price']\n",
    "    .str.replace(r'R\\$\\s*|[.]', '', regex=True)\n",
    "    .str.replace(',', '.', regex=False)\n",
    "    .astype('float64')\n",
    ")"
   ]
  },
  {
   "cell_type": "code",
   "execution_count": 139,
   "id": "7166b9aa-cb9c-40f1-a93e-d4e10c30526a",
   "metadata": {},
   "outputs": [
    {
     "name": "stdout",
     "output_type": "stream",
     "text": [
      "<class 'pandas.core.frame.DataFrame'>\n",
      "Index: 468 entries, 0 to 488\n",
      "Data columns (total 5 columns):\n",
      " #   Column        Non-Null Count  Dtype  \n",
      "---  ------        --------------  -----  \n",
      " 0   title         468 non-null    object \n",
      " 1   location      468 non-null    object \n",
      " 2   price         468 non-null    float64\n",
      " 3   product_type  468 non-null    object \n",
      " 4   link          468 non-null    object \n",
      "dtypes: float64(1), object(4)\n",
      "memory usage: 21.9+ KB\n"
     ]
    }
   ],
   "source": [
    "df.info()"
   ]
  },
  {
   "cell_type": "code",
   "execution_count": 140,
   "id": "9d0cfeda-41df-4f4c-9961-764fd7bff653",
   "metadata": {},
   "outputs": [
    {
     "data": {
      "text/html": [
       "<div>\n",
       "<style scoped>\n",
       "    .dataframe tbody tr th:only-of-type {\n",
       "        vertical-align: middle;\n",
       "    }\n",
       "\n",
       "    .dataframe tbody tr th {\n",
       "        vertical-align: top;\n",
       "    }\n",
       "\n",
       "    .dataframe thead th {\n",
       "        text-align: right;\n",
       "    }\n",
       "</style>\n",
       "<table border=\"1\" class=\"dataframe\">\n",
       "  <thead>\n",
       "    <tr style=\"text-align: right;\">\n",
       "      <th></th>\n",
       "      <th>title</th>\n",
       "      <th>location</th>\n",
       "      <th>price</th>\n",
       "      <th>product_type</th>\n",
       "      <th>link</th>\n",
       "    </tr>\n",
       "  </thead>\n",
       "  <tbody>\n",
       "    <tr>\n",
       "      <th>0</th>\n",
       "      <td>Imóveis na planta em João Pessoa</td>\n",
       "      <td>Cabo Branco, João Pessoa, PB, 58045010</td>\n",
       "      <td>274900.0</td>\n",
       "      <td>Venda</td>\n",
       "      <td>https://pb.olx.com.br/paraiba/imoveis/imoveis-...</td>\n",
       "    </tr>\n",
       "    <tr>\n",
       "      <th>1</th>\n",
       "      <td>Imóveis para repasse possuem 62 m² com 02 quar...</td>\n",
       "      <td>João Pessoa, PB, 58068103</td>\n",
       "      <td>42000.0</td>\n",
       "      <td>Venda</td>\n",
       "      <td>https://pb.olx.com.br/paraiba/imoveis/imoveis-...</td>\n",
       "    </tr>\n",
       "    <tr>\n",
       "      <th>2</th>\n",
       "      <td>Vendo Imóveis de Alto padrão a Beira Mar de In...</td>\n",
       "      <td>Ipês, João Pessoa, PB, 58028530</td>\n",
       "      <td>480000.0</td>\n",
       "      <td>Venda</td>\n",
       "      <td>https://pb.olx.com.br/paraiba/imoveis/vendo-im...</td>\n",
       "    </tr>\n",
       "    <tr>\n",
       "      <th>3</th>\n",
       "      <td>Imóveis na Planta</td>\n",
       "      <td>Jardim Oceania, João Pessoa, PB, 58037030</td>\n",
       "      <td>416234.0</td>\n",
       "      <td>Venda</td>\n",
       "      <td>https://pb.olx.com.br/paraiba/imoveis/imoveis-...</td>\n",
       "    </tr>\n",
       "    <tr>\n",
       "      <th>4</th>\n",
       "      <td>Imoveis exclusivos</td>\n",
       "      <td>Manaíra, João Pessoa, PB, 58038142</td>\n",
       "      <td>650000.0</td>\n",
       "      <td>Venda</td>\n",
       "      <td>https://pb.olx.com.br/paraiba/imoveis/imoveis-...</td>\n",
       "    </tr>\n",
       "    <tr>\n",
       "      <th>...</th>\n",
       "      <td>...</td>\n",
       "      <td>...</td>\n",
       "      <td>...</td>\n",
       "      <td>...</td>\n",
       "      <td>...</td>\n",
       "    </tr>\n",
       "    <tr>\n",
       "      <th>484</th>\n",
       "      <td>Oportunidade Única em JOAO PESSOA - PB | Tipo:...</td>\n",
       "      <td>João Pessoa, PB, 58068103</td>\n",
       "      <td>97778.0</td>\n",
       "      <td>Venda</td>\n",
       "      <td>https://pb.olx.com.br/paraiba/imoveis/oportuni...</td>\n",
       "    </tr>\n",
       "    <tr>\n",
       "      <th>485</th>\n",
       "      <td>Oportunidade Única em JOAO PESSOA - PB | Tipo:...</td>\n",
       "      <td>João Pessoa, PB, 58066108</td>\n",
       "      <td>83135.0</td>\n",
       "      <td>Venda</td>\n",
       "      <td>https://pb.olx.com.br/paraiba/imoveis/oportuni...</td>\n",
       "    </tr>\n",
       "    <tr>\n",
       "      <th>486</th>\n",
       "      <td>Oportunidade Única em JOAO PESSOA - PB | Tipo:...</td>\n",
       "      <td>João Pessoa, PB, 58066227</td>\n",
       "      <td>66495.0</td>\n",
       "      <td>Venda</td>\n",
       "      <td>https://pb.olx.com.br/paraiba/imoveis/oportuni...</td>\n",
       "    </tr>\n",
       "    <tr>\n",
       "      <th>487</th>\n",
       "      <td>Oportunidade Única em JOAO PESSOA - PB | Tipo:...</td>\n",
       "      <td>João Pessoa, PB, 58068343</td>\n",
       "      <td>92444.0</td>\n",
       "      <td>Venda</td>\n",
       "      <td>https://pb.olx.com.br/paraiba/imoveis/oportuni...</td>\n",
       "    </tr>\n",
       "    <tr>\n",
       "      <th>488</th>\n",
       "      <td>Oportunidade Única em JOAO PESSOA - PB | Tipo:...</td>\n",
       "      <td>João Pessoa, PB, 58066217</td>\n",
       "      <td>82813.0</td>\n",
       "      <td>Venda</td>\n",
       "      <td>https://pb.olx.com.br/paraiba/imoveis/oportuni...</td>\n",
       "    </tr>\n",
       "  </tbody>\n",
       "</table>\n",
       "<p>468 rows × 5 columns</p>\n",
       "</div>"
      ],
      "text/plain": [
       "                                                 title  \\\n",
       "0                     Imóveis na planta em João Pessoa   \n",
       "1    Imóveis para repasse possuem 62 m² com 02 quar...   \n",
       "2    Vendo Imóveis de Alto padrão a Beira Mar de In...   \n",
       "3                                    Imóveis na Planta   \n",
       "4                                   Imoveis exclusivos   \n",
       "..                                                 ...   \n",
       "484  Oportunidade Única em JOAO PESSOA - PB | Tipo:...   \n",
       "485  Oportunidade Única em JOAO PESSOA - PB | Tipo:...   \n",
       "486  Oportunidade Única em JOAO PESSOA - PB | Tipo:...   \n",
       "487  Oportunidade Única em JOAO PESSOA - PB | Tipo:...   \n",
       "488  Oportunidade Única em JOAO PESSOA - PB | Tipo:...   \n",
       "\n",
       "                                      location     price product_type  \\\n",
       "0       Cabo Branco, João Pessoa, PB, 58045010  274900.0        Venda   \n",
       "1                    João Pessoa, PB, 58068103   42000.0        Venda   \n",
       "2              Ipês, João Pessoa, PB, 58028530  480000.0        Venda   \n",
       "3    Jardim Oceania, João Pessoa, PB, 58037030  416234.0        Venda   \n",
       "4           Manaíra, João Pessoa, PB, 58038142  650000.0        Venda   \n",
       "..                                         ...       ...          ...   \n",
       "484                  João Pessoa, PB, 58068103   97778.0        Venda   \n",
       "485                  João Pessoa, PB, 58066108   83135.0        Venda   \n",
       "486                  João Pessoa, PB, 58066227   66495.0        Venda   \n",
       "487                  João Pessoa, PB, 58068343   92444.0        Venda   \n",
       "488                  João Pessoa, PB, 58066217   82813.0        Venda   \n",
       "\n",
       "                                                  link  \n",
       "0    https://pb.olx.com.br/paraiba/imoveis/imoveis-...  \n",
       "1    https://pb.olx.com.br/paraiba/imoveis/imoveis-...  \n",
       "2    https://pb.olx.com.br/paraiba/imoveis/vendo-im...  \n",
       "3    https://pb.olx.com.br/paraiba/imoveis/imoveis-...  \n",
       "4    https://pb.olx.com.br/paraiba/imoveis/imoveis-...  \n",
       "..                                                 ...  \n",
       "484  https://pb.olx.com.br/paraiba/imoveis/oportuni...  \n",
       "485  https://pb.olx.com.br/paraiba/imoveis/oportuni...  \n",
       "486  https://pb.olx.com.br/paraiba/imoveis/oportuni...  \n",
       "487  https://pb.olx.com.br/paraiba/imoveis/oportuni...  \n",
       "488  https://pb.olx.com.br/paraiba/imoveis/oportuni...  \n",
       "\n",
       "[468 rows x 5 columns]"
      ]
     },
     "execution_count": 140,
     "metadata": {},
     "output_type": "execute_result"
    }
   ],
   "source": [
    "df"
   ]
  },
  {
   "cell_type": "markdown",
   "id": "b2fb4501-844c-4355-beb4-de7a6089fc8d",
   "metadata": {},
   "source": [
    "Outra coisa que faremos é transformar a coluna ``location`` em uma coluna contendo apenas os CEPs de cada imóvel (já aproveitamos para deixar o CEP correto para a cidade de João Pessoa):"
   ]
  },
  {
   "cell_type": "code",
   "execution_count": 141,
   "id": "18854343-2ac5-4d31-88a1-001a8e123625",
   "metadata": {},
   "outputs": [],
   "source": [
    "df = df.rename(columns = {'location': 'cep'})"
   ]
  },
  {
   "cell_type": "code",
   "execution_count": 142,
   "id": "be274367-6acf-4bc6-80cd-b422e9d32142",
   "metadata": {},
   "outputs": [
    {
     "data": {
      "text/html": [
       "<div>\n",
       "<style scoped>\n",
       "    .dataframe tbody tr th:only-of-type {\n",
       "        vertical-align: middle;\n",
       "    }\n",
       "\n",
       "    .dataframe tbody tr th {\n",
       "        vertical-align: top;\n",
       "    }\n",
       "\n",
       "    .dataframe thead th {\n",
       "        text-align: right;\n",
       "    }\n",
       "</style>\n",
       "<table border=\"1\" class=\"dataframe\">\n",
       "  <thead>\n",
       "    <tr style=\"text-align: right;\">\n",
       "      <th></th>\n",
       "      <th>title</th>\n",
       "      <th>cep</th>\n",
       "      <th>price</th>\n",
       "      <th>product_type</th>\n",
       "      <th>link</th>\n",
       "    </tr>\n",
       "  </thead>\n",
       "  <tbody>\n",
       "    <tr>\n",
       "      <th>0</th>\n",
       "      <td>Imóveis na planta em João Pessoa</td>\n",
       "      <td>Cabo Branco, João Pessoa, PB, 58045010</td>\n",
       "      <td>274900.0</td>\n",
       "      <td>Venda</td>\n",
       "      <td>https://pb.olx.com.br/paraiba/imoveis/imoveis-...</td>\n",
       "    </tr>\n",
       "    <tr>\n",
       "      <th>1</th>\n",
       "      <td>Imóveis para repasse possuem 62 m² com 02 quar...</td>\n",
       "      <td>João Pessoa, PB, 58068103</td>\n",
       "      <td>42000.0</td>\n",
       "      <td>Venda</td>\n",
       "      <td>https://pb.olx.com.br/paraiba/imoveis/imoveis-...</td>\n",
       "    </tr>\n",
       "    <tr>\n",
       "      <th>2</th>\n",
       "      <td>Vendo Imóveis de Alto padrão a Beira Mar de In...</td>\n",
       "      <td>Ipês, João Pessoa, PB, 58028530</td>\n",
       "      <td>480000.0</td>\n",
       "      <td>Venda</td>\n",
       "      <td>https://pb.olx.com.br/paraiba/imoveis/vendo-im...</td>\n",
       "    </tr>\n",
       "    <tr>\n",
       "      <th>3</th>\n",
       "      <td>Imóveis na Planta</td>\n",
       "      <td>Jardim Oceania, João Pessoa, PB, 58037030</td>\n",
       "      <td>416234.0</td>\n",
       "      <td>Venda</td>\n",
       "      <td>https://pb.olx.com.br/paraiba/imoveis/imoveis-...</td>\n",
       "    </tr>\n",
       "    <tr>\n",
       "      <th>4</th>\n",
       "      <td>Imoveis exclusivos</td>\n",
       "      <td>Manaíra, João Pessoa, PB, 58038142</td>\n",
       "      <td>650000.0</td>\n",
       "      <td>Venda</td>\n",
       "      <td>https://pb.olx.com.br/paraiba/imoveis/imoveis-...</td>\n",
       "    </tr>\n",
       "    <tr>\n",
       "      <th>...</th>\n",
       "      <td>...</td>\n",
       "      <td>...</td>\n",
       "      <td>...</td>\n",
       "      <td>...</td>\n",
       "      <td>...</td>\n",
       "    </tr>\n",
       "    <tr>\n",
       "      <th>484</th>\n",
       "      <td>Oportunidade Única em JOAO PESSOA - PB | Tipo:...</td>\n",
       "      <td>João Pessoa, PB, 58068103</td>\n",
       "      <td>97778.0</td>\n",
       "      <td>Venda</td>\n",
       "      <td>https://pb.olx.com.br/paraiba/imoveis/oportuni...</td>\n",
       "    </tr>\n",
       "    <tr>\n",
       "      <th>485</th>\n",
       "      <td>Oportunidade Única em JOAO PESSOA - PB | Tipo:...</td>\n",
       "      <td>João Pessoa, PB, 58066108</td>\n",
       "      <td>83135.0</td>\n",
       "      <td>Venda</td>\n",
       "      <td>https://pb.olx.com.br/paraiba/imoveis/oportuni...</td>\n",
       "    </tr>\n",
       "    <tr>\n",
       "      <th>486</th>\n",
       "      <td>Oportunidade Única em JOAO PESSOA - PB | Tipo:...</td>\n",
       "      <td>João Pessoa, PB, 58066227</td>\n",
       "      <td>66495.0</td>\n",
       "      <td>Venda</td>\n",
       "      <td>https://pb.olx.com.br/paraiba/imoveis/oportuni...</td>\n",
       "    </tr>\n",
       "    <tr>\n",
       "      <th>487</th>\n",
       "      <td>Oportunidade Única em JOAO PESSOA - PB | Tipo:...</td>\n",
       "      <td>João Pessoa, PB, 58068343</td>\n",
       "      <td>92444.0</td>\n",
       "      <td>Venda</td>\n",
       "      <td>https://pb.olx.com.br/paraiba/imoveis/oportuni...</td>\n",
       "    </tr>\n",
       "    <tr>\n",
       "      <th>488</th>\n",
       "      <td>Oportunidade Única em JOAO PESSOA - PB | Tipo:...</td>\n",
       "      <td>João Pessoa, PB, 58066217</td>\n",
       "      <td>82813.0</td>\n",
       "      <td>Venda</td>\n",
       "      <td>https://pb.olx.com.br/paraiba/imoveis/oportuni...</td>\n",
       "    </tr>\n",
       "  </tbody>\n",
       "</table>\n",
       "<p>468 rows × 5 columns</p>\n",
       "</div>"
      ],
      "text/plain": [
       "                                                 title  \\\n",
       "0                     Imóveis na planta em João Pessoa   \n",
       "1    Imóveis para repasse possuem 62 m² com 02 quar...   \n",
       "2    Vendo Imóveis de Alto padrão a Beira Mar de In...   \n",
       "3                                    Imóveis na Planta   \n",
       "4                                   Imoveis exclusivos   \n",
       "..                                                 ...   \n",
       "484  Oportunidade Única em JOAO PESSOA - PB | Tipo:...   \n",
       "485  Oportunidade Única em JOAO PESSOA - PB | Tipo:...   \n",
       "486  Oportunidade Única em JOAO PESSOA - PB | Tipo:...   \n",
       "487  Oportunidade Única em JOAO PESSOA - PB | Tipo:...   \n",
       "488  Oportunidade Única em JOAO PESSOA - PB | Tipo:...   \n",
       "\n",
       "                                           cep     price product_type  \\\n",
       "0       Cabo Branco, João Pessoa, PB, 58045010  274900.0        Venda   \n",
       "1                    João Pessoa, PB, 58068103   42000.0        Venda   \n",
       "2              Ipês, João Pessoa, PB, 58028530  480000.0        Venda   \n",
       "3    Jardim Oceania, João Pessoa, PB, 58037030  416234.0        Venda   \n",
       "4           Manaíra, João Pessoa, PB, 58038142  650000.0        Venda   \n",
       "..                                         ...       ...          ...   \n",
       "484                  João Pessoa, PB, 58068103   97778.0        Venda   \n",
       "485                  João Pessoa, PB, 58066108   83135.0        Venda   \n",
       "486                  João Pessoa, PB, 58066227   66495.0        Venda   \n",
       "487                  João Pessoa, PB, 58068343   92444.0        Venda   \n",
       "488                  João Pessoa, PB, 58066217   82813.0        Venda   \n",
       "\n",
       "                                                  link  \n",
       "0    https://pb.olx.com.br/paraiba/imoveis/imoveis-...  \n",
       "1    https://pb.olx.com.br/paraiba/imoveis/imoveis-...  \n",
       "2    https://pb.olx.com.br/paraiba/imoveis/vendo-im...  \n",
       "3    https://pb.olx.com.br/paraiba/imoveis/imoveis-...  \n",
       "4    https://pb.olx.com.br/paraiba/imoveis/imoveis-...  \n",
       "..                                                 ...  \n",
       "484  https://pb.olx.com.br/paraiba/imoveis/oportuni...  \n",
       "485  https://pb.olx.com.br/paraiba/imoveis/oportuni...  \n",
       "486  https://pb.olx.com.br/paraiba/imoveis/oportuni...  \n",
       "487  https://pb.olx.com.br/paraiba/imoveis/oportuni...  \n",
       "488  https://pb.olx.com.br/paraiba/imoveis/oportuni...  \n",
       "\n",
       "[468 rows x 5 columns]"
      ]
     },
     "execution_count": 142,
     "metadata": {},
     "output_type": "execute_result"
    }
   ],
   "source": [
    "df"
   ]
  },
  {
   "cell_type": "code",
   "execution_count": 143,
   "id": "e7e32573-0385-4fef-aa62-5aef891b3f52",
   "metadata": {},
   "outputs": [
    {
     "data": {
      "text/html": [
       "<div>\n",
       "<style scoped>\n",
       "    .dataframe tbody tr th:only-of-type {\n",
       "        vertical-align: middle;\n",
       "    }\n",
       "\n",
       "    .dataframe tbody tr th {\n",
       "        vertical-align: top;\n",
       "    }\n",
       "\n",
       "    .dataframe thead th {\n",
       "        text-align: right;\n",
       "    }\n",
       "</style>\n",
       "<table border=\"1\" class=\"dataframe\">\n",
       "  <thead>\n",
       "    <tr style=\"text-align: right;\">\n",
       "      <th></th>\n",
       "      <th>title</th>\n",
       "      <th>cep</th>\n",
       "      <th>price</th>\n",
       "      <th>product_type</th>\n",
       "      <th>link</th>\n",
       "    </tr>\n",
       "  </thead>\n",
       "  <tbody>\n",
       "    <tr>\n",
       "      <th>0</th>\n",
       "      <td>Imóveis na planta em João Pessoa</td>\n",
       "      <td>58045010</td>\n",
       "      <td>274900.0</td>\n",
       "      <td>Venda</td>\n",
       "      <td>https://pb.olx.com.br/paraiba/imoveis/imoveis-...</td>\n",
       "    </tr>\n",
       "    <tr>\n",
       "      <th>1</th>\n",
       "      <td>Imóveis para repasse possuem 62 m² com 02 quar...</td>\n",
       "      <td>58068103</td>\n",
       "      <td>42000.0</td>\n",
       "      <td>Venda</td>\n",
       "      <td>https://pb.olx.com.br/paraiba/imoveis/imoveis-...</td>\n",
       "    </tr>\n",
       "    <tr>\n",
       "      <th>2</th>\n",
       "      <td>Vendo Imóveis de Alto padrão a Beira Mar de In...</td>\n",
       "      <td>58028530</td>\n",
       "      <td>480000.0</td>\n",
       "      <td>Venda</td>\n",
       "      <td>https://pb.olx.com.br/paraiba/imoveis/vendo-im...</td>\n",
       "    </tr>\n",
       "    <tr>\n",
       "      <th>3</th>\n",
       "      <td>Imóveis na Planta</td>\n",
       "      <td>58037030</td>\n",
       "      <td>416234.0</td>\n",
       "      <td>Venda</td>\n",
       "      <td>https://pb.olx.com.br/paraiba/imoveis/imoveis-...</td>\n",
       "    </tr>\n",
       "    <tr>\n",
       "      <th>4</th>\n",
       "      <td>Imoveis exclusivos</td>\n",
       "      <td>58038142</td>\n",
       "      <td>650000.0</td>\n",
       "      <td>Venda</td>\n",
       "      <td>https://pb.olx.com.br/paraiba/imoveis/imoveis-...</td>\n",
       "    </tr>\n",
       "    <tr>\n",
       "      <th>...</th>\n",
       "      <td>...</td>\n",
       "      <td>...</td>\n",
       "      <td>...</td>\n",
       "      <td>...</td>\n",
       "      <td>...</td>\n",
       "    </tr>\n",
       "    <tr>\n",
       "      <th>457</th>\n",
       "      <td>Oportunidade Única em JOAO PESSOA - PB | Tipo:...</td>\n",
       "      <td>58068103</td>\n",
       "      <td>97778.0</td>\n",
       "      <td>Venda</td>\n",
       "      <td>https://pb.olx.com.br/paraiba/imoveis/oportuni...</td>\n",
       "    </tr>\n",
       "    <tr>\n",
       "      <th>458</th>\n",
       "      <td>Oportunidade Única em JOAO PESSOA - PB | Tipo:...</td>\n",
       "      <td>58066108</td>\n",
       "      <td>83135.0</td>\n",
       "      <td>Venda</td>\n",
       "      <td>https://pb.olx.com.br/paraiba/imoveis/oportuni...</td>\n",
       "    </tr>\n",
       "    <tr>\n",
       "      <th>459</th>\n",
       "      <td>Oportunidade Única em JOAO PESSOA - PB | Tipo:...</td>\n",
       "      <td>58066227</td>\n",
       "      <td>66495.0</td>\n",
       "      <td>Venda</td>\n",
       "      <td>https://pb.olx.com.br/paraiba/imoveis/oportuni...</td>\n",
       "    </tr>\n",
       "    <tr>\n",
       "      <th>460</th>\n",
       "      <td>Oportunidade Única em JOAO PESSOA - PB | Tipo:...</td>\n",
       "      <td>58068343</td>\n",
       "      <td>92444.0</td>\n",
       "      <td>Venda</td>\n",
       "      <td>https://pb.olx.com.br/paraiba/imoveis/oportuni...</td>\n",
       "    </tr>\n",
       "    <tr>\n",
       "      <th>461</th>\n",
       "      <td>Oportunidade Única em JOAO PESSOA - PB | Tipo:...</td>\n",
       "      <td>58066217</td>\n",
       "      <td>82813.0</td>\n",
       "      <td>Venda</td>\n",
       "      <td>https://pb.olx.com.br/paraiba/imoveis/oportuni...</td>\n",
       "    </tr>\n",
       "  </tbody>\n",
       "</table>\n",
       "<p>462 rows × 5 columns</p>\n",
       "</div>"
      ],
      "text/plain": [
       "                                                 title       cep     price  \\\n",
       "0                     Imóveis na planta em João Pessoa  58045010  274900.0   \n",
       "1    Imóveis para repasse possuem 62 m² com 02 quar...  58068103   42000.0   \n",
       "2    Vendo Imóveis de Alto padrão a Beira Mar de In...  58028530  480000.0   \n",
       "3                                    Imóveis na Planta  58037030  416234.0   \n",
       "4                                   Imoveis exclusivos  58038142  650000.0   \n",
       "..                                                 ...       ...       ...   \n",
       "457  Oportunidade Única em JOAO PESSOA - PB | Tipo:...  58068103   97778.0   \n",
       "458  Oportunidade Única em JOAO PESSOA - PB | Tipo:...  58066108   83135.0   \n",
       "459  Oportunidade Única em JOAO PESSOA - PB | Tipo:...  58066227   66495.0   \n",
       "460  Oportunidade Única em JOAO PESSOA - PB | Tipo:...  58068343   92444.0   \n",
       "461  Oportunidade Única em JOAO PESSOA - PB | Tipo:...  58066217   82813.0   \n",
       "\n",
       "    product_type                                               link  \n",
       "0          Venda  https://pb.olx.com.br/paraiba/imoveis/imoveis-...  \n",
       "1          Venda  https://pb.olx.com.br/paraiba/imoveis/imoveis-...  \n",
       "2          Venda  https://pb.olx.com.br/paraiba/imoveis/vendo-im...  \n",
       "3          Venda  https://pb.olx.com.br/paraiba/imoveis/imoveis-...  \n",
       "4          Venda  https://pb.olx.com.br/paraiba/imoveis/imoveis-...  \n",
       "..           ...                                                ...  \n",
       "457        Venda  https://pb.olx.com.br/paraiba/imoveis/oportuni...  \n",
       "458        Venda  https://pb.olx.com.br/paraiba/imoveis/oportuni...  \n",
       "459        Venda  https://pb.olx.com.br/paraiba/imoveis/oportuni...  \n",
       "460        Venda  https://pb.olx.com.br/paraiba/imoveis/oportuni...  \n",
       "461        Venda  https://pb.olx.com.br/paraiba/imoveis/oportuni...  \n",
       "\n",
       "[462 rows x 5 columns]"
      ]
     },
     "execution_count": 143,
     "metadata": {},
     "output_type": "execute_result"
    }
   ],
   "source": [
    "cep_regex = r'(58\\d{6})'\n",
    "\n",
    "df['cep'] = df['cep'].str.extract(cep_regex)\n",
    "df = df.dropna(subset=['cep']).copy()\n",
    "df = df.reset_index(drop = True)\n",
    "df"
   ]
  },
  {
   "cell_type": "markdown",
   "id": "1a9633f5-98f7-4ce6-a332-bb6c10b4ec0a",
   "metadata": {},
   "source": [
    "Em ``title``, convém remover vírgulas e pontuações, bem como normalizar o texto para lower case:"
   ]
  },
  {
   "cell_type": "code",
   "execution_count": 144,
   "id": "8e1e8cef-d650-40e3-87f5-ebbba6b3f796",
   "metadata": {},
   "outputs": [],
   "source": [
    "df['title'] = df['title'].apply(lambda x: re.sub(r'[^\\w\\s]', '', x))\n",
    "df['title'] = df['title'].apply(lambda x: x.lower())"
   ]
  },
  {
   "cell_type": "code",
   "execution_count": 145,
   "id": "e22a5854-3d41-40f6-8a8d-21c39947c4e8",
   "metadata": {},
   "outputs": [
    {
     "data": {
      "text/html": [
       "<div>\n",
       "<style scoped>\n",
       "    .dataframe tbody tr th:only-of-type {\n",
       "        vertical-align: middle;\n",
       "    }\n",
       "\n",
       "    .dataframe tbody tr th {\n",
       "        vertical-align: top;\n",
       "    }\n",
       "\n",
       "    .dataframe thead th {\n",
       "        text-align: right;\n",
       "    }\n",
       "</style>\n",
       "<table border=\"1\" class=\"dataframe\">\n",
       "  <thead>\n",
       "    <tr style=\"text-align: right;\">\n",
       "      <th></th>\n",
       "      <th>title</th>\n",
       "      <th>cep</th>\n",
       "      <th>price</th>\n",
       "      <th>product_type</th>\n",
       "      <th>link</th>\n",
       "    </tr>\n",
       "  </thead>\n",
       "  <tbody>\n",
       "    <tr>\n",
       "      <th>0</th>\n",
       "      <td>imóveis na planta em joão pessoa</td>\n",
       "      <td>58045010</td>\n",
       "      <td>274900.0</td>\n",
       "      <td>Venda</td>\n",
       "      <td>https://pb.olx.com.br/paraiba/imoveis/imoveis-...</td>\n",
       "    </tr>\n",
       "    <tr>\n",
       "      <th>1</th>\n",
       "      <td>imóveis para repasse possuem 62 m² com 02 quar...</td>\n",
       "      <td>58068103</td>\n",
       "      <td>42000.0</td>\n",
       "      <td>Venda</td>\n",
       "      <td>https://pb.olx.com.br/paraiba/imoveis/imoveis-...</td>\n",
       "    </tr>\n",
       "    <tr>\n",
       "      <th>2</th>\n",
       "      <td>vendo imóveis de alto padrão a beira mar de in...</td>\n",
       "      <td>58028530</td>\n",
       "      <td>480000.0</td>\n",
       "      <td>Venda</td>\n",
       "      <td>https://pb.olx.com.br/paraiba/imoveis/vendo-im...</td>\n",
       "    </tr>\n",
       "    <tr>\n",
       "      <th>3</th>\n",
       "      <td>imóveis na planta</td>\n",
       "      <td>58037030</td>\n",
       "      <td>416234.0</td>\n",
       "      <td>Venda</td>\n",
       "      <td>https://pb.olx.com.br/paraiba/imoveis/imoveis-...</td>\n",
       "    </tr>\n",
       "    <tr>\n",
       "      <th>4</th>\n",
       "      <td>imoveis exclusivos</td>\n",
       "      <td>58038142</td>\n",
       "      <td>650000.0</td>\n",
       "      <td>Venda</td>\n",
       "      <td>https://pb.olx.com.br/paraiba/imoveis/imoveis-...</td>\n",
       "    </tr>\n",
       "    <tr>\n",
       "      <th>...</th>\n",
       "      <td>...</td>\n",
       "      <td>...</td>\n",
       "      <td>...</td>\n",
       "      <td>...</td>\n",
       "      <td>...</td>\n",
       "    </tr>\n",
       "    <tr>\n",
       "      <th>457</th>\n",
       "      <td>oportunidade única em joao pessoa  pb  tipo ap...</td>\n",
       "      <td>58068103</td>\n",
       "      <td>97778.0</td>\n",
       "      <td>Venda</td>\n",
       "      <td>https://pb.olx.com.br/paraiba/imoveis/oportuni...</td>\n",
       "    </tr>\n",
       "    <tr>\n",
       "      <th>458</th>\n",
       "      <td>oportunidade única em joao pessoa  pb  tipo ap...</td>\n",
       "      <td>58066108</td>\n",
       "      <td>83135.0</td>\n",
       "      <td>Venda</td>\n",
       "      <td>https://pb.olx.com.br/paraiba/imoveis/oportuni...</td>\n",
       "    </tr>\n",
       "    <tr>\n",
       "      <th>459</th>\n",
       "      <td>oportunidade única em joao pessoa  pb  tipo ap...</td>\n",
       "      <td>58066227</td>\n",
       "      <td>66495.0</td>\n",
       "      <td>Venda</td>\n",
       "      <td>https://pb.olx.com.br/paraiba/imoveis/oportuni...</td>\n",
       "    </tr>\n",
       "    <tr>\n",
       "      <th>460</th>\n",
       "      <td>oportunidade única em joao pessoa  pb  tipo ap...</td>\n",
       "      <td>58068343</td>\n",
       "      <td>92444.0</td>\n",
       "      <td>Venda</td>\n",
       "      <td>https://pb.olx.com.br/paraiba/imoveis/oportuni...</td>\n",
       "    </tr>\n",
       "    <tr>\n",
       "      <th>461</th>\n",
       "      <td>oportunidade única em joao pessoa  pb  tipo ap...</td>\n",
       "      <td>58066217</td>\n",
       "      <td>82813.0</td>\n",
       "      <td>Venda</td>\n",
       "      <td>https://pb.olx.com.br/paraiba/imoveis/oportuni...</td>\n",
       "    </tr>\n",
       "  </tbody>\n",
       "</table>\n",
       "<p>462 rows × 5 columns</p>\n",
       "</div>"
      ],
      "text/plain": [
       "                                                 title       cep     price  \\\n",
       "0                     imóveis na planta em joão pessoa  58045010  274900.0   \n",
       "1    imóveis para repasse possuem 62 m² com 02 quar...  58068103   42000.0   \n",
       "2    vendo imóveis de alto padrão a beira mar de in...  58028530  480000.0   \n",
       "3                                    imóveis na planta  58037030  416234.0   \n",
       "4                                   imoveis exclusivos  58038142  650000.0   \n",
       "..                                                 ...       ...       ...   \n",
       "457  oportunidade única em joao pessoa  pb  tipo ap...  58068103   97778.0   \n",
       "458  oportunidade única em joao pessoa  pb  tipo ap...  58066108   83135.0   \n",
       "459  oportunidade única em joao pessoa  pb  tipo ap...  58066227   66495.0   \n",
       "460  oportunidade única em joao pessoa  pb  tipo ap...  58068343   92444.0   \n",
       "461  oportunidade única em joao pessoa  pb  tipo ap...  58066217   82813.0   \n",
       "\n",
       "    product_type                                               link  \n",
       "0          Venda  https://pb.olx.com.br/paraiba/imoveis/imoveis-...  \n",
       "1          Venda  https://pb.olx.com.br/paraiba/imoveis/imoveis-...  \n",
       "2          Venda  https://pb.olx.com.br/paraiba/imoveis/vendo-im...  \n",
       "3          Venda  https://pb.olx.com.br/paraiba/imoveis/imoveis-...  \n",
       "4          Venda  https://pb.olx.com.br/paraiba/imoveis/imoveis-...  \n",
       "..           ...                                                ...  \n",
       "457        Venda  https://pb.olx.com.br/paraiba/imoveis/oportuni...  \n",
       "458        Venda  https://pb.olx.com.br/paraiba/imoveis/oportuni...  \n",
       "459        Venda  https://pb.olx.com.br/paraiba/imoveis/oportuni...  \n",
       "460        Venda  https://pb.olx.com.br/paraiba/imoveis/oportuni...  \n",
       "461        Venda  https://pb.olx.com.br/paraiba/imoveis/oportuni...  \n",
       "\n",
       "[462 rows x 5 columns]"
      ]
     },
     "execution_count": 145,
     "metadata": {},
     "output_type": "execute_result"
    }
   ],
   "source": [
    "df"
   ]
  },
  {
   "cell_type": "markdown",
   "id": "b92d6c4c-b439-453f-b0d5-fdeea571986e",
   "metadata": {},
   "source": [
    "Vale a pena testar para duplicatas e valores nulos:"
   ]
  },
  {
   "cell_type": "code",
   "execution_count": 146,
   "id": "3f022269-b43c-431f-b9a7-1e2eca938fc4",
   "metadata": {},
   "outputs": [
    {
     "data": {
      "text/plain": [
       "np.int64(12)"
      ]
     },
     "execution_count": 146,
     "metadata": {},
     "output_type": "execute_result"
    }
   ],
   "source": [
    "df.duplicated().sum()"
   ]
  },
  {
   "cell_type": "markdown",
   "id": "dae16b1e-8cfe-407c-85df-e89d4c4fbbae",
   "metadata": {},
   "source": [
    "Removemos:"
   ]
  },
  {
   "cell_type": "code",
   "execution_count": 147,
   "id": "3d815c0f-c67e-4182-a79f-b1d748d122f7",
   "metadata": {},
   "outputs": [
    {
     "data": {
      "text/html": [
       "<div>\n",
       "<style scoped>\n",
       "    .dataframe tbody tr th:only-of-type {\n",
       "        vertical-align: middle;\n",
       "    }\n",
       "\n",
       "    .dataframe tbody tr th {\n",
       "        vertical-align: top;\n",
       "    }\n",
       "\n",
       "    .dataframe thead th {\n",
       "        text-align: right;\n",
       "    }\n",
       "</style>\n",
       "<table border=\"1\" class=\"dataframe\">\n",
       "  <thead>\n",
       "    <tr style=\"text-align: right;\">\n",
       "      <th></th>\n",
       "      <th>title</th>\n",
       "      <th>cep</th>\n",
       "      <th>price</th>\n",
       "      <th>product_type</th>\n",
       "      <th>link</th>\n",
       "    </tr>\n",
       "  </thead>\n",
       "  <tbody>\n",
       "    <tr>\n",
       "      <th>0</th>\n",
       "      <td>imóveis na planta em joão pessoa</td>\n",
       "      <td>58045010</td>\n",
       "      <td>274900.0</td>\n",
       "      <td>Venda</td>\n",
       "      <td>https://pb.olx.com.br/paraiba/imoveis/imoveis-...</td>\n",
       "    </tr>\n",
       "    <tr>\n",
       "      <th>1</th>\n",
       "      <td>imóveis para repasse possuem 62 m² com 02 quar...</td>\n",
       "      <td>58068103</td>\n",
       "      <td>42000.0</td>\n",
       "      <td>Venda</td>\n",
       "      <td>https://pb.olx.com.br/paraiba/imoveis/imoveis-...</td>\n",
       "    </tr>\n",
       "    <tr>\n",
       "      <th>2</th>\n",
       "      <td>vendo imóveis de alto padrão a beira mar de in...</td>\n",
       "      <td>58028530</td>\n",
       "      <td>480000.0</td>\n",
       "      <td>Venda</td>\n",
       "      <td>https://pb.olx.com.br/paraiba/imoveis/vendo-im...</td>\n",
       "    </tr>\n",
       "    <tr>\n",
       "      <th>3</th>\n",
       "      <td>imóveis na planta</td>\n",
       "      <td>58037030</td>\n",
       "      <td>416234.0</td>\n",
       "      <td>Venda</td>\n",
       "      <td>https://pb.olx.com.br/paraiba/imoveis/imoveis-...</td>\n",
       "    </tr>\n",
       "    <tr>\n",
       "      <th>4</th>\n",
       "      <td>imoveis exclusivos</td>\n",
       "      <td>58038142</td>\n",
       "      <td>650000.0</td>\n",
       "      <td>Venda</td>\n",
       "      <td>https://pb.olx.com.br/paraiba/imoveis/imoveis-...</td>\n",
       "    </tr>\n",
       "    <tr>\n",
       "      <th>...</th>\n",
       "      <td>...</td>\n",
       "      <td>...</td>\n",
       "      <td>...</td>\n",
       "      <td>...</td>\n",
       "      <td>...</td>\n",
       "    </tr>\n",
       "    <tr>\n",
       "      <th>445</th>\n",
       "      <td>oportunidade única em joao pessoa  pb  tipo ap...</td>\n",
       "      <td>58068103</td>\n",
       "      <td>97778.0</td>\n",
       "      <td>Venda</td>\n",
       "      <td>https://pb.olx.com.br/paraiba/imoveis/oportuni...</td>\n",
       "    </tr>\n",
       "    <tr>\n",
       "      <th>446</th>\n",
       "      <td>oportunidade única em joao pessoa  pb  tipo ap...</td>\n",
       "      <td>58066108</td>\n",
       "      <td>83135.0</td>\n",
       "      <td>Venda</td>\n",
       "      <td>https://pb.olx.com.br/paraiba/imoveis/oportuni...</td>\n",
       "    </tr>\n",
       "    <tr>\n",
       "      <th>447</th>\n",
       "      <td>oportunidade única em joao pessoa  pb  tipo ap...</td>\n",
       "      <td>58066227</td>\n",
       "      <td>66495.0</td>\n",
       "      <td>Venda</td>\n",
       "      <td>https://pb.olx.com.br/paraiba/imoveis/oportuni...</td>\n",
       "    </tr>\n",
       "    <tr>\n",
       "      <th>448</th>\n",
       "      <td>oportunidade única em joao pessoa  pb  tipo ap...</td>\n",
       "      <td>58068343</td>\n",
       "      <td>92444.0</td>\n",
       "      <td>Venda</td>\n",
       "      <td>https://pb.olx.com.br/paraiba/imoveis/oportuni...</td>\n",
       "    </tr>\n",
       "    <tr>\n",
       "      <th>449</th>\n",
       "      <td>oportunidade única em joao pessoa  pb  tipo ap...</td>\n",
       "      <td>58066217</td>\n",
       "      <td>82813.0</td>\n",
       "      <td>Venda</td>\n",
       "      <td>https://pb.olx.com.br/paraiba/imoveis/oportuni...</td>\n",
       "    </tr>\n",
       "  </tbody>\n",
       "</table>\n",
       "<p>450 rows × 5 columns</p>\n",
       "</div>"
      ],
      "text/plain": [
       "                                                 title       cep     price  \\\n",
       "0                     imóveis na planta em joão pessoa  58045010  274900.0   \n",
       "1    imóveis para repasse possuem 62 m² com 02 quar...  58068103   42000.0   \n",
       "2    vendo imóveis de alto padrão a beira mar de in...  58028530  480000.0   \n",
       "3                                    imóveis na planta  58037030  416234.0   \n",
       "4                                   imoveis exclusivos  58038142  650000.0   \n",
       "..                                                 ...       ...       ...   \n",
       "445  oportunidade única em joao pessoa  pb  tipo ap...  58068103   97778.0   \n",
       "446  oportunidade única em joao pessoa  pb  tipo ap...  58066108   83135.0   \n",
       "447  oportunidade única em joao pessoa  pb  tipo ap...  58066227   66495.0   \n",
       "448  oportunidade única em joao pessoa  pb  tipo ap...  58068343   92444.0   \n",
       "449  oportunidade única em joao pessoa  pb  tipo ap...  58066217   82813.0   \n",
       "\n",
       "    product_type                                               link  \n",
       "0          Venda  https://pb.olx.com.br/paraiba/imoveis/imoveis-...  \n",
       "1          Venda  https://pb.olx.com.br/paraiba/imoveis/imoveis-...  \n",
       "2          Venda  https://pb.olx.com.br/paraiba/imoveis/vendo-im...  \n",
       "3          Venda  https://pb.olx.com.br/paraiba/imoveis/imoveis-...  \n",
       "4          Venda  https://pb.olx.com.br/paraiba/imoveis/imoveis-...  \n",
       "..           ...                                                ...  \n",
       "445        Venda  https://pb.olx.com.br/paraiba/imoveis/oportuni...  \n",
       "446        Venda  https://pb.olx.com.br/paraiba/imoveis/oportuni...  \n",
       "447        Venda  https://pb.olx.com.br/paraiba/imoveis/oportuni...  \n",
       "448        Venda  https://pb.olx.com.br/paraiba/imoveis/oportuni...  \n",
       "449        Venda  https://pb.olx.com.br/paraiba/imoveis/oportuni...  \n",
       "\n",
       "[450 rows x 5 columns]"
      ]
     },
     "execution_count": 147,
     "metadata": {},
     "output_type": "execute_result"
    }
   ],
   "source": [
    "df.drop_duplicates(inplace = True)\n",
    "df = df.reset_index(drop = True)\n",
    "\n",
    "df"
   ]
  },
  {
   "cell_type": "code",
   "execution_count": 148,
   "id": "d918bc07-e1d4-43b6-b6a1-ae0c03b5704d",
   "metadata": {},
   "outputs": [
    {
     "data": {
      "text/plain": [
       "np.int64(0)"
      ]
     },
     "execution_count": 148,
     "metadata": {},
     "output_type": "execute_result"
    }
   ],
   "source": [
    "df.duplicated().sum()"
   ]
  },
  {
   "cell_type": "code",
   "execution_count": 149,
   "id": "1cb6014b-32a5-4b45-8f35-90c1f7e2ae7f",
   "metadata": {},
   "outputs": [
    {
     "data": {
      "text/plain": [
       "title           0\n",
       "cep             0\n",
       "price           0\n",
       "product_type    0\n",
       "link            0\n",
       "dtype: int64"
      ]
     },
     "execution_count": 149,
     "metadata": {},
     "output_type": "execute_result"
    }
   ],
   "source": [
    "df.isnull().sum()"
   ]
  },
  {
   "cell_type": "markdown",
   "id": "32deb8d9-f4e4-439e-aecd-aa9c29fca668",
   "metadata": {},
   "source": [
    "Tudo certo!"
   ]
  },
  {
   "cell_type": "markdown",
   "id": "8b51889c-4b8a-4ece-a69a-4df7a55aa29c",
   "metadata": {},
   "source": [
    "Vamos a uma análise inicial dos nossos dados:"
   ]
  },
  {
   "cell_type": "code",
   "execution_count": 150,
   "id": "32d06809-c076-47ba-820b-04df8c8d633e",
   "metadata": {},
   "outputs": [
    {
     "name": "stdout",
     "output_type": "stream",
     "text": [
      "<class 'pandas.core.frame.DataFrame'>\n",
      "RangeIndex: 450 entries, 0 to 449\n",
      "Data columns (total 5 columns):\n",
      " #   Column        Non-Null Count  Dtype  \n",
      "---  ------        --------------  -----  \n",
      " 0   title         450 non-null    object \n",
      " 1   cep           450 non-null    object \n",
      " 2   price         450 non-null    float64\n",
      " 3   product_type  450 non-null    object \n",
      " 4   link          450 non-null    object \n",
      "dtypes: float64(1), object(4)\n",
      "memory usage: 17.7+ KB\n"
     ]
    }
   ],
   "source": [
    "df.info()"
   ]
  },
  {
   "cell_type": "code",
   "execution_count": 151,
   "id": "c7fa6f02-cb57-4f67-9f7c-d844150fe069",
   "metadata": {},
   "outputs": [
    {
     "data": {
      "text/plain": [
       "title           169\n",
       "cep             247\n",
       "price           346\n",
       "product_type      2\n",
       "link            450\n",
       "dtype: int64"
      ]
     },
     "execution_count": 151,
     "metadata": {},
     "output_type": "execute_result"
    }
   ],
   "source": [
    "df.nunique()"
   ]
  },
  {
   "cell_type": "code",
   "execution_count": 152,
   "id": "63198ab9-655c-49c3-9e6b-744652e210a6",
   "metadata": {},
   "outputs": [
    {
     "data": {
      "text/plain": [
       "count    4.50e+02\n",
       "mean     6.14e+05\n",
       "std      1.14e+06\n",
       "min      8.00e+02\n",
       "25%      7.24e+04\n",
       "50%      2.79e+05\n",
       "75%      7.64e+05\n",
       "max      1.50e+07\n",
       "Name: price, dtype: float64"
      ]
     },
     "execution_count": 152,
     "metadata": {},
     "output_type": "execute_result"
    }
   ],
   "source": [
    "df['price'].describe()"
   ]
  },
  {
   "cell_type": "code",
   "execution_count": 153,
   "id": "87aebc7c-e23d-488d-b8d9-c72feeaf0134",
   "metadata": {},
   "outputs": [
    {
     "data": {
      "text/plain": [
       "cep\n",
       "58046110                   4.0%\n",
       "58037030    3.3333333333333335%\n",
       "58045010     2.888888888888889%\n",
       "58068200    2.4444444444444446%\n",
       "58080020    2.4444444444444446%\n",
       "                   ...         \n",
       "58069100    0.2222222222222222%\n",
       "58084145    0.2222222222222222%\n",
       "58066108    0.2222222222222222%\n",
       "58066227    0.2222222222222222%\n",
       "58066217    0.2222222222222222%\n",
       "Name: count, Length: 247, dtype: object"
      ]
     },
     "execution_count": 153,
     "metadata": {},
     "output_type": "execute_result"
    }
   ],
   "source": [
    "total = df['cep'].value_counts().sum()\n",
    "\n",
    "df['cep'].value_counts().apply(lambda x: f\"{(x/total) * 100}%\")"
   ]
  },
  {
   "cell_type": "markdown",
   "id": "da22d223-6426-459f-a637-4edadf2688d1",
   "metadata": {},
   "source": [
    "Notamos uma dispersão muito grande dos valores dos preços. Para melhorar a visualização, vamos fazer uma extração desses outliers:"
   ]
  },
  {
   "cell_type": "code",
   "execution_count": 154,
   "id": "dae4b9af-e741-4b30-9c1f-be7c5c9d3ed9",
   "metadata": {},
   "outputs": [],
   "source": [
    "df_numeric = df.select_dtypes(include = 'float64')"
   ]
  },
  {
   "cell_type": "code",
   "execution_count": 155,
   "id": "a60415fa-0c4b-46d6-b71f-f9e58dfe905b",
   "metadata": {},
   "outputs": [
    {
     "name": "stdout",
     "output_type": "stream",
     "text": [
      "price    691109.75\n",
      "dtype: float64\n"
     ]
    }
   ],
   "source": [
    "Q1 = df_numeric.quantile(0.25)\n",
    "Q3 = df_numeric.quantile(0.75)\n",
    "\n",
    "IQR = Q3 - Q1\n",
    "\n",
    "print(IQR)"
   ]
  },
  {
   "cell_type": "code",
   "execution_count": 162,
   "id": "e86a8f9a-b398-4b9c-a578-3aefc0d5e531",
   "metadata": {},
   "outputs": [
    {
     "name": "stdout",
     "output_type": "stream",
     "text": [
      "price   -964274.38\n",
      "dtype: float64\n",
      "price    1.80e+06\n",
      "dtype: float64\n"
     ]
    }
   ],
   "source": [
    "print(Q1 - 1.5 * IQR)\n",
    "print(Q3 + 1.5 * IQR)"
   ]
  },
  {
   "cell_type": "code",
   "execution_count": 170,
   "id": "37f39ffd-9d89-43b2-ba19-c6b8816a1c25",
   "metadata": {},
   "outputs": [],
   "source": [
    "outlier_mask = ((df_numeric < (Q1 - 1.5 * IQR)) | (df_numeric > (Q3 + 1.5 * IQR)))"
   ]
  },
  {
   "cell_type": "code",
   "execution_count": 171,
   "id": "3b6777b2-0a4a-4ad8-aa05-37cbdfc60d8c",
   "metadata": {},
   "outputs": [
    {
     "name": "stderr",
     "output_type": "stream",
     "text": [
      "/tmp/ipykernel_7379/835716349.py:1: UserWarning:\n",
      "\n",
      "Boolean Series key will be reindexed to match DataFrame index.\n",
      "\n"
     ]
    }
   ],
   "source": [
    "df_outliers = df[outlier_mask.any(axis = 1)]\n",
    "df_outliers = df_outliers.reset_index(drop = True)"
   ]
  },
  {
   "cell_type": "code",
   "execution_count": 172,
   "id": "61c4e8d5-4886-4ce0-a172-cd6c4da8101d",
   "metadata": {},
   "outputs": [
    {
     "data": {
      "text/html": [
       "<div>\n",
       "<style scoped>\n",
       "    .dataframe tbody tr th:only-of-type {\n",
       "        vertical-align: middle;\n",
       "    }\n",
       "\n",
       "    .dataframe tbody tr th {\n",
       "        vertical-align: top;\n",
       "    }\n",
       "\n",
       "    .dataframe thead th {\n",
       "        text-align: right;\n",
       "    }\n",
       "</style>\n",
       "<table border=\"1\" class=\"dataframe\">\n",
       "  <thead>\n",
       "    <tr style=\"text-align: right;\">\n",
       "      <th></th>\n",
       "      <th>title</th>\n",
       "      <th>cep</th>\n",
       "      <th>price</th>\n",
       "      <th>product_type</th>\n",
       "      <th>link</th>\n",
       "    </tr>\n",
       "  </thead>\n",
       "  <tbody>\n",
       "    <tr>\n",
       "      <th>0</th>\n",
       "      <td>apartamento em altiplano com 3 quartos vista p...</td>\n",
       "      <td>58046110</td>\n",
       "      <td>1.56e+06</td>\n",
       "      <td>Venda</td>\n",
       "      <td>https://pb.olx.com.br/paraiba/imoveis/apartame...</td>\n",
       "    </tr>\n",
       "    <tr>\n",
       "      <th>1</th>\n",
       "      <td>horizon alliance apartamento em altiplano com ...</td>\n",
       "      <td>58046110</td>\n",
       "      <td>1.20e+06</td>\n",
       "      <td>Venda</td>\n",
       "      <td>https://pb.olx.com.br/paraiba/imoveis/horizon-...</td>\n",
       "    </tr>\n",
       "    <tr>\n",
       "      <th>2</th>\n",
       "      <td>falésia apartamento beiramar na praia do seixa...</td>\n",
       "      <td>58045510</td>\n",
       "      <td>9.33e+05</td>\n",
       "      <td>Venda</td>\n",
       "      <td>https://pb.olx.com.br/paraiba/imoveis/falesia-...</td>\n",
       "    </tr>\n",
       "    <tr>\n",
       "      <th>3</th>\n",
       "      <td>joão pessoa  apartamento com 4 quartos bessa i</td>\n",
       "      <td>58035300</td>\n",
       "      <td>8.10e+05</td>\n",
       "      <td>Venda</td>\n",
       "      <td>https://pb.olx.com.br/paraiba/imoveis/joao-pes...</td>\n",
       "    </tr>\n",
       "    <tr>\n",
       "      <th>4</th>\n",
       "      <td>joão agripino  alugo apartamento alto padrão m...</td>\n",
       "      <td>58034575</td>\n",
       "      <td>7.00e+03</td>\n",
       "      <td>Aluguel</td>\n",
       "      <td>https://pb.olx.com.br/paraiba/imoveis/joao-agr...</td>\n",
       "    </tr>\n",
       "    <tr>\n",
       "      <th>5</th>\n",
       "      <td>apartamento para venda em joão pessoa bessa 2 ...</td>\n",
       "      <td>58035110</td>\n",
       "      <td>4.50e+05</td>\n",
       "      <td>Venda</td>\n",
       "      <td>https://pb.olx.com.br/paraiba/imoveis/apartame...</td>\n",
       "    </tr>\n",
       "    <tr>\n",
       "      <th>6</th>\n",
       "      <td>apartamento para venda em joão pessoa bessa 3 ...</td>\n",
       "      <td>58037603</td>\n",
       "      <td>1.30e+06</td>\n",
       "      <td>Venda</td>\n",
       "      <td>https://pb.olx.com.br/paraiba/imoveis/apartame...</td>\n",
       "    </tr>\n",
       "    <tr>\n",
       "      <th>7</th>\n",
       "      <td>apartamento para venda em joão pessoa bessa 3 ...</td>\n",
       "      <td>58036845</td>\n",
       "      <td>1.14e+06</td>\n",
       "      <td>Venda</td>\n",
       "      <td>https://pb.olx.com.br/paraiba/imoveis/apartame...</td>\n",
       "    </tr>\n",
       "    <tr>\n",
       "      <th>8</th>\n",
       "      <td>apartamento para venda em joão pessoa manaira ...</td>\n",
       "      <td>58038000</td>\n",
       "      <td>6.30e+05</td>\n",
       "      <td>Venda</td>\n",
       "      <td>https://pb.olx.com.br/paraiba/imoveis/apartame...</td>\n",
       "    </tr>\n",
       "    <tr>\n",
       "      <th>9</th>\n",
       "      <td>apartamento para venda em joão pessoa manaira ...</td>\n",
       "      <td>58038310</td>\n",
       "      <td>8.42e+05</td>\n",
       "      <td>Venda</td>\n",
       "      <td>https://pb.olx.com.br/paraiba/imoveis/apartame...</td>\n",
       "    </tr>\n",
       "    <tr>\n",
       "      <th>10</th>\n",
       "      <td>flat para venda em joão pessoa bessa 1 dormitó...</td>\n",
       "      <td>58037030</td>\n",
       "      <td>4.30e+05</td>\n",
       "      <td>Venda</td>\n",
       "      <td>https://pb.olx.com.br/paraiba/imoveis/flat-par...</td>\n",
       "    </tr>\n",
       "    <tr>\n",
       "      <th>11</th>\n",
       "      <td>apartamento para venda em joão pessoa jardim o...</td>\n",
       "      <td>58037550</td>\n",
       "      <td>5.75e+05</td>\n",
       "      <td>Venda</td>\n",
       "      <td>https://pb.olx.com.br/paraiba/imoveis/apartame...</td>\n",
       "    </tr>\n",
       "    <tr>\n",
       "      <th>12</th>\n",
       "      <td>apartamento para venda em joão pessoa altiplan...</td>\n",
       "      <td>58046335</td>\n",
       "      <td>3.75e+05</td>\n",
       "      <td>Venda</td>\n",
       "      <td>https://pb.olx.com.br/paraiba/imoveis/apartame...</td>\n",
       "    </tr>\n",
       "    <tr>\n",
       "      <th>13</th>\n",
       "      <td>cobertura para venda em joão pessoa jardim oce...</td>\n",
       "      <td>58037255</td>\n",
       "      <td>9.50e+05</td>\n",
       "      <td>Venda</td>\n",
       "      <td>https://pb.olx.com.br/paraiba/imoveis/cobertur...</td>\n",
       "    </tr>\n",
       "    <tr>\n",
       "      <th>14</th>\n",
       "      <td>apartamento para venda em joão pessoa bessa 3 ...</td>\n",
       "      <td>58035240</td>\n",
       "      <td>7.18e+05</td>\n",
       "      <td>Venda</td>\n",
       "      <td>https://pb.olx.com.br/paraiba/imoveis/apartame...</td>\n",
       "    </tr>\n",
       "    <tr>\n",
       "      <th>15</th>\n",
       "      <td>apartamento para venda em joão pessoa bessa 2 ...</td>\n",
       "      <td>58035170</td>\n",
       "      <td>5.24e+05</td>\n",
       "      <td>Venda</td>\n",
       "      <td>https://pb.olx.com.br/paraiba/imoveis/apartame...</td>\n",
       "    </tr>\n",
       "    <tr>\n",
       "      <th>16</th>\n",
       "      <td>apartamento para venda em joão pessoa tambaú 3...</td>\n",
       "      <td>58039000</td>\n",
       "      <td>5.30e+05</td>\n",
       "      <td>Venda</td>\n",
       "      <td>https://pb.olx.com.br/paraiba/imoveis/apartame...</td>\n",
       "    </tr>\n",
       "    <tr>\n",
       "      <th>17</th>\n",
       "      <td>oportunidade única em joao pessoa  pb  tipo ap...</td>\n",
       "      <td>58083110</td>\n",
       "      <td>7.44e+04</td>\n",
       "      <td>Venda</td>\n",
       "      <td>https://pb.olx.com.br/paraiba/imoveis/oportuni...</td>\n",
       "    </tr>\n",
       "    <tr>\n",
       "      <th>18</th>\n",
       "      <td>flat para venda em joão pessoa manaira 1 dormi...</td>\n",
       "      <td>58038140</td>\n",
       "      <td>3.09e+05</td>\n",
       "      <td>Venda</td>\n",
       "      <td>https://pb.olx.com.br/paraiba/imoveis/flat-par...</td>\n",
       "    </tr>\n",
       "    <tr>\n",
       "      <th>19</th>\n",
       "      <td>apartamento para venda em joão pessoa jardim o...</td>\n",
       "      <td>58037325</td>\n",
       "      <td>1.19e+06</td>\n",
       "      <td>Venda</td>\n",
       "      <td>https://pb.olx.com.br/paraiba/imoveis/apartame...</td>\n",
       "    </tr>\n",
       "    <tr>\n",
       "      <th>20</th>\n",
       "      <td>apartamento para venda em joão pessoa aeroclub...</td>\n",
       "      <td>58036002</td>\n",
       "      <td>2.75e+05</td>\n",
       "      <td>Venda</td>\n",
       "      <td>https://pb.olx.com.br/paraiba/imoveis/apartame...</td>\n",
       "    </tr>\n",
       "    <tr>\n",
       "      <th>21</th>\n",
       "      <td>apartamento para venda em joão pessoa jardim o...</td>\n",
       "      <td>58037545</td>\n",
       "      <td>4.15e+05</td>\n",
       "      <td>Venda</td>\n",
       "      <td>https://pb.olx.com.br/paraiba/imoveis/apartame...</td>\n",
       "    </tr>\n",
       "    <tr>\n",
       "      <th>22</th>\n",
       "      <td>apartamento para venda em joão pessoa bessa 3 ...</td>\n",
       "      <td>58033455</td>\n",
       "      <td>7.81e+05</td>\n",
       "      <td>Venda</td>\n",
       "      <td>https://pb.olx.com.br/paraiba/imoveis/apartame...</td>\n",
       "    </tr>\n",
       "    <tr>\n",
       "      <th>23</th>\n",
       "      <td>cobertura para venda em joão pessoa bancários ...</td>\n",
       "      <td>58051020</td>\n",
       "      <td>4.79e+05</td>\n",
       "      <td>Venda</td>\n",
       "      <td>https://pb.olx.com.br/paraiba/imoveis/cobertur...</td>\n",
       "    </tr>\n",
       "    <tr>\n",
       "      <th>24</th>\n",
       "      <td>oportunidade única em joao pessoa  pb  tipo ap...</td>\n",
       "      <td>58062079</td>\n",
       "      <td>8.61e+04</td>\n",
       "      <td>Venda</td>\n",
       "      <td>https://pb.olx.com.br/paraiba/imoveis/oportuni...</td>\n",
       "    </tr>\n",
       "    <tr>\n",
       "      <th>25</th>\n",
       "      <td>oportunidade única em joao pessoa  pb  tipo ap...</td>\n",
       "      <td>58062156</td>\n",
       "      <td>6.53e+04</td>\n",
       "      <td>Venda</td>\n",
       "      <td>https://pb.olx.com.br/paraiba/imoveis/oportuni...</td>\n",
       "    </tr>\n",
       "    <tr>\n",
       "      <th>26</th>\n",
       "      <td>oportunidade única em joao pessoa  pb  tipo ap...</td>\n",
       "      <td>58062079</td>\n",
       "      <td>9.78e+04</td>\n",
       "      <td>Venda</td>\n",
       "      <td>https://pb.olx.com.br/paraiba/imoveis/oportuni...</td>\n",
       "    </tr>\n",
       "    <tr>\n",
       "      <th>27</th>\n",
       "      <td>oportunidade única em joao pessoa  pb  tipo ap...</td>\n",
       "      <td>58069472</td>\n",
       "      <td>7.51e+04</td>\n",
       "      <td>Venda</td>\n",
       "      <td>https://pb.olx.com.br/paraiba/imoveis/oportuni...</td>\n",
       "    </tr>\n",
       "    <tr>\n",
       "      <th>28</th>\n",
       "      <td>oportunidade única em joao pessoa  pb  tipo ap...</td>\n",
       "      <td>58068200</td>\n",
       "      <td>7.51e+04</td>\n",
       "      <td>Venda</td>\n",
       "      <td>https://pb.olx.com.br/paraiba/imoveis/oportuni...</td>\n",
       "    </tr>\n",
       "    <tr>\n",
       "      <th>29</th>\n",
       "      <td>oportunidade única em joao pessoa  pb  tipo ap...</td>\n",
       "      <td>58062170</td>\n",
       "      <td>3.89e+04</td>\n",
       "      <td>Venda</td>\n",
       "      <td>https://pb.olx.com.br/paraiba/imoveis/oportuni...</td>\n",
       "    </tr>\n",
       "  </tbody>\n",
       "</table>\n",
       "</div>"
      ],
      "text/plain": [
       "                                                title       cep     price  \\\n",
       "0   apartamento em altiplano com 3 quartos vista p...  58046110  1.56e+06   \n",
       "1   horizon alliance apartamento em altiplano com ...  58046110  1.20e+06   \n",
       "2   falésia apartamento beiramar na praia do seixa...  58045510  9.33e+05   \n",
       "3      joão pessoa  apartamento com 4 quartos bessa i  58035300  8.10e+05   \n",
       "4   joão agripino  alugo apartamento alto padrão m...  58034575  7.00e+03   \n",
       "5   apartamento para venda em joão pessoa bessa 2 ...  58035110  4.50e+05   \n",
       "6   apartamento para venda em joão pessoa bessa 3 ...  58037603  1.30e+06   \n",
       "7   apartamento para venda em joão pessoa bessa 3 ...  58036845  1.14e+06   \n",
       "8   apartamento para venda em joão pessoa manaira ...  58038000  6.30e+05   \n",
       "9   apartamento para venda em joão pessoa manaira ...  58038310  8.42e+05   \n",
       "10  flat para venda em joão pessoa bessa 1 dormitó...  58037030  4.30e+05   \n",
       "11  apartamento para venda em joão pessoa jardim o...  58037550  5.75e+05   \n",
       "12  apartamento para venda em joão pessoa altiplan...  58046335  3.75e+05   \n",
       "13  cobertura para venda em joão pessoa jardim oce...  58037255  9.50e+05   \n",
       "14  apartamento para venda em joão pessoa bessa 3 ...  58035240  7.18e+05   \n",
       "15  apartamento para venda em joão pessoa bessa 2 ...  58035170  5.24e+05   \n",
       "16  apartamento para venda em joão pessoa tambaú 3...  58039000  5.30e+05   \n",
       "17  oportunidade única em joao pessoa  pb  tipo ap...  58083110  7.44e+04   \n",
       "18  flat para venda em joão pessoa manaira 1 dormi...  58038140  3.09e+05   \n",
       "19  apartamento para venda em joão pessoa jardim o...  58037325  1.19e+06   \n",
       "20  apartamento para venda em joão pessoa aeroclub...  58036002  2.75e+05   \n",
       "21  apartamento para venda em joão pessoa jardim o...  58037545  4.15e+05   \n",
       "22  apartamento para venda em joão pessoa bessa 3 ...  58033455  7.81e+05   \n",
       "23  cobertura para venda em joão pessoa bancários ...  58051020  4.79e+05   \n",
       "24  oportunidade única em joao pessoa  pb  tipo ap...  58062079  8.61e+04   \n",
       "25  oportunidade única em joao pessoa  pb  tipo ap...  58062156  6.53e+04   \n",
       "26  oportunidade única em joao pessoa  pb  tipo ap...  58062079  9.78e+04   \n",
       "27  oportunidade única em joao pessoa  pb  tipo ap...  58069472  7.51e+04   \n",
       "28  oportunidade única em joao pessoa  pb  tipo ap...  58068200  7.51e+04   \n",
       "29  oportunidade única em joao pessoa  pb  tipo ap...  58062170  3.89e+04   \n",
       "\n",
       "   product_type                                               link  \n",
       "0         Venda  https://pb.olx.com.br/paraiba/imoveis/apartame...  \n",
       "1         Venda  https://pb.olx.com.br/paraiba/imoveis/horizon-...  \n",
       "2         Venda  https://pb.olx.com.br/paraiba/imoveis/falesia-...  \n",
       "3         Venda  https://pb.olx.com.br/paraiba/imoveis/joao-pes...  \n",
       "4       Aluguel  https://pb.olx.com.br/paraiba/imoveis/joao-agr...  \n",
       "5         Venda  https://pb.olx.com.br/paraiba/imoveis/apartame...  \n",
       "6         Venda  https://pb.olx.com.br/paraiba/imoveis/apartame...  \n",
       "7         Venda  https://pb.olx.com.br/paraiba/imoveis/apartame...  \n",
       "8         Venda  https://pb.olx.com.br/paraiba/imoveis/apartame...  \n",
       "9         Venda  https://pb.olx.com.br/paraiba/imoveis/apartame...  \n",
       "10        Venda  https://pb.olx.com.br/paraiba/imoveis/flat-par...  \n",
       "11        Venda  https://pb.olx.com.br/paraiba/imoveis/apartame...  \n",
       "12        Venda  https://pb.olx.com.br/paraiba/imoveis/apartame...  \n",
       "13        Venda  https://pb.olx.com.br/paraiba/imoveis/cobertur...  \n",
       "14        Venda  https://pb.olx.com.br/paraiba/imoveis/apartame...  \n",
       "15        Venda  https://pb.olx.com.br/paraiba/imoveis/apartame...  \n",
       "16        Venda  https://pb.olx.com.br/paraiba/imoveis/apartame...  \n",
       "17        Venda  https://pb.olx.com.br/paraiba/imoveis/oportuni...  \n",
       "18        Venda  https://pb.olx.com.br/paraiba/imoveis/flat-par...  \n",
       "19        Venda  https://pb.olx.com.br/paraiba/imoveis/apartame...  \n",
       "20        Venda  https://pb.olx.com.br/paraiba/imoveis/apartame...  \n",
       "21        Venda  https://pb.olx.com.br/paraiba/imoveis/apartame...  \n",
       "22        Venda  https://pb.olx.com.br/paraiba/imoveis/apartame...  \n",
       "23        Venda  https://pb.olx.com.br/paraiba/imoveis/cobertur...  \n",
       "24        Venda  https://pb.olx.com.br/paraiba/imoveis/oportuni...  \n",
       "25        Venda  https://pb.olx.com.br/paraiba/imoveis/oportuni...  \n",
       "26        Venda  https://pb.olx.com.br/paraiba/imoveis/oportuni...  \n",
       "27        Venda  https://pb.olx.com.br/paraiba/imoveis/oportuni...  \n",
       "28        Venda  https://pb.olx.com.br/paraiba/imoveis/oportuni...  \n",
       "29        Venda  https://pb.olx.com.br/paraiba/imoveis/oportuni...  "
      ]
     },
     "execution_count": 172,
     "metadata": {},
     "output_type": "execute_result"
    }
   ],
   "source": [
    "df_outliers"
   ]
  },
  {
   "cell_type": "code",
   "execution_count": 177,
   "id": "c1ce7190-5127-4f30-bcfb-b8447f464e0b",
   "metadata": {},
   "outputs": [
    {
     "name": "stderr",
     "output_type": "stream",
     "text": [
      "/tmp/ipykernel_7379/86199651.py:1: UserWarning:\n",
      "\n",
      "Boolean Series key will be reindexed to match DataFrame index.\n",
      "\n"
     ]
    }
   ],
   "source": [
    "df = df[~outlier_mask.any(axis = 1)]\n",
    "df = df.reset_index(drop = True)"
   ]
  },
  {
   "cell_type": "code",
   "execution_count": 178,
   "id": "4ea53ccc-a95c-4452-9708-49df51db08b1",
   "metadata": {},
   "outputs": [
    {
     "data": {
      "text/html": [
       "<div>\n",
       "<style scoped>\n",
       "    .dataframe tbody tr th:only-of-type {\n",
       "        vertical-align: middle;\n",
       "    }\n",
       "\n",
       "    .dataframe tbody tr th {\n",
       "        vertical-align: top;\n",
       "    }\n",
       "\n",
       "    .dataframe thead th {\n",
       "        text-align: right;\n",
       "    }\n",
       "</style>\n",
       "<table border=\"1\" class=\"dataframe\">\n",
       "  <thead>\n",
       "    <tr style=\"text-align: right;\">\n",
       "      <th></th>\n",
       "      <th>title</th>\n",
       "      <th>cep</th>\n",
       "      <th>price</th>\n",
       "      <th>product_type</th>\n",
       "      <th>link</th>\n",
       "    </tr>\n",
       "  </thead>\n",
       "  <tbody>\n",
       "    <tr>\n",
       "      <th>0</th>\n",
       "      <td>imóveis na planta em joão pessoa</td>\n",
       "      <td>58045010</td>\n",
       "      <td>274900.0</td>\n",
       "      <td>Venda</td>\n",
       "      <td>https://pb.olx.com.br/paraiba/imoveis/imoveis-...</td>\n",
       "    </tr>\n",
       "    <tr>\n",
       "      <th>1</th>\n",
       "      <td>imóveis para repasse possuem 62 m² com 02 quar...</td>\n",
       "      <td>58068103</td>\n",
       "      <td>42000.0</td>\n",
       "      <td>Venda</td>\n",
       "      <td>https://pb.olx.com.br/paraiba/imoveis/imoveis-...</td>\n",
       "    </tr>\n",
       "    <tr>\n",
       "      <th>2</th>\n",
       "      <td>vendo imóveis de alto padrão a beira mar de in...</td>\n",
       "      <td>58028530</td>\n",
       "      <td>480000.0</td>\n",
       "      <td>Venda</td>\n",
       "      <td>https://pb.olx.com.br/paraiba/imoveis/vendo-im...</td>\n",
       "    </tr>\n",
       "    <tr>\n",
       "      <th>3</th>\n",
       "      <td>imóveis na planta</td>\n",
       "      <td>58037030</td>\n",
       "      <td>416234.0</td>\n",
       "      <td>Venda</td>\n",
       "      <td>https://pb.olx.com.br/paraiba/imoveis/imoveis-...</td>\n",
       "    </tr>\n",
       "    <tr>\n",
       "      <th>4</th>\n",
       "      <td>imoveis exclusivos</td>\n",
       "      <td>58038142</td>\n",
       "      <td>650000.0</td>\n",
       "      <td>Venda</td>\n",
       "      <td>https://pb.olx.com.br/paraiba/imoveis/imoveis-...</td>\n",
       "    </tr>\n",
       "    <tr>\n",
       "      <th>...</th>\n",
       "      <td>...</td>\n",
       "      <td>...</td>\n",
       "      <td>...</td>\n",
       "      <td>...</td>\n",
       "      <td>...</td>\n",
       "    </tr>\n",
       "    <tr>\n",
       "      <th>325</th>\n",
       "      <td>oportunidade única em joao pessoa  pb  tipo ap...</td>\n",
       "      <td>58068103</td>\n",
       "      <td>97778.0</td>\n",
       "      <td>Venda</td>\n",
       "      <td>https://pb.olx.com.br/paraiba/imoveis/oportuni...</td>\n",
       "    </tr>\n",
       "    <tr>\n",
       "      <th>326</th>\n",
       "      <td>oportunidade única em joao pessoa  pb  tipo ap...</td>\n",
       "      <td>58066108</td>\n",
       "      <td>83135.0</td>\n",
       "      <td>Venda</td>\n",
       "      <td>https://pb.olx.com.br/paraiba/imoveis/oportuni...</td>\n",
       "    </tr>\n",
       "    <tr>\n",
       "      <th>327</th>\n",
       "      <td>oportunidade única em joao pessoa  pb  tipo ap...</td>\n",
       "      <td>58066227</td>\n",
       "      <td>66495.0</td>\n",
       "      <td>Venda</td>\n",
       "      <td>https://pb.olx.com.br/paraiba/imoveis/oportuni...</td>\n",
       "    </tr>\n",
       "    <tr>\n",
       "      <th>328</th>\n",
       "      <td>oportunidade única em joao pessoa  pb  tipo ap...</td>\n",
       "      <td>58068343</td>\n",
       "      <td>92444.0</td>\n",
       "      <td>Venda</td>\n",
       "      <td>https://pb.olx.com.br/paraiba/imoveis/oportuni...</td>\n",
       "    </tr>\n",
       "    <tr>\n",
       "      <th>329</th>\n",
       "      <td>oportunidade única em joao pessoa  pb  tipo ap...</td>\n",
       "      <td>58066217</td>\n",
       "      <td>82813.0</td>\n",
       "      <td>Venda</td>\n",
       "      <td>https://pb.olx.com.br/paraiba/imoveis/oportuni...</td>\n",
       "    </tr>\n",
       "  </tbody>\n",
       "</table>\n",
       "<p>330 rows × 5 columns</p>\n",
       "</div>"
      ],
      "text/plain": [
       "                                                 title       cep     price  \\\n",
       "0                     imóveis na planta em joão pessoa  58045010  274900.0   \n",
       "1    imóveis para repasse possuem 62 m² com 02 quar...  58068103   42000.0   \n",
       "2    vendo imóveis de alto padrão a beira mar de in...  58028530  480000.0   \n",
       "3                                    imóveis na planta  58037030  416234.0   \n",
       "4                                   imoveis exclusivos  58038142  650000.0   \n",
       "..                                                 ...       ...       ...   \n",
       "325  oportunidade única em joao pessoa  pb  tipo ap...  58068103   97778.0   \n",
       "326  oportunidade única em joao pessoa  pb  tipo ap...  58066108   83135.0   \n",
       "327  oportunidade única em joao pessoa  pb  tipo ap...  58066227   66495.0   \n",
       "328  oportunidade única em joao pessoa  pb  tipo ap...  58068343   92444.0   \n",
       "329  oportunidade única em joao pessoa  pb  tipo ap...  58066217   82813.0   \n",
       "\n",
       "    product_type                                               link  \n",
       "0          Venda  https://pb.olx.com.br/paraiba/imoveis/imoveis-...  \n",
       "1          Venda  https://pb.olx.com.br/paraiba/imoveis/imoveis-...  \n",
       "2          Venda  https://pb.olx.com.br/paraiba/imoveis/vendo-im...  \n",
       "3          Venda  https://pb.olx.com.br/paraiba/imoveis/imoveis-...  \n",
       "4          Venda  https://pb.olx.com.br/paraiba/imoveis/imoveis-...  \n",
       "..           ...                                                ...  \n",
       "325        Venda  https://pb.olx.com.br/paraiba/imoveis/oportuni...  \n",
       "326        Venda  https://pb.olx.com.br/paraiba/imoveis/oportuni...  \n",
       "327        Venda  https://pb.olx.com.br/paraiba/imoveis/oportuni...  \n",
       "328        Venda  https://pb.olx.com.br/paraiba/imoveis/oportuni...  \n",
       "329        Venda  https://pb.olx.com.br/paraiba/imoveis/oportuni...  \n",
       "\n",
       "[330 rows x 5 columns]"
      ]
     },
     "execution_count": 178,
     "metadata": {},
     "output_type": "execute_result"
    }
   ],
   "source": [
    "df"
   ]
  },
  {
   "cell_type": "code",
   "execution_count": 182,
   "id": "84e062c4-31dd-4c11-9046-5a16838b1d65",
   "metadata": {},
   "outputs": [
    {
     "data": {
      "text/html": [
       "<div>\n",
       "<style scoped>\n",
       "    .dataframe tbody tr th:only-of-type {\n",
       "        vertical-align: middle;\n",
       "    }\n",
       "\n",
       "    .dataframe tbody tr th {\n",
       "        vertical-align: top;\n",
       "    }\n",
       "\n",
       "    .dataframe thead th {\n",
       "        text-align: right;\n",
       "    }\n",
       "</style>\n",
       "<table border=\"1\" class=\"dataframe\">\n",
       "  <thead>\n",
       "    <tr style=\"text-align: right;\">\n",
       "      <th></th>\n",
       "      <th>price</th>\n",
       "    </tr>\n",
       "  </thead>\n",
       "  <tbody>\n",
       "    <tr>\n",
       "      <th>count</th>\n",
       "      <td>3.30e+02</td>\n",
       "    </tr>\n",
       "    <tr>\n",
       "      <th>mean</th>\n",
       "      <td>3.53e+05</td>\n",
       "    </tr>\n",
       "    <tr>\n",
       "      <th>std</th>\n",
       "      <td>3.99e+05</td>\n",
       "    </tr>\n",
       "    <tr>\n",
       "      <th>min</th>\n",
       "      <td>8.00e+02</td>\n",
       "    </tr>\n",
       "    <tr>\n",
       "      <th>25%</th>\n",
       "      <td>7.01e+04</td>\n",
       "    </tr>\n",
       "    <tr>\n",
       "      <th>50%</th>\n",
       "      <td>8.52e+04</td>\n",
       "    </tr>\n",
       "    <tr>\n",
       "      <th>75%</th>\n",
       "      <td>6.07e+05</td>\n",
       "    </tr>\n",
       "    <tr>\n",
       "      <th>max</th>\n",
       "      <td>1.80e+06</td>\n",
       "    </tr>\n",
       "  </tbody>\n",
       "</table>\n",
       "</div>"
      ],
      "text/plain": [
       "          price\n",
       "count  3.30e+02\n",
       "mean   3.53e+05\n",
       "std    3.99e+05\n",
       "min    8.00e+02\n",
       "25%    7.01e+04\n",
       "50%    8.52e+04\n",
       "75%    6.07e+05\n",
       "max    1.80e+06"
      ]
     },
     "execution_count": 182,
     "metadata": {},
     "output_type": "execute_result"
    }
   ],
   "source": [
    "df.describe(include = 'float64')"
   ]
  },
  {
   "cell_type": "markdown",
   "id": "6c932c36-b301-45ca-96fc-25a4e118b95f",
   "metadata": {},
   "source": [
    "Vejamos quanto de nossa análise abrangeu entre vendas e aluguéis:"
   ]
  },
  {
   "cell_type": "code",
   "execution_count": 233,
   "id": "db2f4f39-3497-4f3c-8bef-4195c3db9f3c",
   "metadata": {},
   "outputs": [
    {
     "data": {
      "text/plain": [
       "product_type\n",
       "Venda      328\n",
       "Aluguel      2\n",
       "Name: count, dtype: int64"
      ]
     },
     "execution_count": 233,
     "metadata": {},
     "output_type": "execute_result"
    }
   ],
   "source": [
    "df['product_type'].value_counts()"
   ]
  },
  {
   "cell_type": "markdown",
   "id": "aaf9e82d-6676-4908-a197-a3f0093c713c",
   "metadata": {},
   "source": [
    "Para esta análise, ocupar-nos-emos das vendas apenas:"
   ]
  },
  {
   "cell_type": "code",
   "execution_count": 234,
   "id": "6a4819e4-748b-4fd3-ad3f-f7a2d5fa8e85",
   "metadata": {},
   "outputs": [],
   "source": [
    "df = df[df['product_type'] == 'Venda']"
   ]
  },
  {
   "cell_type": "markdown",
   "id": "bdadaf76-124c-451c-ae8e-6eb397671c1b",
   "metadata": {},
   "source": [
    "## 4. Visualização"
   ]
  },
  {
   "cell_type": "code",
   "execution_count": 235,
   "id": "dc3d2ad4-7ccf-4112-9f02-d23863dd8f51",
   "metadata": {},
   "outputs": [
    {
     "data": {
      "application/vnd.plotly.v1+json": {
       "config": {
        "plotlyServerURL": "https://plot.ly"
       },
       "data": [
        {
         "alignmentgroup": "True",
         "hovertemplate": "price=%{y}<extra></extra>",
         "legendgroup": "",
         "marker": {
          "color": "#636efa"
         },
         "name": "",
         "notched": false,
         "offsetgroup": "",
         "orientation": "v",
         "showlegend": false,
         "type": "box",
         "x0": " ",
         "xaxis": "x",
         "y": {
          "bdata": "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",
          "dtype": "f8"
         },
         "y0": " ",
         "yaxis": "y"
        }
       ],
       "layout": {
        "boxmode": "group",
        "legend": {
         "tracegroupgap": 0
        },
        "template": {
         "data": {
          "bar": [
           {
            "error_x": {
             "color": "#2a3f5f"
            },
            "error_y": {
             "color": "#2a3f5f"
            },
            "marker": {
             "line": {
              "color": "#E5ECF6",
              "width": 0.5
             },
             "pattern": {
              "fillmode": "overlay",
              "size": 10,
              "solidity": 0.2
             }
            },
            "type": "bar"
           }
          ],
          "barpolar": [
           {
            "marker": {
             "line": {
              "color": "#E5ECF6",
              "width": 0.5
             },
             "pattern": {
              "fillmode": "overlay",
              "size": 10,
              "solidity": 0.2
             }
            },
            "type": "barpolar"
           }
          ],
          "carpet": [
           {
            "aaxis": {
             "endlinecolor": "#2a3f5f",
             "gridcolor": "white",
             "linecolor": "white",
             "minorgridcolor": "white",
             "startlinecolor": "#2a3f5f"
            },
            "baxis": {
             "endlinecolor": "#2a3f5f",
             "gridcolor": "white",
             "linecolor": "white",
             "minorgridcolor": "white",
             "startlinecolor": "#2a3f5f"
            },
            "type": "carpet"
           }
          ],
          "choropleth": [
           {
            "colorbar": {
             "outlinewidth": 0,
             "ticks": ""
            },
            "type": "choropleth"
           }
          ],
          "contour": [
           {
            "colorbar": {
             "outlinewidth": 0,
             "ticks": ""
            },
            "colorscale": [
             [
              0,
              "#0d0887"
             ],
             [
              0.1111111111111111,
              "#46039f"
             ],
             [
              0.2222222222222222,
              "#7201a8"
             ],
             [
              0.3333333333333333,
              "#9c179e"
             ],
             [
              0.4444444444444444,
              "#bd3786"
             ],
             [
              0.5555555555555556,
              "#d8576b"
             ],
             [
              0.6666666666666666,
              "#ed7953"
             ],
             [
              0.7777777777777778,
              "#fb9f3a"
             ],
             [
              0.8888888888888888,
              "#fdca26"
             ],
             [
              1,
              "#f0f921"
             ]
            ],
            "type": "contour"
           }
          ],
          "contourcarpet": [
           {
            "colorbar": {
             "outlinewidth": 0,
             "ticks": ""
            },
            "type": "contourcarpet"
           }
          ],
          "heatmap": [
           {
            "colorbar": {
             "outlinewidth": 0,
             "ticks": ""
            },
            "colorscale": [
             [
              0,
              "#0d0887"
             ],
             [
              0.1111111111111111,
              "#46039f"
             ],
             [
              0.2222222222222222,
              "#7201a8"
             ],
             [
              0.3333333333333333,
              "#9c179e"
             ],
             [
              0.4444444444444444,
              "#bd3786"
             ],
             [
              0.5555555555555556,
              "#d8576b"
             ],
             [
              0.6666666666666666,
              "#ed7953"
             ],
             [
              0.7777777777777778,
              "#fb9f3a"
             ],
             [
              0.8888888888888888,
              "#fdca26"
             ],
             [
              1,
              "#f0f921"
             ]
            ],
            "type": "heatmap"
           }
          ],
          "histogram": [
           {
            "marker": {
             "pattern": {
              "fillmode": "overlay",
              "size": 10,
              "solidity": 0.2
             }
            },
            "type": "histogram"
           }
          ],
          "histogram2d": [
           {
            "colorbar": {
             "outlinewidth": 0,
             "ticks": ""
            },
            "colorscale": [
             [
              0,
              "#0d0887"
             ],
             [
              0.1111111111111111,
              "#46039f"
             ],
             [
              0.2222222222222222,
              "#7201a8"
             ],
             [
              0.3333333333333333,
              "#9c179e"
             ],
             [
              0.4444444444444444,
              "#bd3786"
             ],
             [
              0.5555555555555556,
              "#d8576b"
             ],
             [
              0.6666666666666666,
              "#ed7953"
             ],
             [
              0.7777777777777778,
              "#fb9f3a"
             ],
             [
              0.8888888888888888,
              "#fdca26"
             ],
             [
              1,
              "#f0f921"
             ]
            ],
            "type": "histogram2d"
           }
          ],
          "histogram2dcontour": [
           {
            "colorbar": {
             "outlinewidth": 0,
             "ticks": ""
            },
            "colorscale": [
             [
              0,
              "#0d0887"
             ],
             [
              0.1111111111111111,
              "#46039f"
             ],
             [
              0.2222222222222222,
              "#7201a8"
             ],
             [
              0.3333333333333333,
              "#9c179e"
             ],
             [
              0.4444444444444444,
              "#bd3786"
             ],
             [
              0.5555555555555556,
              "#d8576b"
             ],
             [
              0.6666666666666666,
              "#ed7953"
             ],
             [
              0.7777777777777778,
              "#fb9f3a"
             ],
             [
              0.8888888888888888,
              "#fdca26"
             ],
             [
              1,
              "#f0f921"
             ]
            ],
            "type": "histogram2dcontour"
           }
          ],
          "mesh3d": [
           {
            "colorbar": {
             "outlinewidth": 0,
             "ticks": ""
            },
            "type": "mesh3d"
           }
          ],
          "parcoords": [
           {
            "line": {
             "colorbar": {
              "outlinewidth": 0,
              "ticks": ""
             }
            },
            "type": "parcoords"
           }
          ],
          "pie": [
           {
            "automargin": true,
            "type": "pie"
           }
          ],
          "scatter": [
           {
            "fillpattern": {
             "fillmode": "overlay",
             "size": 10,
             "solidity": 0.2
            },
            "type": "scatter"
           }
          ],
          "scatter3d": [
           {
            "line": {
             "colorbar": {
              "outlinewidth": 0,
              "ticks": ""
             }
            },
            "marker": {
             "colorbar": {
              "outlinewidth": 0,
              "ticks": ""
             }
            },
            "type": "scatter3d"
           }
          ],
          "scattercarpet": [
           {
            "marker": {
             "colorbar": {
              "outlinewidth": 0,
              "ticks": ""
             }
            },
            "type": "scattercarpet"
           }
          ],
          "scattergeo": [
           {
            "marker": {
             "colorbar": {
              "outlinewidth": 0,
              "ticks": ""
             }
            },
            "type": "scattergeo"
           }
          ],
          "scattergl": [
           {
            "marker": {
             "colorbar": {
              "outlinewidth": 0,
              "ticks": ""
             }
            },
            "type": "scattergl"
           }
          ],
          "scattermap": [
           {
            "marker": {
             "colorbar": {
              "outlinewidth": 0,
              "ticks": ""
             }
            },
            "type": "scattermap"
           }
          ],
          "scattermapbox": [
           {
            "marker": {
             "colorbar": {
              "outlinewidth": 0,
              "ticks": ""
             }
            },
            "type": "scattermapbox"
           }
          ],
          "scatterpolar": [
           {
            "marker": {
             "colorbar": {
              "outlinewidth": 0,
              "ticks": ""
             }
            },
            "type": "scatterpolar"
           }
          ],
          "scatterpolargl": [
           {
            "marker": {
             "colorbar": {
              "outlinewidth": 0,
              "ticks": ""
             }
            },
            "type": "scatterpolargl"
           }
          ],
          "scatterternary": [
           {
            "marker": {
             "colorbar": {
              "outlinewidth": 0,
              "ticks": ""
             }
            },
            "type": "scatterternary"
           }
          ],
          "surface": [
           {
            "colorbar": {
             "outlinewidth": 0,
             "ticks": ""
            },
            "colorscale": [
             [
              0,
              "#0d0887"
             ],
             [
              0.1111111111111111,
              "#46039f"
             ],
             [
              0.2222222222222222,
              "#7201a8"
             ],
             [
              0.3333333333333333,
              "#9c179e"
             ],
             [
              0.4444444444444444,
              "#bd3786"
             ],
             [
              0.5555555555555556,
              "#d8576b"
             ],
             [
              0.6666666666666666,
              "#ed7953"
             ],
             [
              0.7777777777777778,
              "#fb9f3a"
             ],
             [
              0.8888888888888888,
              "#fdca26"
             ],
             [
              1,
              "#f0f921"
             ]
            ],
            "type": "surface"
           }
          ],
          "table": [
           {
            "cells": {
             "fill": {
              "color": "#EBF0F8"
             },
             "line": {
              "color": "white"
             }
            },
            "header": {
             "fill": {
              "color": "#C8D4E3"
             },
             "line": {
              "color": "white"
             }
            },
            "type": "table"
           }
          ]
         },
         "layout": {
          "annotationdefaults": {
           "arrowcolor": "#2a3f5f",
           "arrowhead": 0,
           "arrowwidth": 1
          },
          "autotypenumbers": "strict",
          "coloraxis": {
           "colorbar": {
            "outlinewidth": 0,
            "ticks": ""
           }
          },
          "colorscale": {
           "diverging": [
            [
             0,
             "#8e0152"
            ],
            [
             0.1,
             "#c51b7d"
            ],
            [
             0.2,
             "#de77ae"
            ],
            [
             0.3,
             "#f1b6da"
            ],
            [
             0.4,
             "#fde0ef"
            ],
            [
             0.5,
             "#f7f7f7"
            ],
            [
             0.6,
             "#e6f5d0"
            ],
            [
             0.7,
             "#b8e186"
            ],
            [
             0.8,
             "#7fbc41"
            ],
            [
             0.9,
             "#4d9221"
            ],
            [
             1,
             "#276419"
            ]
           ],
           "sequential": [
            [
             0,
             "#0d0887"
            ],
            [
             0.1111111111111111,
             "#46039f"
            ],
            [
             0.2222222222222222,
             "#7201a8"
            ],
            [
             0.3333333333333333,
             "#9c179e"
            ],
            [
             0.4444444444444444,
             "#bd3786"
            ],
            [
             0.5555555555555556,
             "#d8576b"
            ],
            [
             0.6666666666666666,
             "#ed7953"
            ],
            [
             0.7777777777777778,
             "#fb9f3a"
            ],
            [
             0.8888888888888888,
             "#fdca26"
            ],
            [
             1,
             "#f0f921"
            ]
           ],
           "sequentialminus": [
            [
             0,
             "#0d0887"
            ],
            [
             0.1111111111111111,
             "#46039f"
            ],
            [
             0.2222222222222222,
             "#7201a8"
            ],
            [
             0.3333333333333333,
             "#9c179e"
            ],
            [
             0.4444444444444444,
             "#bd3786"
            ],
            [
             0.5555555555555556,
             "#d8576b"
            ],
            [
             0.6666666666666666,
             "#ed7953"
            ],
            [
             0.7777777777777778,
             "#fb9f3a"
            ],
            [
             0.8888888888888888,
             "#fdca26"
            ],
            [
             1,
             "#f0f921"
            ]
           ]
          },
          "colorway": [
           "#636efa",
           "#EF553B",
           "#00cc96",
           "#ab63fa",
           "#FFA15A",
           "#19d3f3",
           "#FF6692",
           "#B6E880",
           "#FF97FF",
           "#FECB52"
          ],
          "font": {
           "color": "#2a3f5f"
          },
          "geo": {
           "bgcolor": "white",
           "lakecolor": "white",
           "landcolor": "#E5ECF6",
           "showlakes": true,
           "showland": true,
           "subunitcolor": "white"
          },
          "hoverlabel": {
           "align": "left"
          },
          "hovermode": "closest",
          "mapbox": {
           "style": "light"
          },
          "paper_bgcolor": "white",
          "plot_bgcolor": "#E5ECF6",
          "polar": {
           "angularaxis": {
            "gridcolor": "white",
            "linecolor": "white",
            "ticks": ""
           },
           "bgcolor": "#E5ECF6",
           "radialaxis": {
            "gridcolor": "white",
            "linecolor": "white",
            "ticks": ""
           }
          },
          "scene": {
           "xaxis": {
            "backgroundcolor": "#E5ECF6",
            "gridcolor": "white",
            "gridwidth": 2,
            "linecolor": "white",
            "showbackground": true,
            "ticks": "",
            "zerolinecolor": "white"
           },
           "yaxis": {
            "backgroundcolor": "#E5ECF6",
            "gridcolor": "white",
            "gridwidth": 2,
            "linecolor": "white",
            "showbackground": true,
            "ticks": "",
            "zerolinecolor": "white"
           },
           "zaxis": {
            "backgroundcolor": "#E5ECF6",
            "gridcolor": "white",
            "gridwidth": 2,
            "linecolor": "white",
            "showbackground": true,
            "ticks": "",
            "zerolinecolor": "white"
           }
          },
          "shapedefaults": {
           "line": {
            "color": "#2a3f5f"
           }
          },
          "ternary": {
           "aaxis": {
            "gridcolor": "white",
            "linecolor": "white",
            "ticks": ""
           },
           "baxis": {
            "gridcolor": "white",
            "linecolor": "white",
            "ticks": ""
           },
           "bgcolor": "#E5ECF6",
           "caxis": {
            "gridcolor": "white",
            "linecolor": "white",
            "ticks": ""
           }
          },
          "title": {
           "x": 0.05
          },
          "xaxis": {
           "automargin": true,
           "gridcolor": "white",
           "linecolor": "white",
           "ticks": "",
           "title": {
            "standoff": 15
           },
           "zerolinecolor": "white",
           "zerolinewidth": 2
          },
          "yaxis": {
           "automargin": true,
           "gridcolor": "white",
           "linecolor": "white",
           "ticks": "",
           "title": {
            "standoff": 15
           },
           "zerolinecolor": "white",
           "zerolinewidth": 2
          }
         }
        },
        "title": {
         "text": "Preços dos imóveis"
        },
        "xaxis": {
         "anchor": "y",
         "domain": [
          0,
          1
         ]
        },
        "yaxis": {
         "anchor": "x",
         "domain": [
          0,
          1
         ],
         "title": {
          "text": "Preço"
         }
        }
       }
      },
      "image/png": "[encoded data removed]"
     },
     "metadata": {},
     "output_type": "display_data"
    }
   ],
   "source": [
    "box_price = px.box(\n",
    "    df,\n",
    "    y = 'price',\n",
    "    title = 'Preços dos imóveis',\n",
    ")\n",
    "\n",
    "box_price.update_layout(\n",
    "    yaxis_title = 'Preço'\n",
    ")\n",
    "\n",
    "box_price.show()"
   ]
  },
  {
   "cell_type": "code",
   "execution_count": 267,
   "id": "6ff59eca-12b2-4716-b33c-169444222956",
   "metadata": {},
   "outputs": [
    {
     "data": {
      "application/vnd.plotly.v1+json": {
       "config": {
        "plotlyServerURL": "https://plot.ly"
       },
       "data": [
        {
         "bingroup": "x",
         "histfunc": "sum",
         "hovertemplate": "price=%{x}<br>sum of count=%{y}<extra></extra>",
         "legendgroup": "",
         "marker": {
          "color": "#636efa",
          "pattern": {
           "shape": ""
          }
         },
         "name": "",
         "nbinsx": 250,
         "orientation": "v",
         "showlegend": false,
         "type": "histogram",
         "x": {
          "bdata": "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",
          "dtype": "f8"
         },
         "xaxis": "x",
         "y": {
          "bdata": "CgcEBAQEBAQDAwMDAwMDAgICAgICAgICAgICAgICAgICAgICAgICAgICAgIBAQEBAQEBAQEBAQEBAQEBAQEBAQEBAQEBAQEBAQEBAQEBAQEBAQEBAQEBAQEBAQEBAQEBAQEBAQEBAQEBAQEBAQEBAQEBAQEBAQEBAQEBAQEBAQEBAQEBAQEBAQEBAQEBAQEBAQEBAQEBAQEBAQEBAQEBAQEBAQEBAQEBAQEBAQEBAQEBAQEBAQEBAQEBAQEBAQEBAQEBAQEBAQEBAQEBAQEBAQEBAQEBAQEBAQEBAQEBAQEBAQEBAQEBAQEBAQEBAQEBAQEBAQEBAQEBAQEB",
          "dtype": "i1"
         },
         "yaxis": "y"
        }
       ],
       "layout": {
        "barmode": "relative",
        "legend": {
         "tracegroupgap": 0
        },
        "template": {
         "data": {
          "bar": [
           {
            "error_x": {
             "color": "#2a3f5f"
            },
            "error_y": {
             "color": "#2a3f5f"
            },
            "marker": {
             "line": {
              "color": "#E5ECF6",
              "width": 0.5
             },
             "pattern": {
              "fillmode": "overlay",
              "size": 10,
              "solidity": 0.2
             }
            },
            "type": "bar"
           }
          ],
          "barpolar": [
           {
            "marker": {
             "line": {
              "color": "#E5ECF6",
              "width": 0.5
             },
             "pattern": {
              "fillmode": "overlay",
              "size": 10,
              "solidity": 0.2
             }
            },
            "type": "barpolar"
           }
          ],
          "carpet": [
           {
            "aaxis": {
             "endlinecolor": "#2a3f5f",
             "gridcolor": "white",
             "linecolor": "white",
             "minorgridcolor": "white",
             "startlinecolor": "#2a3f5f"
            },
            "baxis": {
             "endlinecolor": "#2a3f5f",
             "gridcolor": "white",
             "linecolor": "white",
             "minorgridcolor": "white",
             "startlinecolor": "#2a3f5f"
            },
            "type": "carpet"
           }
          ],
          "choropleth": [
           {
            "colorbar": {
             "outlinewidth": 0,
             "ticks": ""
            },
            "type": "choropleth"
           }
          ],
          "contour": [
           {
            "colorbar": {
             "outlinewidth": 0,
             "ticks": ""
            },
            "colorscale": [
             [
              0,
              "#0d0887"
             ],
             [
              0.1111111111111111,
              "#46039f"
             ],
             [
              0.2222222222222222,
              "#7201a8"
             ],
             [
              0.3333333333333333,
              "#9c179e"
             ],
             [
              0.4444444444444444,
              "#bd3786"
             ],
             [
              0.5555555555555556,
              "#d8576b"
             ],
             [
              0.6666666666666666,
              "#ed7953"
             ],
             [
              0.7777777777777778,
              "#fb9f3a"
             ],
             [
              0.8888888888888888,
              "#fdca26"
             ],
             [
              1,
              "#f0f921"
             ]
            ],
            "type": "contour"
           }
          ],
          "contourcarpet": [
           {
            "colorbar": {
             "outlinewidth": 0,
             "ticks": ""
            },
            "type": "contourcarpet"
           }
          ],
          "heatmap": [
           {
            "colorbar": {
             "outlinewidth": 0,
             "ticks": ""
            },
            "colorscale": [
             [
              0,
              "#0d0887"
             ],
             [
              0.1111111111111111,
              "#46039f"
             ],
             [
              0.2222222222222222,
              "#7201a8"
             ],
             [
              0.3333333333333333,
              "#9c179e"
             ],
             [
              0.4444444444444444,
              "#bd3786"
             ],
             [
              0.5555555555555556,
              "#d8576b"
             ],
             [
              0.6666666666666666,
              "#ed7953"
             ],
             [
              0.7777777777777778,
              "#fb9f3a"
             ],
             [
              0.8888888888888888,
              "#fdca26"
             ],
             [
              1,
              "#f0f921"
             ]
            ],
            "type": "heatmap"
           }
          ],
          "histogram": [
           {
            "marker": {
             "pattern": {
              "fillmode": "overlay",
              "size": 10,
              "solidity": 0.2
             }
            },
            "type": "histogram"
           }
          ],
          "histogram2d": [
           {
            "colorbar": {
             "outlinewidth": 0,
             "ticks": ""
            },
            "colorscale": [
             [
              0,
              "#0d0887"
             ],
             [
              0.1111111111111111,
              "#46039f"
             ],
             [
              0.2222222222222222,
              "#7201a8"
             ],
             [
              0.3333333333333333,
              "#9c179e"
             ],
             [
              0.4444444444444444,
              "#bd3786"
             ],
             [
              0.5555555555555556,
              "#d8576b"
             ],
             [
              0.6666666666666666,
              "#ed7953"
             ],
             [
              0.7777777777777778,
              "#fb9f3a"
             ],
             [
              0.8888888888888888,
              "#fdca26"
             ],
             [
              1,
              "#f0f921"
             ]
            ],
            "type": "histogram2d"
           }
          ],
          "histogram2dcontour": [
           {
            "colorbar": {
             "outlinewidth": 0,
             "ticks": ""
            },
            "colorscale": [
             [
              0,
              "#0d0887"
             ],
             [
              0.1111111111111111,
              "#46039f"
             ],
             [
              0.2222222222222222,
              "#7201a8"
             ],
             [
              0.3333333333333333,
              "#9c179e"
             ],
             [
              0.4444444444444444,
              "#bd3786"
             ],
             [
              0.5555555555555556,
              "#d8576b"
             ],
             [
              0.6666666666666666,
              "#ed7953"
             ],
             [
              0.7777777777777778,
              "#fb9f3a"
             ],
             [
              0.8888888888888888,
              "#fdca26"
             ],
             [
              1,
              "#f0f921"
             ]
            ],
            "type": "histogram2dcontour"
           }
          ],
          "mesh3d": [
           {
            "colorbar": {
             "outlinewidth": 0,
             "ticks": ""
            },
            "type": "mesh3d"
           }
          ],
          "parcoords": [
           {
            "line": {
             "colorbar": {
              "outlinewidth": 0,
              "ticks": ""
             }
            },
            "type": "parcoords"
           }
          ],
          "pie": [
           {
            "automargin": true,
            "type": "pie"
           }
          ],
          "scatter": [
           {
            "fillpattern": {
             "fillmode": "overlay",
             "size": 10,
             "solidity": 0.2
            },
            "type": "scatter"
           }
          ],
          "scatter3d": [
           {
            "line": {
             "colorbar": {
              "outlinewidth": 0,
              "ticks": ""
             }
            },
            "marker": {
             "colorbar": {
              "outlinewidth": 0,
              "ticks": ""
             }
            },
            "type": "scatter3d"
           }
          ],
          "scattercarpet": [
           {
            "marker": {
             "colorbar": {
              "outlinewidth": 0,
              "ticks": ""
             }
            },
            "type": "scattercarpet"
           }
          ],
          "scattergeo": [
           {
            "marker": {
             "colorbar": {
              "outlinewidth": 0,
              "ticks": ""
             }
            },
            "type": "scattergeo"
           }
          ],
          "scattergl": [
           {
            "marker": {
             "colorbar": {
              "outlinewidth": 0,
              "ticks": ""
             }
            },
            "type": "scattergl"
           }
          ],
          "scattermap": [
           {
            "marker": {
             "colorbar": {
              "outlinewidth": 0,
              "ticks": ""
             }
            },
            "type": "scattermap"
           }
          ],
          "scattermapbox": [
           {
            "marker": {
             "colorbar": {
              "outlinewidth": 0,
              "ticks": ""
             }
            },
            "type": "scattermapbox"
           }
          ],
          "scatterpolar": [
           {
            "marker": {
             "colorbar": {
              "outlinewidth": 0,
              "ticks": ""
             }
            },
            "type": "scatterpolar"
           }
          ],
          "scatterpolargl": [
           {
            "marker": {
             "colorbar": {
              "outlinewidth": 0,
              "ticks": ""
             }
            },
            "type": "scatterpolargl"
           }
          ],
          "scatterternary": [
           {
            "marker": {
             "colorbar": {
              "outlinewidth": 0,
              "ticks": ""
             }
            },
            "type": "scatterternary"
           }
          ],
          "surface": [
           {
            "colorbar": {
             "outlinewidth": 0,
             "ticks": ""
            },
            "colorscale": [
             [
              0,
              "#0d0887"
             ],
             [
              0.1111111111111111,
              "#46039f"
             ],
             [
              0.2222222222222222,
              "#7201a8"
             ],
             [
              0.3333333333333333,
              "#9c179e"
             ],
             [
              0.4444444444444444,
              "#bd3786"
             ],
             [
              0.5555555555555556,
              "#d8576b"
             ],
             [
              0.6666666666666666,
              "#ed7953"
             ],
             [
              0.7777777777777778,
              "#fb9f3a"
             ],
             [
              0.8888888888888888,
              "#fdca26"
             ],
             [
              1,
              "#f0f921"
             ]
            ],
            "type": "surface"
           }
          ],
          "table": [
           {
            "cells": {
             "fill": {
              "color": "#EBF0F8"
             },
             "line": {
              "color": "white"
             }
            },
            "header": {
             "fill": {
              "color": "#C8D4E3"
             },
             "line": {
              "color": "white"
             }
            },
            "type": "table"
           }
          ]
         },
         "layout": {
          "annotationdefaults": {
           "arrowcolor": "#2a3f5f",
           "arrowhead": 0,
           "arrowwidth": 1
          },
          "autotypenumbers": "strict",
          "coloraxis": {
           "colorbar": {
            "outlinewidth": 0,
            "ticks": ""
           }
          },
          "colorscale": {
           "diverging": [
            [
             0,
             "#8e0152"
            ],
            [
             0.1,
             "#c51b7d"
            ],
            [
             0.2,
             "#de77ae"
            ],
            [
             0.3,
             "#f1b6da"
            ],
            [
             0.4,
             "#fde0ef"
            ],
            [
             0.5,
             "#f7f7f7"
            ],
            [
             0.6,
             "#e6f5d0"
            ],
            [
             0.7,
             "#b8e186"
            ],
            [
             0.8,
             "#7fbc41"
            ],
            [
             0.9,
             "#4d9221"
            ],
            [
             1,
             "#276419"
            ]
           ],
           "sequential": [
            [
             0,
             "#0d0887"
            ],
            [
             0.1111111111111111,
             "#46039f"
            ],
            [
             0.2222222222222222,
             "#7201a8"
            ],
            [
             0.3333333333333333,
             "#9c179e"
            ],
            [
             0.4444444444444444,
             "#bd3786"
            ],
            [
             0.5555555555555556,
             "#d8576b"
            ],
            [
             0.6666666666666666,
             "#ed7953"
            ],
            [
             0.7777777777777778,
             "#fb9f3a"
            ],
            [
             0.8888888888888888,
             "#fdca26"
            ],
            [
             1,
             "#f0f921"
            ]
           ],
           "sequentialminus": [
            [
             0,
             "#0d0887"
            ],
            [
             0.1111111111111111,
             "#46039f"
            ],
            [
             0.2222222222222222,
             "#7201a8"
            ],
            [
             0.3333333333333333,
             "#9c179e"
            ],
            [
             0.4444444444444444,
             "#bd3786"
            ],
            [
             0.5555555555555556,
             "#d8576b"
            ],
            [
             0.6666666666666666,
             "#ed7953"
            ],
            [
             0.7777777777777778,
             "#fb9f3a"
            ],
            [
             0.8888888888888888,
             "#fdca26"
            ],
            [
             1,
             "#f0f921"
            ]
           ]
          },
          "colorway": [
           "#636efa",
           "#EF553B",
           "#00cc96",
           "#ab63fa",
           "#FFA15A",
           "#19d3f3",
           "#FF6692",
           "#B6E880",
           "#FF97FF",
           "#FECB52"
          ],
          "font": {
           "color": "#2a3f5f"
          },
          "geo": {
           "bgcolor": "white",
           "lakecolor": "white",
           "landcolor": "#E5ECF6",
           "showlakes": true,
           "showland": true,
           "subunitcolor": "white"
          },
          "hoverlabel": {
           "align": "left"
          },
          "hovermode": "closest",
          "mapbox": {
           "style": "light"
          },
          "paper_bgcolor": "white",
          "plot_bgcolor": "#E5ECF6",
          "polar": {
           "angularaxis": {
            "gridcolor": "white",
            "linecolor": "white",
            "ticks": ""
           },
           "bgcolor": "#E5ECF6",
           "radialaxis": {
            "gridcolor": "white",
            "linecolor": "white",
            "ticks": ""
           }
          },
          "scene": {
           "xaxis": {
            "backgroundcolor": "#E5ECF6",
            "gridcolor": "white",
            "gridwidth": 2,
            "linecolor": "white",
            "showbackground": true,
            "ticks": "",
            "zerolinecolor": "white"
           },
           "yaxis": {
            "backgroundcolor": "#E5ECF6",
            "gridcolor": "white",
            "gridwidth": 2,
            "linecolor": "white",
            "showbackground": true,
            "ticks": "",
            "zerolinecolor": "white"
           },
           "zaxis": {
            "backgroundcolor": "#E5ECF6",
            "gridcolor": "white",
            "gridwidth": 2,
            "linecolor": "white",
            "showbackground": true,
            "ticks": "",
            "zerolinecolor": "white"
           }
          },
          "shapedefaults": {
           "line": {
            "color": "#2a3f5f"
           }
          },
          "ternary": {
           "aaxis": {
            "gridcolor": "white",
            "linecolor": "white",
            "ticks": ""
           },
           "baxis": {
            "gridcolor": "white",
            "linecolor": "white",
            "ticks": ""
           },
           "bgcolor": "#E5ECF6",
           "caxis": {
            "gridcolor": "white",
            "linecolor": "white",
            "ticks": ""
           }
          },
          "title": {
           "x": 0.05
          },
          "xaxis": {
           "automargin": true,
           "gridcolor": "white",
           "linecolor": "white",
           "ticks": "",
           "title": {
            "standoff": 15
           },
           "zerolinecolor": "white",
           "zerolinewidth": 2
          },
          "yaxis": {
           "automargin": true,
           "gridcolor": "white",
           "linecolor": "white",
           "ticks": "",
           "title": {
            "standoff": 15
           },
           "zerolinecolor": "white",
           "zerolinewidth": 2
          }
         }
        },
        "title": {
         "text": "Preços dos imóveis"
        },
        "xaxis": {
         "anchor": "y",
         "domain": [
          0,
          1
         ],
         "range": [
          0,
          500000
         ],
         "title": {
          "text": "Preço"
         }
        },
        "yaxis": {
         "anchor": "x",
         "domain": [
          0,
          1
         ],
         "title": {
          "text": "Contagem"
         }
        }
       }
      },
      "image/png": "[encoded data removed]"
     },
     "metadata": {},
     "output_type": "display_data"
    }
   ],
   "source": [
    "hist_price = px.histogram(\n",
    "    df['price'].value_counts().reset_index(),\n",
    "    x = 'price',\n",
    "    y = 'count',\n",
    "    nbins = 250,\n",
    "    title = 'Preços dos imóveis',\n",
    ")\n",
    "\n",
    "hist_price.update_layout(\n",
    "    xaxis_range = [30000, 500000],\n",
    "    xaxis_title = 'Preço',\n",
    "    yaxis_title = 'Contagem'\n",
    ")\n",
    "\n",
    "hist_price.show()"
   ]
  },
  {
   "cell_type": "code",
   "execution_count": 268,
   "id": "af4f856d-3887-4ff2-af54-a23e797bec69",
   "metadata": {},
   "outputs": [
    {
     "data": {
      "text/html": [
       "<div>\n",
       "<style scoped>\n",
       "    .dataframe tbody tr th:only-of-type {\n",
       "        vertical-align: middle;\n",
       "    }\n",
       "\n",
       "    .dataframe tbody tr th {\n",
       "        vertical-align: top;\n",
       "    }\n",
       "\n",
       "    .dataframe thead th {\n",
       "        text-align: right;\n",
       "    }\n",
       "</style>\n",
       "<table border=\"1\" class=\"dataframe\">\n",
       "  <thead>\n",
       "    <tr style=\"text-align: right;\">\n",
       "      <th></th>\n",
       "      <th>title</th>\n",
       "      <th>cep</th>\n",
       "      <th>price</th>\n",
       "      <th>product_type</th>\n",
       "      <th>link</th>\n",
       "    </tr>\n",
       "  </thead>\n",
       "  <tbody>\n",
       "    <tr>\n",
       "      <th>40</th>\n",
       "      <td>flat para venda em joão pessoa bessa 1 dormitó...</td>\n",
       "      <td>58035440</td>\n",
       "      <td>279566.0</td>\n",
       "      <td>Venda</td>\n",
       "      <td>https://pb.olx.com.br/paraiba/imoveis/flat-par...</td>\n",
       "    </tr>\n",
       "    <tr>\n",
       "      <th>15</th>\n",
       "      <td>joão pessoa flat r 279 mil</td>\n",
       "      <td>58042000</td>\n",
       "      <td>279000.0</td>\n",
       "      <td>Venda</td>\n",
       "      <td>https://pb.olx.com.br/paraiba/imoveis/joao-pes...</td>\n",
       "    </tr>\n",
       "    <tr>\n",
       "      <th>0</th>\n",
       "      <td>imóveis na planta em joão pessoa</td>\n",
       "      <td>58045010</td>\n",
       "      <td>274900.0</td>\n",
       "      <td>Venda</td>\n",
       "      <td>https://pb.olx.com.br/paraiba/imoveis/imoveis-...</td>\n",
       "    </tr>\n",
       "    <tr>\n",
       "      <th>6</th>\n",
       "      <td>apartamentos para venda  vários imóveis</td>\n",
       "      <td>58075020</td>\n",
       "      <td>250000.0</td>\n",
       "      <td>Venda</td>\n",
       "      <td>https://pb.olx.com.br/paraiba/imoveis/apartame...</td>\n",
       "    </tr>\n",
       "    <tr>\n",
       "      <th>231</th>\n",
       "      <td>oportunidade única em joao pessoa  pb  tipo ap...</td>\n",
       "      <td>58052395</td>\n",
       "      <td>152955.0</td>\n",
       "      <td>Venda</td>\n",
       "      <td>https://pb.olx.com.br/paraiba/imoveis/oportuni...</td>\n",
       "    </tr>\n",
       "    <tr>\n",
       "      <th>...</th>\n",
       "      <td>...</td>\n",
       "      <td>...</td>\n",
       "      <td>...</td>\n",
       "      <td>...</td>\n",
       "      <td>...</td>\n",
       "    </tr>\n",
       "    <tr>\n",
       "      <th>56</th>\n",
       "      <td>oportunidade única em joao pessoa  pb  tipo ap...</td>\n",
       "      <td>58080020</td>\n",
       "      <td>38946.0</td>\n",
       "      <td>Venda</td>\n",
       "      <td>https://pb.olx.com.br/paraiba/imoveis/oportuni...</td>\n",
       "    </tr>\n",
       "    <tr>\n",
       "      <th>55</th>\n",
       "      <td>oportunidade única em joao pessoa  pb  tipo ap...</td>\n",
       "      <td>58080020</td>\n",
       "      <td>37573.0</td>\n",
       "      <td>Venda</td>\n",
       "      <td>https://pb.olx.com.br/paraiba/imoveis/oportuni...</td>\n",
       "    </tr>\n",
       "    <tr>\n",
       "      <th>292</th>\n",
       "      <td>oportunidade única em joao pessoa  pb  tipo ap...</td>\n",
       "      <td>58083095</td>\n",
       "      <td>35526.0</td>\n",
       "      <td>Venda</td>\n",
       "      <td>https://pb.olx.com.br/paraiba/imoveis/oportuni...</td>\n",
       "    </tr>\n",
       "    <tr>\n",
       "      <th>155</th>\n",
       "      <td>oportunidade única em joao pessoa  pb  tipo ap...</td>\n",
       "      <td>58083519</td>\n",
       "      <td>33554.0</td>\n",
       "      <td>Venda</td>\n",
       "      <td>https://pb.olx.com.br/paraiba/imoveis/oportuni...</td>\n",
       "    </tr>\n",
       "    <tr>\n",
       "      <th>186</th>\n",
       "      <td>oportunidade única em joao pessoa  pb  tipo ap...</td>\n",
       "      <td>58065120</td>\n",
       "      <td>30259.0</td>\n",
       "      <td>Venda</td>\n",
       "      <td>https://pb.olx.com.br/paraiba/imoveis/oportuni...</td>\n",
       "    </tr>\n",
       "  </tbody>\n",
       "</table>\n",
       "<p>195 rows × 5 columns</p>\n",
       "</div>"
      ],
      "text/plain": [
       "                                                 title       cep     price  \\\n",
       "40   flat para venda em joão pessoa bessa 1 dormitó...  58035440  279566.0   \n",
       "15                          joão pessoa flat r 279 mil  58042000  279000.0   \n",
       "0                     imóveis na planta em joão pessoa  58045010  274900.0   \n",
       "6              apartamentos para venda  vários imóveis  58075020  250000.0   \n",
       "231  oportunidade única em joao pessoa  pb  tipo ap...  58052395  152955.0   \n",
       "..                                                 ...       ...       ...   \n",
       "56   oportunidade única em joao pessoa  pb  tipo ap...  58080020   38946.0   \n",
       "55   oportunidade única em joao pessoa  pb  tipo ap...  58080020   37573.0   \n",
       "292  oportunidade única em joao pessoa  pb  tipo ap...  58083095   35526.0   \n",
       "155  oportunidade única em joao pessoa  pb  tipo ap...  58083519   33554.0   \n",
       "186  oportunidade única em joao pessoa  pb  tipo ap...  58065120   30259.0   \n",
       "\n",
       "    product_type                                               link  \n",
       "40         Venda  https://pb.olx.com.br/paraiba/imoveis/flat-par...  \n",
       "15         Venda  https://pb.olx.com.br/paraiba/imoveis/joao-pes...  \n",
       "0          Venda  https://pb.olx.com.br/paraiba/imoveis/imoveis-...  \n",
       "6          Venda  https://pb.olx.com.br/paraiba/imoveis/apartame...  \n",
       "231        Venda  https://pb.olx.com.br/paraiba/imoveis/oportuni...  \n",
       "..           ...                                                ...  \n",
       "56         Venda  https://pb.olx.com.br/paraiba/imoveis/oportuni...  \n",
       "55         Venda  https://pb.olx.com.br/paraiba/imoveis/oportuni...  \n",
       "292        Venda  https://pb.olx.com.br/paraiba/imoveis/oportuni...  \n",
       "155        Venda  https://pb.olx.com.br/paraiba/imoveis/oportuni...  \n",
       "186        Venda  https://pb.olx.com.br/paraiba/imoveis/oportuni...  \n",
       "\n",
       "[195 rows x 5 columns]"
      ]
     },
     "execution_count": 268,
     "metadata": {},
     "output_type": "execute_result"
    }
   ],
   "source": [
    "df[df['price'] < 280000].sort_values(by = 'price', ascending = False)"
   ]
  },
  {
   "cell_type": "code",
   "execution_count": 273,
   "id": "ed147b97-34d8-483e-8866-fb38c9b2ea2a",
   "metadata": {},
   "outputs": [
    {
     "data": {
      "text/plain": [
       "'https://pb.olx.com.br/paraiba/imoveis/joao-pessoa-flat-r-279-mil-1407247897'"
      ]
     },
     "execution_count": 273,
     "metadata": {},
     "output_type": "execute_result"
    }
   ],
   "source": [
    "df[df['price'] == 279000].iloc[0]['link']"
   ]
  },
  {
   "cell_type": "code",
   "execution_count": null,
   "id": "0888b0f5-0c3a-4579-8d7b-1d4f83382771",
   "metadata": {},
   "outputs": [],
   "source": []
  }
 ],
 "metadata": {
  "kernelspec": {
   "display_name": "Python 3 (ipykernel)",
   "language": "python",
   "name": "python3"
  },
  "language_info": {
   "codemirror_mode": {
    "name": "ipython",
    "version": 3
   },
   "file_extension": ".py",
   "mimetype": "text/x-python",
   "name": "python",
   "nbconvert_exporter": "python",
   "pygments_lexer": "ipython3",
   "version": "3.10.18"
  }
 },
 "nbformat": 4,
 "nbformat_minor": 5
}
